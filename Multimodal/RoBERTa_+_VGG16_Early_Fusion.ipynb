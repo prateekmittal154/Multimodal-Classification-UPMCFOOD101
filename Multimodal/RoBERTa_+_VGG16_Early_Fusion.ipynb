{
  "cells": [
    {
      "cell_type": "code",
      "execution_count": 1,
      "metadata": {
        "id": "PIfkLx5mUKeM"
      },
      "outputs": [],
      "source": [
        "# Import all necessary libraries\n",
        "try:\n",
        "    %tensorflow_version 2.x\n",
        "except Exception:\n",
        "    pass\n",
        "import tensorflow as tf\n",
        "import tensorflow_hub as hub\n",
        "from tensorflow.keras import layers\n",
        "from tensorflow.keras import callbacks\n",
        "from tensorflow.keras import optimizers\n",
        "from tensorflow.keras import utils\n",
        "from tensorflow.keras import models\n",
        "from tensorflow.keras.preprocessing.image import ImageDataGenerator \n",
        "from tensorflow.keras import applications\n",
        "from tensorflow.keras.regularizers import l2, l1\n",
        "\n",
        "from sklearn.preprocessing import LabelEncoder\n",
        "from sklearn.model_selection import train_test_split\n",
        "from sklearn.utils import shuffle\n",
        "from sklearn.metrics import confusion_matrix"
      ]
    },
    {
      "cell_type": "code",
      "execution_count": 2,
      "metadata": {
        "colab": {
          "base_uri": "https://localhost:8080/"
        },
        "id": "mQ26u5FZUWno",
        "outputId": "4c8616a1-4c2b-40db-a578-f28a7fb36b5f"
      },
      "outputs": [
        {
          "output_type": "stream",
          "name": "stdout",
          "text": [
            "Looking in indexes: https://pypi.org/simple, https://us-python.pkg.dev/colab-wheels/public/simple/\n",
            "Requirement already satisfied: transformers in /usr/local/lib/python3.7/dist-packages (4.20.1)\n",
            "Requirement already satisfied: requests in /usr/local/lib/python3.7/dist-packages (from transformers) (2.23.0)\n",
            "Requirement already satisfied: importlib-metadata in /usr/local/lib/python3.7/dist-packages (from transformers) (4.11.4)\n",
            "Requirement already satisfied: packaging>=20.0 in /usr/local/lib/python3.7/dist-packages (from transformers) (21.3)\n",
            "Requirement already satisfied: huggingface-hub<1.0,>=0.1.0 in /usr/local/lib/python3.7/dist-packages (from transformers) (0.8.1)\n",
            "Requirement already satisfied: filelock in /usr/local/lib/python3.7/dist-packages (from transformers) (3.7.1)\n",
            "Requirement already satisfied: numpy>=1.17 in /usr/local/lib/python3.7/dist-packages (from transformers) (1.21.6)\n",
            "Requirement already satisfied: regex!=2019.12.17 in /usr/local/lib/python3.7/dist-packages (from transformers) (2022.6.2)\n",
            "Requirement already satisfied: pyyaml>=5.1 in /usr/local/lib/python3.7/dist-packages (from transformers) (6.0)\n",
            "Requirement already satisfied: tqdm>=4.27 in /usr/local/lib/python3.7/dist-packages (from transformers) (4.64.0)\n",
            "Requirement already satisfied: tokenizers!=0.11.3,<0.13,>=0.11.1 in /usr/local/lib/python3.7/dist-packages (from transformers) (0.12.1)\n",
            "Requirement already satisfied: typing-extensions>=3.7.4.3 in /usr/local/lib/python3.7/dist-packages (from huggingface-hub<1.0,>=0.1.0->transformers) (4.1.1)\n",
            "Requirement already satisfied: pyparsing!=3.0.5,>=2.0.2 in /usr/local/lib/python3.7/dist-packages (from packaging>=20.0->transformers) (3.0.9)\n",
            "Requirement already satisfied: zipp>=0.5 in /usr/local/lib/python3.7/dist-packages (from importlib-metadata->transformers) (3.8.0)\n",
            "Requirement already satisfied: urllib3!=1.25.0,!=1.25.1,<1.26,>=1.21.1 in /usr/local/lib/python3.7/dist-packages (from requests->transformers) (1.24.3)\n",
            "Requirement already satisfied: idna<3,>=2.5 in /usr/local/lib/python3.7/dist-packages (from requests->transformers) (2.10)\n",
            "Requirement already satisfied: certifi>=2017.4.17 in /usr/local/lib/python3.7/dist-packages (from requests->transformers) (2022.6.15)\n",
            "Requirement already satisfied: chardet<4,>=3.0.2 in /usr/local/lib/python3.7/dist-packages (from requests->transformers) (3.0.4)\n"
          ]
        }
      ],
      "source": [
        "!pip install transformers"
      ]
    },
    {
      "cell_type": "code",
      "execution_count": 3,
      "metadata": {
        "colab": {
          "base_uri": "https://localhost:8080/"
        },
        "id": "XNKIJXVQUZZd",
        "outputId": "85641c8b-f216-4edd-84ce-7384942a52ab"
      },
      "outputs": [
        {
          "output_type": "stream",
          "name": "stdout",
          "text": [
            "Drive already mounted at /content/drive; to attempt to forcibly remount, call drive.mount(\"/content/drive\", force_remount=True).\n"
          ]
        }
      ],
      "source": [
        "from google.colab import drive\n",
        "drive.mount('/content/drive')"
      ]
    },
    {
      "cell_type": "code",
      "execution_count": 4,
      "metadata": {
        "id": "qGMQm8D2Ua-y"
      },
      "outputs": [],
      "source": [
        "import numpy as np\n",
        "import regex as re\n",
        "import pandas as pd\n",
        "import matplotlib.pyplot as plt\n",
        "import seaborn as sns\n",
        "import statistics\n",
        "import math\n",
        "import os\n",
        "\n",
        "from sklearn.model_selection import StratifiedKFold\n",
        "from sklearn.metrics import accuracy_score\n",
        "from sklearn.model_selection import train_test_split\n",
        "\n",
        "import tensorflow as tf\n",
        "import tensorflow.keras.backend as K\n",
        "import transformers\n",
        "from transformers import RobertaTokenizer, TFRobertaModel\n",
        "\n",
        "from collections import Counter\n",
        "\n",
        "import warnings\n",
        "warnings.filterwarnings(\"ignore\")"
      ]
    },
    {
      "cell_type": "code",
      "execution_count": 5,
      "metadata": {
        "colab": {
          "base_uri": "https://localhost:8080/"
        },
        "id": "o9PNUvVpUe0a",
        "outputId": "97947865-ee60-4c3c-cd47-400a608d14ce"
      },
      "outputs": [
        {
          "output_type": "stream",
          "name": "stdout",
          "text": [
            "1375\n"
          ]
        }
      ],
      "source": [
        "# Import the training and test .csv files\n",
        "import pandas as pd\n",
        "colnames=['image_path', 'text', 'food']\n",
        "train = pd.read_csv('/content/drive/MyDrive/Fusion/train_titles.csv', names=colnames, header=None, sep = ',', index_col=['image_path'])\n",
        "test = pd.read_csv('/content/drive/MyDrive/Fusion/test_titles.csv', names=colnames, header=None, sep = ',', index_col=['image_path'])\n",
        "print(test.shape[0])"
      ]
    },
    {
      "cell_type": "code",
      "execution_count": 6,
      "metadata": {
        "colab": {
          "base_uri": "https://localhost:8080/"
        },
        "id": "fBeS8qWpUhu5",
        "outputId": "a7681f45-3be5-4e7b-9a9e-4efe7ce426b1"
      },
      "outputs": [
        {
          "output_type": "stream",
          "name": "stdout",
          "text": [
            "1375\n"
          ]
        }
      ],
      "source": [
        "# Sort values by 'image_path'\n",
        "test = test.sort_values('image_path')\n",
        "print(test.shape[0])\n",
        "train = train.sort_values('image_path')"
      ]
    },
    {
      "cell_type": "code",
      "execution_count": 7,
      "metadata": {
        "id": "-VND0BxTXa0r"
      },
      "outputs": [],
      "source": [
        "import numpy as np \n",
        "import glob\n",
        "import os\n",
        "\n",
        "def get_missing(file, df):\n",
        "  parts = file.split(os.sep)\n",
        "  #print(parts)\n",
        "  idx = parts[-1]\n",
        "  #print(idx)\n",
        "  cls = parts[-2]  \n",
        "  #print(cls)\n",
        "  indexes = df[:,0]\n",
        "  #print(indexes)\n",
        "  classes = df[:,2]\n",
        "  #print(classes)\n",
        "  \n",
        " \n",
        "  if idx in indexes:\n",
        "    text = df[idx == indexes][0,1]\n",
        "    return pd.NA, pd.NA, pd.NA\n",
        "  \n",
        "  else:\n",
        "    text = df[cls == classes][:,1]\n",
        "    return idx, text, cls   \n",
        "  #print(idx)\n",
        "vec_get_missing = np.vectorize(get_missing, signature='(),(m,n)->(),(),()')  "
      ]
    },
    {
      "cell_type": "code",
      "execution_count": 8,
      "metadata": {
        "id": "xvaz5WtIMq_1"
      },
      "outputs": [],
      "source": [
        "# Function for images loading\n",
        "from sklearn.utils import shuffle\n",
        "\n",
        "def add_not_found(path, df):\n",
        "  files = glob.glob(path)\n",
        "  df = df.reset_index()\n",
        "  idxs, texts, cls = vec_get_missing(files, df.values)\n",
        "  #print(df.values)\n",
        "  found = pd.DataFrame({\"text\": texts,\n",
        "                        \"food\": cls,\n",
        "                       \"image_path\": idxs})\n",
        "  #print(idxs)\n",
        "  na = found.isna().sum().values[0]\n",
        " # print(na)\n",
        "  if na<found.shape[0]:\n",
        "    df = df.append(found)\n",
        "  df = df.drop_duplicates(subset='image_path', keep='first').dropna()\n",
        "  df = df.set_index('image_path')\n",
        "  df = shuffle(df, random_state = 0)\n",
        "  return df      "
      ]
    },
    {
      "cell_type": "code",
      "execution_count": 9,
      "metadata": {
        "id": "G7HFuqcgNEnF"
      },
      "outputs": [],
      "source": [
        "from tensorflow.keras.preprocessing.image import ImageDataGenerator\n",
        "\n",
        "train_datagen = ImageDataGenerator(rescale = 1./255,\n",
        "                                   shear_range = 0.2,\n",
        "                                   zoom_range = 0.2,\n",
        "                                   horizontal_flip = True)\n",
        "\n",
        "test_datagen = ImageDataGenerator(rescale = 1./255)"
      ]
    },
    {
      "cell_type": "code",
      "execution_count": 9,
      "metadata": {
        "id": "LjITbvuxUjaH"
      },
      "outputs": [],
      "source": [
        ""
      ]
    },
    {
      "cell_type": "code",
      "execution_count": 10,
      "metadata": {
        "colab": {
          "base_uri": "https://localhost:8080/"
        },
        "id": "gmypCRtHKHxC",
        "outputId": "9810b0b2-195c-4015-b086-63e2bfe7e676"
      },
      "outputs": [
        {
          "output_type": "stream",
          "name": "stdout",
          "text": [
            "Found 4117 images belonging to 6 classes.\n",
            "Found 1375 images belonging to 6 classes.\n"
          ]
        }
      ],
      "source": [
        "training_set = train_datagen.flow_from_directory('/content/drive/MyDrive/Fusion/Dataset/train',\n",
        "                                                 target_size = (224, 224),\n",
        "                                                 batch_size = 32,\n",
        "                                                 class_mode = 'categorical')\n",
        "\n",
        "testing_set = test_datagen.flow_from_directory('/content/drive/MyDrive/Fusion/Dataset/test',\n",
        "                                                 target_size = (224, 224),\n",
        "                                                 batch_size = 32,\n",
        "                                                 class_mode = 'categorical')"
      ]
    },
    {
      "cell_type": "code",
      "execution_count": 11,
      "metadata": {
        "id": "eEWvW-NwUz_n"
      },
      "outputs": [],
      "source": [
        "tokenizer = RobertaTokenizer.from_pretrained('roberta-base')"
      ]
    },
    {
      "cell_type": "code",
      "execution_count": 12,
      "metadata": {
        "id": "5Q2bM3o87ZGF"
      },
      "outputs": [],
      "source": [
        "nClasses = train.food.nunique()"
      ]
    },
    {
      "cell_type": "code",
      "execution_count": 13,
      "metadata": {
        "id": "onVvPtpKU8jG"
      },
      "outputs": [],
      "source": [
        "MAX_LEN= 50"
      ]
    },
    {
      "cell_type": "code",
      "execution_count": 14,
      "metadata": {
        "id": "AVd3INJpu1N9"
      },
      "outputs": [],
      "source": [
        "# Preprocessing of texts according to BERT +\n",
        "# Cleaning of the texts\n",
        "import urllib.request\n",
        "import re\n",
        "import numpy as np\n",
        "def preprocess_text(sen):\n",
        "    # Removing html tags\n",
        "    sentence = remove_tags(sen)\n",
        "    # Remove punctuations and numbers\n",
        "    sentence = re.sub('[^a-zA-Z]', ' ', sentence)\n",
        "    # Single character removal\n",
        "    sentence = re.sub(r\"\\s+[a-zA-Z]\\s+\", ' ', sentence)\n",
        "    # Removing multiple spaces\n",
        "    sentence = re.sub(r'\\s+', ' ', sentence)\n",
        "    sentence = sentence.lower()\n",
        "    return sentence\n",
        "\n",
        "def remove_tags(text):\n",
        "    return TAG_RE.sub('', text)\n",
        "\n",
        "TAG_RE = re.compile(r'<[^>]+>')\n",
        "vec_preprocess_text = np.vectorize(preprocess_text)\n",
        "\n",
        "def get_tokens(text, tokenizer):\n",
        "  tokens = tokenizer.tokenize(text)\n",
        "  tokens = [\"[CLS]\"] + tokens + [\"[SEP]\"]\n",
        "  length = len(tokens)\n",
        "  if length > max_length:\n",
        "      tokens = tokens[:max_length]\n",
        "  return tokens, length  \n",
        "\n",
        "def get_masks(text, tokenizer, max_length):\n",
        "    \"\"\"Mask for padding\"\"\"\n",
        "    tokens, length = get_tokens(text, tokenizer)\n",
        "    return np.asarray([1]*len(tokens) + [0] * (max_length - len(tokens)))\n",
        "vec_get_masks = np.vectorize(get_masks, signature = '(),(),()->(n)')\n",
        "\n",
        "def get_segments(text, tokenizer, max_length):\n",
        "    \"\"\"Segments: 0 for the first sequence, 1 for the second\"\"\"\n",
        "    tokens, length = get_tokens(text, tokenizer)\n",
        "    segments = []\n",
        "    current_segment_id = 0\n",
        "    for token in tokens:\n",
        "        segments.append(current_segment_id)\n",
        "        if token == \"[SEP]\":\n",
        "            current_segment_id = 1\n",
        "    return np.asarray(segments + [0] * (max_length - len(tokens)))\n",
        "vec_get_segments = np.vectorize(get_segments, signature = '(),(),()->(n)')\n",
        "\n",
        "def get_ids(text, tokenizer, max_length):\n",
        "    \"\"\"Token ids from Tokenizer vocab\"\"\"\n",
        "    tokens, length = get_tokens(text, tokenizer)\n",
        "    token_ids = tokenizer.convert_tokens_to_ids(tokens)\n",
        "    input_ids = np.asarray(token_ids + [0] * (max_length-length))\n",
        "    return input_ids\n",
        "vec_get_ids = np.vectorize(get_ids, signature = '(),(),()->(n)')\n",
        "\n",
        "def get_texts(path):\n",
        "    path = path.decode('utf-8')\n",
        "    parts = path.split(os.sep)\n",
        "    image_name = parts[-1]\n",
        "    is_train = parts[-3] == 'train'\n",
        "    #print(train)\n",
        "    if is_train:\n",
        "      df = train\n",
        "    else:\n",
        "      df = test\n",
        "\n",
        "    text = df['text'][image_name]\n",
        "    return text\n",
        "\n",
        "vec_get_text = np.vectorize(get_texts)\n",
        "def prepare_text(paths):\n",
        "    #Preparing texts\n",
        "    \n",
        "    texts = vec_get_text(paths)\n",
        "    \n",
        "    text_array = vec_preprocess_text(texts)\n",
        "    ids = vec_get_ids(text_array, \n",
        "                      tokenizer, \n",
        "                      max_length).squeeze().astype(np.int32)\n",
        "    masks = vec_get_masks(text_array,\n",
        "                          tokenizer,\n",
        "                          max_length).squeeze().astype(np.int32)\n",
        "    segments = vec_get_segments(text_array,\n",
        "                                tokenizer,\n",
        "                                max_length).squeeze().astype(np.int32)\n",
        "    \n",
        "    return ids, segments, masks\n",
        "\n",
        "def clean(i, tokens):\n",
        "  try:\n",
        "    this_token = tokens[i]\n",
        "    next_token = tokens[i+1]\n",
        "  except:\n",
        "    return tokens\n",
        "  if '##' in next_token:\n",
        "      tokens.remove(next_token)\n",
        "      tokens[i] = this_token + next_token[2:]\n",
        "      tokens = clean(i, tokens)\n",
        "      return tokens\n",
        "  else:\n",
        "    i = i+1\n",
        "    tokens = clean(i, tokens)\n",
        "    return tokens\n",
        "\n",
        "def clean_text(array):\n",
        "  array = array[(array!=0) & (array != 101) & (array != 102)]\n",
        "  tokens = tokenizer.convert_ids_to_tokens(array)\n",
        "  tokens = clean(0, tokens)\n",
        "  text = ' '.join(tokens)\n",
        "  return text"
      ]
    },
    {
      "cell_type": "code",
      "execution_count": 14,
      "metadata": {
        "id": "_A6yM9TWWecf"
      },
      "outputs": [],
      "source": [
        ""
      ]
    },
    {
      "cell_type": "code",
      "source": [
        "\n",
        "\n"
      ],
      "metadata": {
        "id": "7aCzENJXu6vE"
      },
      "execution_count": 14,
      "outputs": []
    },
    {
      "cell_type": "code",
      "execution_count": 14,
      "metadata": {
        "id": "a6zxe88MWwD4"
      },
      "outputs": [],
      "source": [
        ""
      ]
    },
    {
      "cell_type": "code",
      "source": [
        ""
      ],
      "metadata": {
        "id": "7YQjll2fuulE"
      },
      "execution_count": 14,
      "outputs": []
    },
    {
      "cell_type": "code",
      "execution_count": 14,
      "metadata": {
        "id": "EH3P9CZ58y2J"
      },
      "outputs": [],
      "source": [
        "\n"
      ]
    },
    {
      "cell_type": "code",
      "execution_count": 15,
      "metadata": {
        "id": "NfQnvc5cVA7S"
      },
      "outputs": [],
      "source": [
        "# Images preprocessing\n",
        "import cv2\n",
        "def load_image(path):\n",
        "    path = path.decode('utf-8')\n",
        "    image = cv2.imread(path)\n",
        "    image = cv2.resize(image, (img_width, img_height))\n",
        "    image = image/255\n",
        "    #print(type(image))\n",
        "    image = image.astype(np.float32)\n",
        "    parts = path.split(os.sep)\n",
        "    labels = parts[-2] == Classes \n",
        "    labels = labels.astype(np.int32)\n",
        "    \n",
        "    return image, labels\n",
        "    \n",
        "vec_load_image = np.vectorize(load_image, signature = '()->(r,c,d),(s)')"
      ]
    },
    {
      "cell_type": "code",
      "execution_count": 16,
      "metadata": {
        "id": "phEUfGcER3k8"
      },
      "outputs": [],
      "source": [
        "# Dataset creation\n",
        "\n",
        "def prepare_data(paths):\n",
        "    #Images and labels\n",
        "    images, labels = tf.numpy_function(vec_load_image, \n",
        "                                      [paths], \n",
        "                                      [tf.float32, \n",
        "                                        tf.int32])   \n",
        "    \n",
        "    \n",
        "    [ids, segments, masks, ] = tf.numpy_function(prepare_text, \n",
        "                                              [paths], \n",
        "                                              [tf.int32, \n",
        "                                               tf.int32,\n",
        "                                               tf.int32])\n",
        "    images.set_shape([None, img_width, img_height, depth])\n",
        "    labels.set_shape([None, nClasses])\n",
        "    ids.set_shape([None, max_length])\n",
        "    masks.set_shape([None, max_length])\n",
        "    segments.set_shape([None, max_length])\n",
        "    return ({\"input_word_ids\": ids, \n",
        "             \"input_mask\": masks,  \n",
        "             \"segment_ids\": segments, \n",
        "             \"image\": images},\n",
        "            {\"class\": labels})\n",
        "    \n",
        "\n",
        "    return dataset"
      ]
    },
    {
      "cell_type": "code",
      "execution_count": 17,
      "metadata": {
        "colab": {
          "base_uri": "https://localhost:8080/"
        },
        "id": "Mo8VKOC0V4zI",
        "outputId": "236639ea-fb45-4b2d-d19f-d4f15948bd20"
      },
      "outputs": [
        {
          "output_type": "stream",
          "name": "stdout",
          "text": [
            "['apple_pie' 'carrot_cake' 'cheesecake' 'club_sandwich' 'falafel'\n",
            " 'grilled_cheese_sandwich']\n",
            "6\n",
            "['apple_pie' 'carrot_cake' 'cheesecake' 'club_sandwich' 'falafel'\n",
            " 'grilled_cheese_sandwich']\n"
          ]
        }
      ],
      "source": [
        "# Parameters setting: images width and height, depth, number if classes, input shape\n",
        "#batch_size =  80\n",
        "batch_size= 32\n",
        "img_width = 224\n",
        "img_height = 224\n",
        "depth = 3\n",
        "max_length = 50 #Setup according to the text\n",
        "n=test.food.unique()\n",
        "print(n)\n",
        "nClasses = train.food.nunique()\n",
        "print(nClasses)\n",
        "Classes = train.food.unique()\n",
        "print(Classes)\n",
        "input_shape = (img_width, img_height, depth)"
      ]
    },
    {
      "cell_type": "code",
      "execution_count": 17,
      "metadata": {
        "id": "gHLHFgdrap9d"
      },
      "outputs": [],
      "source": [
        ""
      ]
    },
    {
      "cell_type": "code",
      "execution_count": 17,
      "metadata": {
        "id": "X_xTpBw9axNR"
      },
      "outputs": [],
      "source": [
        ""
      ]
    },
    {
      "cell_type": "code",
      "execution_count": 18,
      "metadata": {
        "id": "duvsfZgHV-qs"
      },
      "outputs": [],
      "source": [
        "# Images loading using tf.data\n",
        "def tf_data(path, batch_size):\n",
        "    paths = tf.data.Dataset.list_files(path)\n",
        "    paths = paths.batch(64)\n",
        "    dataset = paths.map(prepare_data, tf.data.experimental.AUTOTUNE)\n",
        "    dataset = dataset.prefetch(tf.data.experimental.AUTOTUNE)\n",
        "    dataset = dataset.unbatch()\n",
        "    dataset = dataset.batch(batch_size)\n",
        "    dataset = dataset.repeat()\n",
        "    return dataset   \n",
        "data_train = tf_data('/content/drive/MyDrive/Fusion/Dataset/train/*/*.jpg', batch_size)\n",
        "data_test = tf_data('/content/drive/MyDrive/Fusion/Dataset/test/*/*.jpg', batch_size)\n",
        "#os.listdir('d:/Work Station/Image-and-Text-fusion-for-UPMC-Food-101-using-BERT-and-CNNs/Images/train')"
      ]
    },
    {
      "cell_type": "code",
      "execution_count": 18,
      "metadata": {
        "id": "edsTXzO_WDWr"
      },
      "outputs": [],
      "source": [
        ""
      ]
    },
    {
      "cell_type": "code",
      "execution_count": 18,
      "metadata": {
        "id": "pdEJh5m9Wujv"
      },
      "outputs": [],
      "source": [
        ""
      ]
    },
    {
      "cell_type": "code",
      "execution_count": 18,
      "metadata": {
        "id": "9ny6mwGCWGsD"
      },
      "outputs": [],
      "source": [
        ""
      ]
    },
    {
      "cell_type": "code",
      "execution_count": 19,
      "metadata": {
        "id": "KxRk7MXXWJhx"
      },
      "outputs": [],
      "source": [
        "import keras,os\n",
        "from keras.applications.vgg16 import VGG16\n",
        "from keras.models import Sequential\n",
        "from tensorflow.keras.layers import Input,Lambda,Dense, Flatten\n",
        "from keras.preprocessing.image import ImageDataGenerator\n",
        "from keras.preprocessing.image import load_img\n",
        "from glob import glob\n",
        "import numpy as np"
      ]
    },
    {
      "cell_type": "code",
      "execution_count": 20,
      "metadata": {
        "id": "FHymHzBCW-lP"
      },
      "outputs": [],
      "source": [
        "vgg16 = VGG16(input_shape=[224,224]+ [3], weights='imagenet', include_top=False)"
      ]
    },
    {
      "cell_type": "code",
      "execution_count": 21,
      "metadata": {
        "id": "p1NTunCoXBfz"
      },
      "outputs": [],
      "source": [
        "for layer in vgg16.layers:\n",
        "  layer.trainable=True"
      ]
    },
    {
      "cell_type": "code",
      "execution_count": 22,
      "metadata": {
        "id": "j_KmicehXEZH"
      },
      "outputs": [],
      "source": [
        "x= Flatten()(vgg16.output)\n",
        "prediction = Dense(256, activation ='relu')(x)"
      ]
    },
    {
      "cell_type": "code",
      "execution_count": 23,
      "metadata": {
        "id": "A_hrQpwHXKcf"
      },
      "outputs": [],
      "source": [
        "from tensorflow.keras.models import Model\n",
        "model_vgg = Model(inputs=vgg16.input, outputs= prediction)"
      ]
    },
    {
      "cell_type": "code",
      "execution_count": 24,
      "metadata": {
        "colab": {
          "base_uri": "https://localhost:8080/"
        },
        "id": "ilFcqwy5XLFx",
        "outputId": "7716022b-2ec4-448b-e032-5e0127ea8b47"
      },
      "outputs": [
        {
          "output_type": "stream",
          "name": "stdout",
          "text": [
            "Model: \"model\"\n",
            "_________________________________________________________________\n",
            " Layer (type)                Output Shape              Param #   \n",
            "=================================================================\n",
            " input_1 (InputLayer)        [(None, 224, 224, 3)]     0         \n",
            "                                                                 \n",
            " block1_conv1 (Conv2D)       (None, 224, 224, 64)      1792      \n",
            "                                                                 \n",
            " block1_conv2 (Conv2D)       (None, 224, 224, 64)      36928     \n",
            "                                                                 \n",
            " block1_pool (MaxPooling2D)  (None, 112, 112, 64)      0         \n",
            "                                                                 \n",
            " block2_conv1 (Conv2D)       (None, 112, 112, 128)     73856     \n",
            "                                                                 \n",
            " block2_conv2 (Conv2D)       (None, 112, 112, 128)     147584    \n",
            "                                                                 \n",
            " block2_pool (MaxPooling2D)  (None, 56, 56, 128)       0         \n",
            "                                                                 \n",
            " block3_conv1 (Conv2D)       (None, 56, 56, 256)       295168    \n",
            "                                                                 \n",
            " block3_conv2 (Conv2D)       (None, 56, 56, 256)       590080    \n",
            "                                                                 \n",
            " block3_conv3 (Conv2D)       (None, 56, 56, 256)       590080    \n",
            "                                                                 \n",
            " block3_pool (MaxPooling2D)  (None, 28, 28, 256)       0         \n",
            "                                                                 \n",
            " block4_conv1 (Conv2D)       (None, 28, 28, 512)       1180160   \n",
            "                                                                 \n",
            " block4_conv2 (Conv2D)       (None, 28, 28, 512)       2359808   \n",
            "                                                                 \n",
            " block4_conv3 (Conv2D)       (None, 28, 28, 512)       2359808   \n",
            "                                                                 \n",
            " block4_pool (MaxPooling2D)  (None, 14, 14, 512)       0         \n",
            "                                                                 \n",
            " block5_conv1 (Conv2D)       (None, 14, 14, 512)       2359808   \n",
            "                                                                 \n",
            " block5_conv2 (Conv2D)       (None, 14, 14, 512)       2359808   \n",
            "                                                                 \n",
            " block5_conv3 (Conv2D)       (None, 14, 14, 512)       2359808   \n",
            "                                                                 \n",
            " block5_pool (MaxPooling2D)  (None, 7, 7, 512)         0         \n",
            "                                                                 \n",
            " flatten (Flatten)           (None, 25088)             0         \n",
            "                                                                 \n",
            " dense (Dense)               (None, 256)               6422784   \n",
            "                                                                 \n",
            "=================================================================\n",
            "Total params: 21,137,472\n",
            "Trainable params: 21,137,472\n",
            "Non-trainable params: 0\n",
            "_________________________________________________________________\n"
          ]
        }
      ],
      "source": [
        "model_vgg.summary()"
      ]
    },
    {
      "cell_type": "code",
      "execution_count": 25,
      "metadata": {
        "id": "yc_jAAxhXSIq"
      },
      "outputs": [],
      "source": [
        "model_vgg.compile(\n",
        "  loss='categorical_crossentropy',\n",
        "  optimizer='adam',\n",
        "  metrics=['accuracy']\n",
        ")"
      ]
    },
    {
      "cell_type": "code",
      "execution_count": 26,
      "metadata": {
        "colab": {
          "base_uri": "https://localhost:8080/",
          "height": 1000
        },
        "id": "-2Eqw_oqXWdQ",
        "outputId": "d2937385-49d7-4b1d-8fab-a5cbb0c8d44d"
      },
      "outputs": [
        {
          "output_type": "execute_result",
          "data": {
            "text/plain": [
              "<IPython.core.display.Image object>"
            ],
            "image/png": "[encoded data removed]"
          },
          "metadata": {},
          "execution_count": 26
        }
      ],
      "source": [
        "from tensorflow.keras.utils import plot_model\n",
        "plot_model(model_vgg, to_file='model_vgc.png')"
      ]
    },
    {
      "cell_type": "code",
      "execution_count": 27,
      "metadata": {
        "colab": {
          "base_uri": "https://localhost:8080/"
        },
        "id": "DWg0So8HXa-B",
        "outputId": "a063ceae-d85e-4183-e024-f10823366548"
      },
      "outputs": [
        {
          "output_type": "stream",
          "name": "stderr",
          "text": [
            "Some layers from the model checkpoint at roberta-base were not used when initializing TFRobertaModel: ['lm_head']\n",
            "- This IS expected if you are initializing TFRobertaModel from the checkpoint of a model trained on another task or with another architecture (e.g. initializing a BertForSequenceClassification model from a BertForPreTraining model).\n",
            "- This IS NOT expected if you are initializing TFRobertaModel from the checkpoint of a model that you expect to be exactly identical (initializing a BertForSequenceClassification model from a BertForSequenceClassification model).\n",
            "All the layers of TFRobertaModel were initialized from the model checkpoint at roberta-base.\n",
            "If your task is similar to the task the model of the checkpoint was trained on, you can already use TFRobertaModel for predictions without further training.\n"
          ]
        }
      ],
      "source": [
        "input_word_ids = tf.keras.Input(shape=(MAX_LEN,), dtype=tf.int32, name='input_word_ids')\n",
        "input_mask = tf.keras.Input(shape=(MAX_LEN,), dtype=tf.int32, name='input_mask')\n",
        "segment_ids = tf.keras.Input(shape=(MAX_LEN,), dtype=tf.int32, name='segment_ids')\n",
        "roberta_model = TFRobertaModel.from_pretrained('roberta-base')\n",
        "x = roberta_model([input_word_ids,input_mask,segment_ids])\n",
        "x = x[0]\n",
        "x = tf.keras.layers.Dense(256, activation='relu')(x)\n",
        "x = tf.keras.layers.Dense(256, activation='relu')(x)\n",
        "x = tf.keras.layers.Flatten()(x)\n",
        "x = tf.keras.layers.Dense(256, activation='relu')(x)\n",
        "model_roberta = tf.keras.Model(inputs=[input_word_ids,input_mask,segment_ids], outputs=[x])"
      ]
    },
    {
      "cell_type": "code",
      "execution_count": 28,
      "metadata": {
        "id": "QDH3YDcxYSj-"
      },
      "outputs": [],
      "source": [
        "for layer in model_roberta.layers:\n",
        "    layer.trainable = True"
      ]
    },
    {
      "cell_type": "code",
      "execution_count": 29,
      "metadata": {
        "colab": {
          "base_uri": "https://localhost:8080/"
        },
        "id": "6WaL1ja6YY1S",
        "outputId": "bf070d4a-396e-4040-aaaf-0e0bc2ccdf58"
      },
      "outputs": [
        {
          "output_type": "stream",
          "name": "stdout",
          "text": [
            "Model: \"model_1\"\n",
            "__________________________________________________________________________________________________\n",
            " Layer (type)                   Output Shape         Param #     Connected to                     \n",
            "==================================================================================================\n",
            " input_word_ids (InputLayer)    [(None, 50)]         0           []                               \n",
            "                                                                                                  \n",
            " input_mask (InputLayer)        [(None, 50)]         0           []                               \n",
            "                                                                                                  \n",
            " segment_ids (InputLayer)       [(None, 50)]         0           []                               \n",
            "                                                                                                  \n",
            " tf_roberta_model (TFRobertaMod  TFBaseModelOutputWi  124645632  ['input_word_ids[0][0]',         \n",
            " el)                            thPoolingAndCrossAt               'input_mask[0][0]',             \n",
            "                                tentions(last_hidde               'segment_ids[0][0]']            \n",
            "                                n_state=(None, 50,                                                \n",
            "                                768),                                                             \n",
            "                                 pooler_output=(Non                                               \n",
            "                                e, 768),                                                          \n",
            "                                 past_key_values=No                                               \n",
            "                                ne, hidden_states=N                                               \n",
            "                                one, attentions=Non                                               \n",
            "                                e, cross_attentions                                               \n",
            "                                =None)                                                            \n",
            "                                                                                                  \n",
            " dense_1 (Dense)                (None, 50, 256)      196864      ['tf_roberta_model[0][0]']       \n",
            "                                                                                                  \n",
            " dense_2 (Dense)                (None, 50, 256)      65792       ['dense_1[0][0]']                \n",
            "                                                                                                  \n",
            " flatten_1 (Flatten)            (None, 12800)        0           ['dense_2[0][0]']                \n",
            "                                                                                                  \n",
            " dense_3 (Dense)                (None, 256)          3277056     ['flatten_1[0][0]']              \n",
            "                                                                                                  \n",
            "==================================================================================================\n",
            "Total params: 128,185,344\n",
            "Trainable params: 128,185,344\n",
            "Non-trainable params: 0\n",
            "__________________________________________________________________________________________________\n"
          ]
        }
      ],
      "source": [
        "model_roberta.summary()"
      ]
    },
    {
      "cell_type": "code",
      "source": [
        "model_roberta.compile(\n",
        "            optimizer=tf.keras.optimizers.Adam(lr=1e-5),\n",
        "            loss='categorical_crossentropy',\n",
        "            metrics=['accuracy'])"
      ],
      "metadata": {
        "id": "9tn5eJLptjaL"
      },
      "execution_count": 30,
      "outputs": []
    },
    {
      "cell_type": "code",
      "execution_count": 31,
      "metadata": {
        "colab": {
          "base_uri": "https://localhost:8080/",
          "height": 564
        },
        "id": "c2vpsGN0YfvR",
        "outputId": "1ce1a0cb-da53-41eb-99be-c2abc595531e"
      },
      "outputs": [
        {
          "output_type": "execute_result",
          "data": {
            "text/plain": [
              "<IPython.core.display.Image object>"
            ],
            "image/png": "[encoded data removed]"
          },
          "metadata": {},
          "execution_count": 31
        }
      ],
      "source": [
        "plot_model(model_roberta, to_file='bert_roberta.png')"
      ]
    },
    {
      "cell_type": "code",
      "execution_count": 32,
      "metadata": {
        "id": "0vGAGAl1YoyG"
      },
      "outputs": [],
      "source": [
        "# Stacking early-fusion multimodal model\n",
        "\n",
        "input_word_ids = layers.Input(shape=(max_length,), dtype=tf.int32,\n",
        "                                       name=\"input_word_ids\")\n",
        "input_mask = layers.Input(shape=(max_length,), dtype=tf.int32,\n",
        "                                   name=\"input_mask\")\n",
        "segment_ids = layers.Input(shape=(max_length,), dtype=tf.int32,\n",
        "                                    name=\"segment_ids\")\n",
        "image_input = layers.Input(shape = input_shape, dtype=tf.float32,\n",
        "                           name = \"image\")\n",
        "\n",
        "image_side = model_vgg(image_input)\n",
        "text_side = model_roberta([input_word_ids, input_mask, segment_ids])\n",
        "# Concatenate features from images and texts\n",
        "merged = layers.Concatenate()([image_side, text_side])\n",
        "merged = layers.Dense(224, activation = 'relu')(merged)\n",
        "output = layers.Dense(nClasses, activation='softmax', name = \"class\")(merged)"
      ]
    },
    {
      "cell_type": "code",
      "execution_count": 33,
      "metadata": {
        "id": "dkmb7x0YYxX0"
      },
      "outputs": [],
      "source": [
        "model_combined= models.Model([input_word_ids, input_mask, segment_ids, image_input], output)"
      ]
    },
    {
      "cell_type": "code",
      "execution_count": 34,
      "metadata": {
        "colab": {
          "base_uri": "https://localhost:8080/"
        },
        "id": "0JRfr6LeY1wP",
        "outputId": "efbe5e31-20bd-4ef7-8c69-41ea23429ae1"
      },
      "outputs": [
        {
          "output_type": "stream",
          "name": "stdout",
          "text": [
            "Model: \"model_2\"\n",
            "__________________________________________________________________________________________________\n",
            " Layer (type)                   Output Shape         Param #     Connected to                     \n",
            "==================================================================================================\n",
            " image (InputLayer)             [(None, 224, 224, 3  0           []                               \n",
            "                                )]                                                                \n",
            "                                                                                                  \n",
            " input_word_ids (InputLayer)    [(None, 50)]         0           []                               \n",
            "                                                                                                  \n",
            " input_mask (InputLayer)        [(None, 50)]         0           []                               \n",
            "                                                                                                  \n",
            " segment_ids (InputLayer)       [(None, 50)]         0           []                               \n",
            "                                                                                                  \n",
            " model (Functional)             (None, 256)          21137472    ['image[0][0]']                  \n",
            "                                                                                                  \n",
            " model_1 (Functional)           (None, 256)          128185344   ['input_word_ids[0][0]',         \n",
            "                                                                  'input_mask[0][0]',             \n",
            "                                                                  'segment_ids[0][0]']            \n",
            "                                                                                                  \n",
            " concatenate (Concatenate)      (None, 512)          0           ['model[0][0]',                  \n",
            "                                                                  'model_1[0][0]']                \n",
            "                                                                                                  \n",
            " dense_4 (Dense)                (None, 224)          114912      ['concatenate[0][0]']            \n",
            "                                                                                                  \n",
            " class (Dense)                  (None, 6)            1350        ['dense_4[0][0]']                \n",
            "                                                                                                  \n",
            "==================================================================================================\n",
            "Total params: 149,439,078\n",
            "Trainable params: 149,439,078\n",
            "Non-trainable params: 0\n",
            "__________________________________________________________________________________________________\n"
          ]
        }
      ],
      "source": [
        "model_combined.summary()"
      ]
    },
    {
      "cell_type": "code",
      "execution_count": 35,
      "metadata": {
        "colab": {
          "base_uri": "https://localhost:8080/",
          "height": 466
        },
        "id": "nrmLsiMFY7hw",
        "outputId": "b6bfb586-baaf-4d81-f159-77bf487979ba"
      },
      "outputs": [
        {
          "output_type": "execute_result",
          "data": {
            "text/plain": [
              "<IPython.core.display.Image object>"
            ],
            "image/png": "[encoded data removed]"
          },
          "metadata": {},
          "execution_count": 35
        }
      ],
      "source": [
        "from tensorflow.keras.utils import plot_model\n",
        "plot_model(model_combined, to_file='multimodal_RoBERTa+VGC16.png')"
      ]
    },
    {
      "cell_type": "code",
      "execution_count": 36,
      "metadata": {
        "id": "viF_EBt-ZDf2"
      },
      "outputs": [],
      "source": [
        "# Stochastic Gradient Descent optimizer\n",
        "sgd = optimizers.SGD(learning_rate=0.0001, momentum=0.9, nesterov=False)\n",
        "\n",
        "# Compile model\n",
        "model_combined.compile(loss='categorical_crossentropy', \n",
        "              optimizer=sgd, \n",
        "              metrics=['accuracy'])"
      ]
    },
    {
      "cell_type": "code",
      "execution_count": 37,
      "metadata": {
        "colab": {
          "base_uri": "https://localhost:8080/"
        },
        "id": "STEkNebMZFzG",
        "outputId": "49736127-949a-4b60-cf0b-d1cfe7637f77"
      },
      "outputs": [
        {
          "output_type": "stream",
          "name": "stdout",
          "text": [
            "<keras.callbacks.ModelCheckpoint object at 0x7f8403bea490>\n",
            "<keras.callbacks.CSVLogger object at 0x7f8403f97850>\n"
          ]
        }
      ],
      "source": [
        "# Setup callbacks, logs and early stopping condition\n",
        "import keras\n",
        "from keras import callbacks\n",
        "import numpy as np\n",
        "import h5py\n",
        "from keras.layers import Dense\n",
        "from keras.callbacks import ModelCheckpoint\n",
        "checkpoint_path = \"stacking_early_fusion.weights-improvement-{epoch:02d}-{val_accuracy:.2f}.hdf5\"\n",
        "#checkpoint_path= \"weights-improvement-{epoch:02d}-{val_accuracy:.2f}.hdf5\"\n",
        "cp = callbacks.ModelCheckpoint(checkpoint_path, monitor='val_accuracy',save_best_only=True, save_weights_only=True, verbose=1, mode='max')\n",
        "print(cp)\n",
        "csv_logger = callbacks.CSVLogger('StackingEarlyFusion.log')\n",
        "print(csv_logger)\n",
        "es = callbacks.EarlyStopping(patience = 3, restore_best_weights=True)"
      ]
    },
    {
      "cell_type": "code",
      "execution_count": 38,
      "metadata": {
        "id": "BEmERpRAZILy"
      },
      "outputs": [],
      "source": [
        "#Reduce learning rate if no improvement is observed\n",
        "from keras.callbacks import ReduceLROnPlateau\n",
        "reduce_lr = callbacks.ReduceLROnPlateau(\n",
        "    monitor='val_accuracy', factor=0.1, patience=1, min_lr=0.00001)"
      ]
    },
    {
      "cell_type": "code",
      "execution_count": 39,
      "metadata": {
        "colab": {
          "base_uri": "https://localhost:8080/"
        },
        "id": "04Nku3v7ZO0o",
        "outputId": "501ed18b-6d0e-4c8d-88df-9ca48901bd3e"
      },
      "outputs": [
        {
          "output_type": "stream",
          "name": "stdout",
          "text": [
            "Epoch 1/10\n",
            "WARNING:tensorflow:Gradients do not exist for variables ['tf_roberta_model/roberta/pooler/dense/kernel:0', 'tf_roberta_model/roberta/pooler/dense/bias:0'] when minimizing the loss. If you're using `model.compile()`, did you forget to provide a `loss`argument?\n",
            "WARNING:tensorflow:Gradients do not exist for variables ['tf_roberta_model/roberta/pooler/dense/kernel:0', 'tf_roberta_model/roberta/pooler/dense/bias:0'] when minimizing the loss. If you're using `model.compile()`, did you forget to provide a `loss`argument?\n",
            "128/128 [==============================] - ETA: 0s - loss: 1.7071 - accuracy: 0.3049\n",
            "Epoch 1: val_accuracy improved from -inf to 0.47247, saving model to stacking_early_fusion.weights-improvement-01-0.47.hdf5\n",
            "128/128 [==============================] - 1112s 8s/step - loss: 1.7071 - accuracy: 0.3049 - val_loss: 1.4980 - val_accuracy: 0.4725 - lr: 1.0000e-04\n",
            "Epoch 2/10\n",
            "128/128 [==============================] - ETA: 0s - loss: 1.1451 - accuracy: 0.5951\n",
            "Epoch 2: val_accuracy improved from 0.47247 to 0.66964, saving model to stacking_early_fusion.weights-improvement-02-0.67.hdf5\n",
            "128/128 [==============================] - 134s 1s/step - loss: 1.1451 - accuracy: 0.5951 - val_loss: 0.9407 - val_accuracy: 0.6696 - lr: 1.0000e-04\n",
            "Epoch 3/10\n",
            "128/128 [==============================] - ETA: 0s - loss: 0.6957 - accuracy: 0.7554\n",
            "Epoch 3: val_accuracy improved from 0.66964 to 0.78125, saving model to stacking_early_fusion.weights-improvement-03-0.78.hdf5\n",
            "128/128 [==============================] - 127s 993ms/step - loss: 0.6957 - accuracy: 0.7554 - val_loss: 0.6295 - val_accuracy: 0.7812 - lr: 1.0000e-04\n",
            "Epoch 4/10\n",
            "128/128 [==============================] - ETA: 0s - loss: 0.3914 - accuracy: 0.8786\n",
            "Epoch 4: val_accuracy improved from 0.78125 to 0.89583, saving model to stacking_early_fusion.weights-improvement-04-0.90.hdf5\n",
            "128/128 [==============================] - 128s 1s/step - loss: 0.3914 - accuracy: 0.8786 - val_loss: 0.3120 - val_accuracy: 0.8958 - lr: 1.0000e-04\n",
            "Epoch 5/10\n",
            "128/128 [==============================] - ETA: 0s - loss: 0.1558 - accuracy: 0.9621\n",
            "Epoch 5: val_accuracy improved from 0.89583 to 0.94271, saving model to stacking_early_fusion.weights-improvement-05-0.94.hdf5\n",
            "128/128 [==============================] - 127s 995ms/step - loss: 0.1558 - accuracy: 0.9621 - val_loss: 0.1825 - val_accuracy: 0.9427 - lr: 1.0000e-04\n",
            "Epoch 6/10\n",
            "128/128 [==============================] - ETA: 0s - loss: 0.0799 - accuracy: 0.9799\n",
            "Epoch 6: val_accuracy improved from 0.94271 to 0.94792, saving model to stacking_early_fusion.weights-improvement-06-0.95.hdf5\n",
            "128/128 [==============================] - 127s 997ms/step - loss: 0.0799 - accuracy: 0.9799 - val_loss: 0.1628 - val_accuracy: 0.9479 - lr: 1.0000e-04\n",
            "Epoch 7/10\n",
            "128/128 [==============================] - ETA: 0s - loss: 0.0464 - accuracy: 0.9919\n",
            "Epoch 7: val_accuracy improved from 0.94792 to 0.95089, saving model to stacking_early_fusion.weights-improvement-07-0.95.hdf5\n",
            "128/128 [==============================] - 128s 1s/step - loss: 0.0464 - accuracy: 0.9919 - val_loss: 0.1391 - val_accuracy: 0.9509 - lr: 1.0000e-04\n",
            "Epoch 8/10\n",
            "128/128 [==============================] - ETA: 0s - loss: 0.0294 - accuracy: 0.9968\n",
            "Epoch 8: val_accuracy improved from 0.95089 to 0.95610, saving model to stacking_early_fusion.weights-improvement-08-0.96.hdf5\n",
            "128/128 [==============================] - 128s 1s/step - loss: 0.0294 - accuracy: 0.9968 - val_loss: 0.1385 - val_accuracy: 0.9561 - lr: 1.0000e-04\n",
            "Epoch 9/10\n",
            "128/128 [==============================] - ETA: 0s - loss: 0.0192 - accuracy: 0.9985\n",
            "Epoch 9: val_accuracy did not improve from 0.95610\n",
            "128/128 [==============================] - 125s 977ms/step - loss: 0.0192 - accuracy: 0.9985 - val_loss: 0.1441 - val_accuracy: 0.9531 - lr: 1.0000e-04\n",
            "Epoch 10/10\n",
            "128/128 [==============================] - ETA: 0s - loss: 0.0122 - accuracy: 0.9990\n",
            "Epoch 10: val_accuracy did not improve from 0.95610\n",
            "128/128 [==============================] - 125s 979ms/step - loss: 0.0122 - accuracy: 0.9990 - val_loss: 0.1426 - val_accuracy: 0.9539 - lr: 1.0000e-05\n"
          ]
        }
      ],
      "source": [
        "# Training\n",
        "history = model_combined.fit(data_train,\n",
        "                    epochs=10,\n",
        "                    steps_per_epoch = train.shape[0] //batch_size,\n",
        "                    validation_data = data_test,\n",
        "                    validation_steps = test.shape[0] //batch_size,\n",
        "                    callbacks=[cp, csv_logger, reduce_lr])"
      ]
    }
  ],
  "metadata": {
    "accelerator": "GPU",
    "colab": {
      "name": "RoBERTa + VGG16_Early-Fusion.ipynb",
      "provenance": []
    },
    "gpuClass": "standard",
    "kernelspec": {
      "display_name": "Python 3",
      "name": "python3"
    },
    "language_info": {
      "name": "python"
    }
  },
  "nbformat": 4,
  "nbformat_minor": 0
}
