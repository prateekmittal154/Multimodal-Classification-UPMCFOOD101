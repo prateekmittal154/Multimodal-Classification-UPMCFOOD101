{
  "cells": [
    {
      "cell_type": "code",
      "execution_count": 1,
      "metadata": {
        "id": "PIfkLx5mUKeM"
      },
      "outputs": [],
      "source": [
        "# Import all necessary libraries\n",
        "try:\n",
        "    %tensorflow_version 2.x\n",
        "except Exception:\n",
        "    pass\n",
        "import tensorflow as tf\n",
        "import tensorflow_hub as hub\n",
        "from tensorflow.keras import layers\n",
        "from tensorflow.keras import callbacks\n",
        "from tensorflow.keras import optimizers\n",
        "from tensorflow.keras import utils\n",
        "from tensorflow.keras import models\n",
        "from tensorflow.keras.preprocessing.image import ImageDataGenerator \n",
        "from tensorflow.keras import applications\n",
        "from tensorflow.keras.regularizers import l2, l1\n",
        "\n",
        "from sklearn.preprocessing import LabelEncoder\n",
        "from sklearn.model_selection import train_test_split\n",
        "from sklearn.utils import shuffle\n",
        "from sklearn.metrics import confusion_matrix"
      ]
    },
    {
      "cell_type": "code",
      "execution_count": 2,
      "metadata": {
        "colab": {
          "base_uri": "https://localhost:8080/"
        },
        "id": "mQ26u5FZUWno",
        "outputId": "40b5161c-2cbd-4a23-de9a-685d4e993a94"
      },
      "outputs": [
        {
          "output_type": "stream",
          "name": "stdout",
          "text": [
            "Looking in indexes: https://pypi.org/simple, https://us-python.pkg.dev/colab-wheels/public/simple/\n",
            "Collecting transformers\n",
            "  Downloading transformers-4.20.1-py3-none-any.whl (4.4 MB)\n",
            "\u001b[K     |████████████████████████████████| 4.4 MB 5.2 MB/s \n",
            "\u001b[?25hRequirement already satisfied: regex!=2019.12.17 in /usr/local/lib/python3.7/dist-packages (from transformers) (2022.6.2)\n",
            "Requirement already satisfied: tqdm>=4.27 in /usr/local/lib/python3.7/dist-packages (from transformers) (4.64.0)\n",
            "Collecting huggingface-hub<1.0,>=0.1.0\n",
            "  Downloading huggingface_hub-0.8.1-py3-none-any.whl (101 kB)\n",
            "\u001b[K     |████████████████████████████████| 101 kB 14.5 MB/s \n",
            "\u001b[?25hRequirement already satisfied: packaging>=20.0 in /usr/local/lib/python3.7/dist-packages (from transformers) (21.3)\n",
            "Collecting pyyaml>=5.1\n",
            "  Downloading PyYAML-6.0-cp37-cp37m-manylinux_2_5_x86_64.manylinux1_x86_64.manylinux_2_12_x86_64.manylinux2010_x86_64.whl (596 kB)\n",
            "\u001b[K     |████████████████████████████████| 596 kB 70.7 MB/s \n",
            "\u001b[?25hCollecting tokenizers!=0.11.3,<0.13,>=0.11.1\n",
            "  Downloading tokenizers-0.12.1-cp37-cp37m-manylinux_2_12_x86_64.manylinux2010_x86_64.whl (6.6 MB)\n",
            "\u001b[K     |████████████████████████████████| 6.6 MB 41.7 MB/s \n",
            "\u001b[?25hRequirement already satisfied: filelock in /usr/local/lib/python3.7/dist-packages (from transformers) (3.7.1)\n",
            "Requirement already satisfied: requests in /usr/local/lib/python3.7/dist-packages (from transformers) (2.23.0)\n",
            "Requirement already satisfied: importlib-metadata in /usr/local/lib/python3.7/dist-packages (from transformers) (4.11.4)\n",
            "Requirement already satisfied: numpy>=1.17 in /usr/local/lib/python3.7/dist-packages (from transformers) (1.21.6)\n",
            "Requirement already satisfied: typing-extensions>=3.7.4.3 in /usr/local/lib/python3.7/dist-packages (from huggingface-hub<1.0,>=0.1.0->transformers) (4.1.1)\n",
            "Requirement already satisfied: pyparsing!=3.0.5,>=2.0.2 in /usr/local/lib/python3.7/dist-packages (from packaging>=20.0->transformers) (3.0.9)\n",
            "Requirement already satisfied: zipp>=0.5 in /usr/local/lib/python3.7/dist-packages (from importlib-metadata->transformers) (3.8.0)\n",
            "Requirement already satisfied: urllib3!=1.25.0,!=1.25.1,<1.26,>=1.21.1 in /usr/local/lib/python3.7/dist-packages (from requests->transformers) (1.24.3)\n",
            "Requirement already satisfied: certifi>=2017.4.17 in /usr/local/lib/python3.7/dist-packages (from requests->transformers) (2022.6.15)\n",
            "Requirement already satisfied: idna<3,>=2.5 in /usr/local/lib/python3.7/dist-packages (from requests->transformers) (2.10)\n",
            "Requirement already satisfied: chardet<4,>=3.0.2 in /usr/local/lib/python3.7/dist-packages (from requests->transformers) (3.0.4)\n",
            "Installing collected packages: pyyaml, tokenizers, huggingface-hub, transformers\n",
            "  Attempting uninstall: pyyaml\n",
            "    Found existing installation: PyYAML 3.13\n",
            "    Uninstalling PyYAML-3.13:\n",
            "      Successfully uninstalled PyYAML-3.13\n",
            "Successfully installed huggingface-hub-0.8.1 pyyaml-6.0 tokenizers-0.12.1 transformers-4.20.1\n"
          ]
        }
      ],
      "source": [
        "!pip install transformers"
      ]
    },
    {
      "cell_type": "code",
      "execution_count": 4,
      "metadata": {
        "colab": {
          "base_uri": "https://localhost:8080/"
        },
        "id": "XNKIJXVQUZZd",
        "outputId": "4352efd6-cba1-46f4-dcce-d7970dae87fb"
      },
      "outputs": [
        {
          "output_type": "stream",
          "name": "stdout",
          "text": [
            "Mounted at /content/drive\n"
          ]
        }
      ],
      "source": [
        "from google.colab import drive\n",
        "drive.mount('/content/drive')"
      ]
    },
    {
      "cell_type": "code",
      "execution_count": 5,
      "metadata": {
        "id": "qGMQm8D2Ua-y"
      },
      "outputs": [],
      "source": [
        "import numpy as np\n",
        "import regex as re\n",
        "import pandas as pd\n",
        "import matplotlib.pyplot as plt\n",
        "import seaborn as sns\n",
        "import statistics\n",
        "import math\n",
        "import os\n",
        "\n",
        "from sklearn.model_selection import StratifiedKFold\n",
        "from sklearn.metrics import accuracy_score\n",
        "from sklearn.model_selection import train_test_split\n",
        "\n",
        "import tensorflow as tf\n",
        "import tensorflow.keras.backend as K\n",
        "import transformers\n",
        "from transformers import RobertaTokenizer, TFRobertaModel\n",
        "\n",
        "from collections import Counter\n",
        "\n",
        "import warnings\n",
        "warnings.filterwarnings(\"ignore\")"
      ]
    },
    {
      "cell_type": "code",
      "execution_count": 6,
      "metadata": {
        "colab": {
          "base_uri": "https://localhost:8080/"
        },
        "id": "o9PNUvVpUe0a",
        "outputId": "b725b3cc-bb0f-4177-b647-89f8c656fbe1"
      },
      "outputs": [
        {
          "output_type": "stream",
          "name": "stdout",
          "text": [
            "1375\n"
          ]
        }
      ],
      "source": [
        "# Import the training and test .csv files\n",
        "import pandas as pd\n",
        "colnames=['image_path', 'text', 'food']\n",
        "train = pd.read_csv('/content/drive/MyDrive/Colab Notebooks/Dataset/train_titles.csv', names=colnames, header=None, sep = ',', index_col=['image_path'])\n",
        "test = pd.read_csv('/content/drive/MyDrive/Colab Notebooks/Dataset/test_titles.csv', names=colnames, header=None, sep = ',', index_col=['image_path'])\n",
        "print(test.shape[0])"
      ]
    },
    {
      "cell_type": "code",
      "execution_count": 7,
      "metadata": {
        "colab": {
          "base_uri": "https://localhost:8080/"
        },
        "id": "fBeS8qWpUhu5",
        "outputId": "412e2f61-67fe-4798-de0d-cfee4b24c537"
      },
      "outputs": [
        {
          "output_type": "stream",
          "name": "stdout",
          "text": [
            "1375\n"
          ]
        }
      ],
      "source": [
        "# Sort values by 'image_path'\n",
        "test = test.sort_values('image_path')\n",
        "print(test.shape[0])\n",
        "train = train.sort_values('image_path')"
      ]
    },
    {
      "cell_type": "code",
      "execution_count": 8,
      "metadata": {
        "id": "-VND0BxTXa0r"
      },
      "outputs": [],
      "source": [
        "import numpy as np \n",
        "import glob\n",
        "import os\n",
        "\n",
        "def get_missing(file, df):\n",
        "  parts = file.split(os.sep)\n",
        "  #print(parts)\n",
        "  idx = parts[-1]\n",
        "  #print(idx)\n",
        "  cls = parts[-2]  \n",
        "  #print(cls)\n",
        "  indexes = df[:,0]\n",
        "  #print(indexes)\n",
        "  classes = df[:,2]\n",
        "  #print(classes)\n",
        "  \n",
        " \n",
        "  if idx in indexes:\n",
        "    text = df[idx == indexes][0,1]\n",
        "    return pd.NA, pd.NA, pd.NA\n",
        "  \n",
        "  else:\n",
        "    text = df[cls == classes][:,1]\n",
        "    return idx, text, cls   \n",
        "  #print(idx)\n",
        "vec_get_missing = np.vectorize(get_missing, signature='(),(m,n)->(),(),()')  "
      ]
    },
    {
      "cell_type": "code",
      "execution_count": 9,
      "metadata": {
        "id": "xvaz5WtIMq_1"
      },
      "outputs": [],
      "source": [
        "# Function for images loading\n",
        "from sklearn.utils import shuffle\n",
        "\n",
        "def add_not_found(path, df):\n",
        "  files = glob.glob(path)\n",
        "  df = df.reset_index()\n",
        "  idxs, texts, cls = vec_get_missing(files, df.values)\n",
        "  #print(df.values)\n",
        "  found = pd.DataFrame({\"text\": texts,\n",
        "                        \"food\": cls,\n",
        "                       \"image_path\": idxs})\n",
        "  #print(idxs)\n",
        "  na = found.isna().sum().values[0]\n",
        " # print(na)\n",
        "  if na<found.shape[0]:\n",
        "    df = df.append(found)\n",
        "  df = df.drop_duplicates(subset='image_path', keep='first').dropna()\n",
        "  df = df.set_index('image_path')\n",
        "  df = shuffle(df, random_state = 0)\n",
        "  return df      "
      ]
    },
    {
      "cell_type": "code",
      "execution_count": 10,
      "metadata": {
        "id": "G7HFuqcgNEnF"
      },
      "outputs": [],
      "source": [
        "from tensorflow.keras.preprocessing.image import ImageDataGenerator\n",
        "\n",
        "train_datagen = ImageDataGenerator(rescale = 1./255,\n",
        "                                   shear_range = 0.2,\n",
        "                                   zoom_range = 0.2,\n",
        "                                   horizontal_flip = True)\n",
        "\n",
        "test_datagen = ImageDataGenerator(rescale = 1./255)"
      ]
    },
    {
      "cell_type": "code",
      "execution_count": null,
      "metadata": {
        "id": "LjITbvuxUjaH"
      },
      "outputs": [],
      "source": [
        ""
      ]
    },
    {
      "cell_type": "code",
      "execution_count": 11,
      "metadata": {
        "colab": {
          "base_uri": "https://localhost:8080/"
        },
        "id": "gmypCRtHKHxC",
        "outputId": "e229339f-3272-4ba3-9e23-71c1ba5ddbdc"
      },
      "outputs": [
        {
          "output_type": "stream",
          "name": "stdout",
          "text": [
            "Found 4117 images belonging to 6 classes.\n",
            "Found 1375 images belonging to 6 classes.\n"
          ]
        }
      ],
      "source": [
        "training_set = train_datagen.flow_from_directory('/content/drive/MyDrive/Colab Notebooks/Dataset/train',\n",
        "                                                 target_size = (224, 224),\n",
        "                                                 batch_size = 32,\n",
        "                                                 class_mode = 'categorical')\n",
        "\n",
        "testing_set = test_datagen.flow_from_directory('/content/drive/MyDrive/Colab Notebooks/Dataset/test',\n",
        "                                                 target_size = (224, 224),\n",
        "                                                 batch_size = 32,\n",
        "                                                 class_mode = 'categorical')"
      ]
    },
    {
      "cell_type": "code",
      "execution_count": 12,
      "metadata": {
        "id": "eEWvW-NwUz_n",
        "colab": {
          "base_uri": "https://localhost:8080/",
          "height": 113,
          "referenced_widgets": [
            "edf698d8bc7744438d8dc10143f5cff7",
            "2b99ed4c066f437f8d674c1d9cf74815",
            "9740a1d06f8c45cd857b4b374b21f3e8",
            "98a0431fbd5b4db0bbc75e91f5a4b0e5",
            "28513f1c2aef4d7eade8a74f69070427",
            "989e4294035540bf8cd18c81f7249ef8",
            "d2c2ef7984c14da9b1c9461971f288e3",
            "cbde197a27c944aabc80fa2edd6d19ac",
            "30cf12c598624b6391ca84454e4dc33f",
            "1991c063eb364727b42c1306414a10cc",
            "d03e4b14468f4335a3d9166e61b9a00d",
            "93213e575e6a4a53a1c7471057b0062f",
            "19379ad3debc4e96af92a4fbaa379606",
            "da16f0f5e46947bc91c7fd7c3f4d3f2b",
            "722a7a1d489045f8bb302c9457140f14",
            "48e86536111b4c6aa8f44ba42a969fe9",
            "aebf5a97ea07452aa1f3b7bea8d8d08c",
            "9f4c4fcbb267461792f9901333739e4a",
            "828f7773fff14aeaaa9c4dce86e5f199",
            "ac8b9616ccf84f8dab8d3ed4bd038ba7",
            "2912a9419b564f889485871c9ff4804c",
            "bfc3dad38f6a452a92ac63d9654d5be7",
            "a56882f89ab94deeb3cf6127fe43fdc7",
            "79491ae74076467ea972926dc23627ad",
            "3fb1c897073d443dbe17a2ab771c3f13",
            "1f4584353e544486abb341a23d8c009b",
            "e7a4147fa24649cfa8d8a8f806387a43",
            "1fa811b19f6b44dcaa12b2f5329ccb16",
            "a8f53040c0284bdb8c24ae69fbed4bf2",
            "5a0743a89de84cbebe304e338b81e4b2",
            "494eee82a1e046efb00c09c89517b13e",
            "5616d90a91bf4cacb520b55b27f79e91",
            "3187e0f5d7af4b27ada1e31b47d49a70"
          ]
        },
        "outputId": "04147798-37bf-4289-abc9-cdad3913550c"
      },
      "outputs": [
        {
          "output_type": "display_data",
          "data": {
            "text/plain": [
              "Downloading:   0%|          | 0.00/878k [00:00<?, ?B/s]"
            ],
            "application/vnd.jupyter.widget-view+json": {
              "version_major": 2,
              "version_minor": 0,
              "model_id": "edf698d8bc7744438d8dc10143f5cff7"
            }
          },
          "metadata": {}
        },
        {
          "output_type": "display_data",
          "data": {
            "text/plain": [
              "Downloading:   0%|          | 0.00/446k [00:00<?, ?B/s]"
            ],
            "application/vnd.jupyter.widget-view+json": {
              "version_major": 2,
              "version_minor": 0,
              "model_id": "93213e575e6a4a53a1c7471057b0062f"
            }
          },
          "metadata": {}
        },
        {
          "output_type": "display_data",
          "data": {
            "text/plain": [
              "Downloading:   0%|          | 0.00/481 [00:00<?, ?B/s]"
            ],
            "application/vnd.jupyter.widget-view+json": {
              "version_major": 2,
              "version_minor": 0,
              "model_id": "a56882f89ab94deeb3cf6127fe43fdc7"
            }
          },
          "metadata": {}
        }
      ],
      "source": [
        "tokenizer = RobertaTokenizer.from_pretrained('roberta-base')"
      ]
    },
    {
      "cell_type": "code",
      "execution_count": 13,
      "metadata": {
        "id": "5Q2bM3o87ZGF"
      },
      "outputs": [],
      "source": [
        "nClasses = train.food.nunique()"
      ]
    },
    {
      "cell_type": "code",
      "execution_count": 14,
      "metadata": {
        "id": "onVvPtpKU8jG"
      },
      "outputs": [],
      "source": [
        "MAX_LEN= 50"
      ]
    },
    {
      "cell_type": "code",
      "execution_count": 15,
      "metadata": {
        "id": "AVd3INJpu1N9"
      },
      "outputs": [],
      "source": [
        "# Preprocessing of texts according to BERT +\n",
        "# Cleaning of the texts\n",
        "import urllib.request\n",
        "import re\n",
        "import numpy as np\n",
        "def preprocess_text(sen):\n",
        "    # Removing html tags\n",
        "    sentence = remove_tags(sen)\n",
        "    # Remove punctuations and numbers\n",
        "    sentence = re.sub('[^a-zA-Z]', ' ', sentence)\n",
        "    # Single character removal\n",
        "    sentence = re.sub(r\"\\s+[a-zA-Z]\\s+\", ' ', sentence)\n",
        "    # Removing multiple spaces\n",
        "    sentence = re.sub(r'\\s+', ' ', sentence)\n",
        "    sentence = sentence.lower()\n",
        "    return sentence\n",
        "\n",
        "def remove_tags(text):\n",
        "    return TAG_RE.sub('', text)\n",
        "\n",
        "TAG_RE = re.compile(r'<[^>]+>')\n",
        "vec_preprocess_text = np.vectorize(preprocess_text)\n",
        "\n",
        "def get_tokens(text, tokenizer):\n",
        "  tokens = tokenizer.tokenize(text)\n",
        "  tokens = [\"[CLS]\"] + tokens + [\"[SEP]\"]\n",
        "  length = len(tokens)\n",
        "  if length > max_length:\n",
        "      tokens = tokens[:max_length]\n",
        "  return tokens, length  \n",
        "\n",
        "def get_masks(text, tokenizer, max_length):\n",
        "    \"\"\"Mask for padding\"\"\"\n",
        "    tokens, length = get_tokens(text, tokenizer)\n",
        "    return np.asarray([1]*len(tokens) + [0] * (max_length - len(tokens)))\n",
        "vec_get_masks = np.vectorize(get_masks, signature = '(),(),()->(n)')\n",
        "\n",
        "def get_segments(text, tokenizer, max_length):\n",
        "    \"\"\"Segments: 0 for the first sequence, 1 for the second\"\"\"\n",
        "    tokens, length = get_tokens(text, tokenizer)\n",
        "    segments = []\n",
        "    current_segment_id = 0\n",
        "    for token in tokens:\n",
        "        segments.append(current_segment_id)\n",
        "        if token == \"[SEP]\":\n",
        "            current_segment_id = 1\n",
        "    return np.asarray(segments + [0] * (max_length - len(tokens)))\n",
        "vec_get_segments = np.vectorize(get_segments, signature = '(),(),()->(n)')\n",
        "\n",
        "def get_ids(text, tokenizer, max_length):\n",
        "    \"\"\"Token ids from Tokenizer vocab\"\"\"\n",
        "    tokens, length = get_tokens(text, tokenizer)\n",
        "    token_ids = tokenizer.convert_tokens_to_ids(tokens)\n",
        "    input_ids = np.asarray(token_ids + [0] * (max_length-length))\n",
        "    return input_ids\n",
        "vec_get_ids = np.vectorize(get_ids, signature = '(),(),()->(n)')\n",
        "\n",
        "def get_texts(path):\n",
        "    path = path.decode('utf-8')\n",
        "    parts = path.split(os.sep)\n",
        "    image_name = parts[-1]\n",
        "    is_train = parts[-3] == 'train'\n",
        "    #print(train)\n",
        "    if is_train:\n",
        "      df = train\n",
        "    else:\n",
        "      df = test\n",
        "\n",
        "    text = df['text'][image_name]\n",
        "    return text\n",
        "\n",
        "vec_get_text = np.vectorize(get_texts)\n",
        "def prepare_text(paths):\n",
        "    #Preparing texts\n",
        "    \n",
        "    texts = vec_get_text(paths)\n",
        "    \n",
        "    text_array = vec_preprocess_text(texts)\n",
        "    ids = vec_get_ids(text_array, \n",
        "                      tokenizer, \n",
        "                      max_length).squeeze().astype(np.int32)\n",
        "    masks = vec_get_masks(text_array,\n",
        "                          tokenizer,\n",
        "                          max_length).squeeze().astype(np.int32)\n",
        "    segments = vec_get_segments(text_array,\n",
        "                                tokenizer,\n",
        "                                max_length).squeeze().astype(np.int32)\n",
        "    \n",
        "    return ids, segments, masks\n",
        "\n",
        "def clean(i, tokens):\n",
        "  try:\n",
        "    this_token = tokens[i]\n",
        "    next_token = tokens[i+1]\n",
        "  except:\n",
        "    return tokens\n",
        "  if '##' in next_token:\n",
        "      tokens.remove(next_token)\n",
        "      tokens[i] = this_token + next_token[2:]\n",
        "      tokens = clean(i, tokens)\n",
        "      return tokens\n",
        "  else:\n",
        "    i = i+1\n",
        "    tokens = clean(i, tokens)\n",
        "    return tokens\n",
        "\n",
        "def clean_text(array):\n",
        "  array = array[(array!=0) & (array != 101) & (array != 102)]\n",
        "  tokens = tokenizer.convert_ids_to_tokens(array)\n",
        "  tokens = clean(0, tokens)\n",
        "  text = ' '.join(tokens)\n",
        "  return text"
      ]
    },
    {
      "cell_type": "code",
      "execution_count": 16,
      "metadata": {
        "id": "NfQnvc5cVA7S"
      },
      "outputs": [],
      "source": [
        "# Images preprocessing\n",
        "import cv2\n",
        "def load_image(path):\n",
        "    path = path.decode('utf-8')\n",
        "    image = cv2.imread(path)\n",
        "    image = cv2.resize(image, (img_width, img_height))\n",
        "    image = image/255\n",
        "    #print(type(image))\n",
        "    image = image.astype(np.float32)\n",
        "    parts = path.split(os.sep)\n",
        "    labels = parts[-2] == Classes \n",
        "    labels = labels.astype(np.int32)\n",
        "    \n",
        "    return image, labels\n",
        "    \n",
        "vec_load_image = np.vectorize(load_image, signature = '()->(r,c,d),(s)')"
      ]
    },
    {
      "cell_type": "code",
      "execution_count": 17,
      "metadata": {
        "id": "phEUfGcER3k8"
      },
      "outputs": [],
      "source": [
        "# Dataset creation\n",
        "\n",
        "def prepare_data(paths):\n",
        "    #Images and labels\n",
        "    images, labels = tf.numpy_function(vec_load_image, \n",
        "                                      [paths], \n",
        "                                      [tf.float32, \n",
        "                                        tf.int32])   \n",
        "    \n",
        "    \n",
        "    [ids, segments, masks, ] = tf.numpy_function(prepare_text, \n",
        "                                              [paths], \n",
        "                                              [tf.int32, \n",
        "                                               tf.int32,\n",
        "                                               tf.int32])\n",
        "    images.set_shape([None, img_width, img_height, depth])\n",
        "    labels.set_shape([None, nClasses])\n",
        "    ids.set_shape([None, max_length])\n",
        "    masks.set_shape([None, max_length])\n",
        "    segments.set_shape([None, max_length])\n",
        "    return ({\"input_word_ids\": ids, \n",
        "             \"input_mask\": masks,  \n",
        "             \"segment_ids\": segments, \n",
        "             \"image\": images},\n",
        "            {\"class\": labels})\n",
        "    \n",
        "\n",
        "    return dataset"
      ]
    },
    {
      "cell_type": "code",
      "execution_count": 18,
      "metadata": {
        "colab": {
          "base_uri": "https://localhost:8080/"
        },
        "id": "Mo8VKOC0V4zI",
        "outputId": "51bdf7ae-98d4-42b3-8d56-714a0166f6c4"
      },
      "outputs": [
        {
          "output_type": "stream",
          "name": "stdout",
          "text": [
            "['apple_pie' 'carrot_cake' 'cheesecake' 'club_sandwich' 'falafel'\n",
            " 'grilled_cheese_sandwich']\n",
            "6\n",
            "['apple_pie' 'carrot_cake' 'cheesecake' 'club_sandwich' 'falafel'\n",
            " 'grilled_cheese_sandwich']\n"
          ]
        }
      ],
      "source": [
        "# Parameters setting: images width and height, depth, number if classes, input shape\n",
        "#batch_size =  80\n",
        "batch_size= 32\n",
        "img_width = 224\n",
        "img_height = 224\n",
        "depth = 3\n",
        "max_length = 50 #Setup according to the text\n",
        "n=test.food.unique()\n",
        "print(n)\n",
        "nClasses = train.food.nunique()\n",
        "print(nClasses)\n",
        "Classes = train.food.unique()\n",
        "print(Classes)\n",
        "input_shape = (img_width, img_height, depth)"
      ]
    },
    {
      "cell_type": "code",
      "execution_count": 21,
      "metadata": {
        "id": "duvsfZgHV-qs"
      },
      "outputs": [],
      "source": [
        "# Images loading using tf.data\n",
        "def tf_data(path, batch_size):\n",
        "    paths = tf.data.Dataset.list_files(path)\n",
        "    paths = paths.batch(64)\n",
        "    dataset = paths.map(prepare_data, tf.data.experimental.AUTOTUNE)\n",
        "    dataset = dataset.prefetch(tf.data.experimental.AUTOTUNE)\n",
        "    dataset = dataset.unbatch()\n",
        "    dataset = dataset.batch(batch_size)\n",
        "    dataset = dataset.repeat()\n",
        "    return dataset   \n",
        "data_train = tf_data('/content/drive/MyDrive/Colab Notebooks/Dataset/train/*/*.jpg', batch_size)\n",
        "data_test = tf_data('/content/drive/MyDrive/Colab Notebooks/Dataset/test/*/*.jpg', batch_size)\n",
        "#os.listdir('d:/Work Station/Image-and-Text-fusion-for-UPMC-Food-101-using-BERT-and-CNNs/Images/train')"
      ]
    },
    {
      "cell_type": "code",
      "execution_count": 22,
      "metadata": {
        "id": "KxRk7MXXWJhx"
      },
      "outputs": [],
      "source": [
        "import keras,os\n",
        "from keras.applications.vgg16 import VGG16\n",
        "from keras.models import Sequential\n",
        "from tensorflow.keras.layers import Input,Lambda,Dense, Flatten\n",
        "from keras.preprocessing.image import ImageDataGenerator\n",
        "from keras.preprocessing.image import load_img\n",
        "from glob import glob\n",
        "import numpy as np"
      ]
    },
    {
      "cell_type": "code",
      "execution_count": 23,
      "metadata": {
        "id": "FHymHzBCW-lP",
        "colab": {
          "base_uri": "https://localhost:8080/"
        },
        "outputId": "35208379-f926-41d7-fc1c-52c321858bdb"
      },
      "outputs": [
        {
          "output_type": "stream",
          "name": "stdout",
          "text": [
            "Downloading data from https://storage.googleapis.com/tensorflow/keras-applications/vgg16/vgg16_weights_tf_dim_ordering_tf_kernels_notop.h5\n",
            "58892288/58889256 [==============================] - 0s 0us/step\n",
            "58900480/58889256 [==============================] - 0s 0us/step\n"
          ]
        }
      ],
      "source": [
        "vgg16 = VGG16(input_shape=[224,224]+ [3], weights='imagenet', include_top=False)"
      ]
    },
    {
      "cell_type": "code",
      "execution_count": 24,
      "metadata": {
        "id": "p1NTunCoXBfz"
      },
      "outputs": [],
      "source": [
        "for layer in vgg16.layers:\n",
        "  layer.trainable=True"
      ]
    },
    {
      "cell_type": "code",
      "execution_count": 25,
      "metadata": {
        "id": "j_KmicehXEZH"
      },
      "outputs": [],
      "source": [
        "x= Flatten()(vgg16.output)\n",
        "x = Dense(256, activation='relu')(x)\n",
        "x = Dense(256, activation='relu')(x)\n",
        "prediction = Dense(256, activation ='relu')(x)"
      ]
    },
    {
      "cell_type": "code",
      "execution_count": 26,
      "metadata": {
        "id": "A_hrQpwHXKcf"
      },
      "outputs": [],
      "source": [
        "from tensorflow.keras.models import Model\n",
        "model_vgg = Model(inputs=vgg16.input, outputs= prediction)"
      ]
    },
    {
      "cell_type": "code",
      "execution_count": 27,
      "metadata": {
        "colab": {
          "base_uri": "https://localhost:8080/"
        },
        "id": "ilFcqwy5XLFx",
        "outputId": "16d5040e-38ce-4a43-fdb9-8a49af7b3049"
      },
      "outputs": [
        {
          "output_type": "stream",
          "name": "stdout",
          "text": [
            "Model: \"model\"\n",
            "_________________________________________________________________\n",
            " Layer (type)                Output Shape              Param #   \n",
            "=================================================================\n",
            " input_1 (InputLayer)        [(None, 224, 224, 3)]     0         \n",
            "                                                                 \n",
            " block1_conv1 (Conv2D)       (None, 224, 224, 64)      1792      \n",
            "                                                                 \n",
            " block1_conv2 (Conv2D)       (None, 224, 224, 64)      36928     \n",
            "                                                                 \n",
            " block1_pool (MaxPooling2D)  (None, 112, 112, 64)      0         \n",
            "                                                                 \n",
            " block2_conv1 (Conv2D)       (None, 112, 112, 128)     73856     \n",
            "                                                                 \n",
            " block2_conv2 (Conv2D)       (None, 112, 112, 128)     147584    \n",
            "                                                                 \n",
            " block2_pool (MaxPooling2D)  (None, 56, 56, 128)       0         \n",
            "                                                                 \n",
            " block3_conv1 (Conv2D)       (None, 56, 56, 256)       295168    \n",
            "                                                                 \n",
            " block3_conv2 (Conv2D)       (None, 56, 56, 256)       590080    \n",
            "                                                                 \n",
            " block3_conv3 (Conv2D)       (None, 56, 56, 256)       590080    \n",
            "                                                                 \n",
            " block3_pool (MaxPooling2D)  (None, 28, 28, 256)       0         \n",
            "                                                                 \n",
            " block4_conv1 (Conv2D)       (None, 28, 28, 512)       1180160   \n",
            "                                                                 \n",
            " block4_conv2 (Conv2D)       (None, 28, 28, 512)       2359808   \n",
            "                                                                 \n",
            " block4_conv3 (Conv2D)       (None, 28, 28, 512)       2359808   \n",
            "                                                                 \n",
            " block4_pool (MaxPooling2D)  (None, 14, 14, 512)       0         \n",
            "                                                                 \n",
            " block5_conv1 (Conv2D)       (None, 14, 14, 512)       2359808   \n",
            "                                                                 \n",
            " block5_conv2 (Conv2D)       (None, 14, 14, 512)       2359808   \n",
            "                                                                 \n",
            " block5_conv3 (Conv2D)       (None, 14, 14, 512)       2359808   \n",
            "                                                                 \n",
            " block5_pool (MaxPooling2D)  (None, 7, 7, 512)         0         \n",
            "                                                                 \n",
            " flatten (Flatten)           (None, 25088)             0         \n",
            "                                                                 \n",
            " dense (Dense)               (None, 256)               6422784   \n",
            "                                                                 \n",
            " dense_1 (Dense)             (None, 256)               65792     \n",
            "                                                                 \n",
            " dense_2 (Dense)             (None, 256)               65792     \n",
            "                                                                 \n",
            "=================================================================\n",
            "Total params: 21,269,056\n",
            "Trainable params: 21,269,056\n",
            "Non-trainable params: 0\n",
            "_________________________________________________________________\n"
          ]
        }
      ],
      "source": [
        "model_vgg.summary()"
      ]
    },
    {
      "cell_type": "code",
      "execution_count": 28,
      "metadata": {
        "id": "yc_jAAxhXSIq"
      },
      "outputs": [],
      "source": [
        "model_vgg.compile(\n",
        "  loss='categorical_crossentropy',\n",
        "  optimizer='adam',\n",
        "  metrics=['accuracy']\n",
        ")"
      ]
    },
    {
      "cell_type": "code",
      "execution_count": 29,
      "metadata": {
        "colab": {
          "base_uri": "https://localhost:8080/",
          "height": 1000
        },
        "id": "-2Eqw_oqXWdQ",
        "outputId": "1ee34e56-c980-437e-9b0c-1fca16b4e1cb"
      },
      "outputs": [
        {
          "output_type": "execute_result",
          "data": {
            "text/plain": [
              "<IPython.core.display.Image object>"
            ],
            "image/png": "[encoded data removed]"
          },
          "metadata": {},
          "execution_count": 29
        }
      ],
      "source": [
        "from tensorflow.keras.utils import plot_model\n",
        "plot_model(model_vgg, to_file='model_vgc.png')"
      ]
    },
    {
      "cell_type": "code",
      "execution_count": 30,
      "metadata": {
        "colab": {
          "base_uri": "https://localhost:8080/",
          "height": 156,
          "referenced_widgets": [
            "a90a7eca46dd4cfd9e5842fe4574d746",
            "57fee2da88a94b93b985584fe005d43b",
            "77833da900d14a2d946488459a2a210f",
            "c8c140d8ec1b41c69a6ecf862d18acee",
            "530b4e8cc575493dab3ec3f26f2484c4",
            "53a51cda37214afdacff0630e8238880",
            "5fcd7196c4404abfb3cea79f9d33705e",
            "8fd19350e5444b10aaa5a6882344e400",
            "39ad3e82d51a4b6ba71a30a746439b59",
            "ed5f0ac204824297bfd29ae45ffc578e",
            "9384f8b731be42abbf9713b8828b3964"
          ]
        },
        "id": "DWg0So8HXa-B",
        "outputId": "aacd8a14-9c13-45b6-cbd6-a94bbcd8d863"
      },
      "outputs": [
        {
          "output_type": "display_data",
          "data": {
            "text/plain": [
              "Downloading:   0%|          | 0.00/627M [00:00<?, ?B/s]"
            ],
            "application/vnd.jupyter.widget-view+json": {
              "version_major": 2,
              "version_minor": 0,
              "model_id": "a90a7eca46dd4cfd9e5842fe4574d746"
            }
          },
          "metadata": {}
        },
        {
          "output_type": "stream",
          "name": "stderr",
          "text": [
            "Some layers from the model checkpoint at roberta-base were not used when initializing TFRobertaModel: ['lm_head']\n",
            "- This IS expected if you are initializing TFRobertaModel from the checkpoint of a model trained on another task or with another architecture (e.g. initializing a BertForSequenceClassification model from a BertForPreTraining model).\n",
            "- This IS NOT expected if you are initializing TFRobertaModel from the checkpoint of a model that you expect to be exactly identical (initializing a BertForSequenceClassification model from a BertForSequenceClassification model).\n",
            "All the layers of TFRobertaModel were initialized from the model checkpoint at roberta-base.\n",
            "If your task is similar to the task the model of the checkpoint was trained on, you can already use TFRobertaModel for predictions without further training.\n"
          ]
        }
      ],
      "source": [
        "input_word_ids = tf.keras.Input(shape=(MAX_LEN,), dtype=tf.int32, name='input_word_ids')\n",
        "input_mask = tf.keras.Input(shape=(MAX_LEN,), dtype=tf.int32, name='input_mask')\n",
        "segment_ids = tf.keras.Input(shape=(MAX_LEN,), dtype=tf.int32, name='segment_ids')\n",
        "roberta_model = TFRobertaModel.from_pretrained('roberta-base')\n",
        "x = roberta_model([input_word_ids,input_mask,segment_ids])\n",
        "x = x[0]\n",
        "x = tf.keras.layers.Dense(256, activation='relu')(x)\n",
        "x = tf.keras.layers.Dense(256, activation='relu')(x)\n",
        "x = tf.keras.layers.Flatten()(x)\n",
        "x = tf.keras.layers.Dense(256, activation='relu')(x)\n",
        "model_roberta = tf.keras.Model(inputs=[input_word_ids,input_mask,segment_ids], outputs=[x])"
      ]
    },
    {
      "cell_type": "code",
      "execution_count": 31,
      "metadata": {
        "id": "QDH3YDcxYSj-"
      },
      "outputs": [],
      "source": [
        "for layer in model_roberta.layers:\n",
        "    layer.trainable = True"
      ]
    },
    {
      "cell_type": "code",
      "execution_count": 32,
      "metadata": {
        "colab": {
          "base_uri": "https://localhost:8080/"
        },
        "id": "6WaL1ja6YY1S",
        "outputId": "e8a24cff-d2e2-4cab-ba5f-98c727164686"
      },
      "outputs": [
        {
          "output_type": "stream",
          "name": "stdout",
          "text": [
            "Model: \"model_1\"\n",
            "__________________________________________________________________________________________________\n",
            " Layer (type)                   Output Shape         Param #     Connected to                     \n",
            "==================================================================================================\n",
            " input_word_ids (InputLayer)    [(None, 50)]         0           []                               \n",
            "                                                                                                  \n",
            " input_mask (InputLayer)        [(None, 50)]         0           []                               \n",
            "                                                                                                  \n",
            " segment_ids (InputLayer)       [(None, 50)]         0           []                               \n",
            "                                                                                                  \n",
            " tf_roberta_model (TFRobertaMod  TFBaseModelOutputWi  124645632  ['input_word_ids[0][0]',         \n",
            " el)                            thPoolingAndCrossAt               'input_mask[0][0]',             \n",
            "                                tentions(last_hidde               'segment_ids[0][0]']            \n",
            "                                n_state=(None, 50,                                                \n",
            "                                768),                                                             \n",
            "                                 pooler_output=(Non                                               \n",
            "                                e, 768),                                                          \n",
            "                                 past_key_values=No                                               \n",
            "                                ne, hidden_states=N                                               \n",
            "                                one, attentions=Non                                               \n",
            "                                e, cross_attentions                                               \n",
            "                                =None)                                                            \n",
            "                                                                                                  \n",
            " dense_3 (Dense)                (None, 50, 256)      196864      ['tf_roberta_model[0][0]']       \n",
            "                                                                                                  \n",
            " dense_4 (Dense)                (None, 50, 256)      65792       ['dense_3[0][0]']                \n",
            "                                                                                                  \n",
            " flatten_1 (Flatten)            (None, 12800)        0           ['dense_4[0][0]']                \n",
            "                                                                                                  \n",
            " dense_5 (Dense)                (None, 256)          3277056     ['flatten_1[0][0]']              \n",
            "                                                                                                  \n",
            "==================================================================================================\n",
            "Total params: 128,185,344\n",
            "Trainable params: 128,185,344\n",
            "Non-trainable params: 0\n",
            "__________________________________________________________________________________________________\n"
          ]
        }
      ],
      "source": [
        "model_roberta.summary()"
      ]
    },
    {
      "cell_type": "code",
      "source": [
        "model_roberta.compile(\n",
        "            optimizer=tf.keras.optimizers.Adam(lr=1e-5),\n",
        "            loss='categorical_crossentropy',\n",
        "            metrics=['accuracy'])"
      ],
      "metadata": {
        "id": "9tn5eJLptjaL"
      },
      "execution_count": 33,
      "outputs": []
    },
    {
      "cell_type": "code",
      "execution_count": 34,
      "metadata": {
        "colab": {
          "base_uri": "https://localhost:8080/",
          "height": 564
        },
        "id": "c2vpsGN0YfvR",
        "outputId": "fac9f532-3d97-4f84-e282-5f0bf2c8d224"
      },
      "outputs": [
        {
          "output_type": "execute_result",
          "data": {
            "text/plain": [
              "<IPython.core.display.Image object>"
            ],
            "image/png": "[encoded data removed]"
          },
          "metadata": {},
          "execution_count": 34
        }
      ],
      "source": [
        "plot_model(model_roberta, to_file='bert_roberta.png')"
      ]
    },
    {
      "cell_type": "code",
      "execution_count": 36,
      "metadata": {
        "id": "0vGAGAl1YoyG"
      },
      "outputs": [],
      "source": [
        "# Stacking early-fusion multimodal model\n",
        "\n",
        "input_word_ids = layers.Input(shape=(max_length,), dtype=tf.int32,\n",
        "                                       name=\"input_word_ids\")\n",
        "input_mask = layers.Input(shape=(max_length,), dtype=tf.int32,\n",
        "                                   name=\"input_mask\")\n",
        "segment_ids = layers.Input(shape=(max_length,), dtype=tf.int32,\n",
        "                                    name=\"segment_ids\")\n",
        "image_input = layers.Input(shape = input_shape, dtype=tf.float32,\n",
        "                           name = \"image\")\n",
        "\n",
        "image_side = model_vgg(image_input)\n",
        "text_side = model_roberta([input_word_ids, input_mask, segment_ids])\n",
        "# Concatenate features from images and texts\n",
        "merged = layers.Concatenate()([image_side, text_side])\n",
        "merged = layers.Dense(224, activation = 'relu')(merged)\n",
        "#merged = layers.Dense(224, activation = 'relu')(merged)\n",
        "output = layers.Dense(nClasses, activation='softmax', name = \"class\")(merged)"
      ]
    },
    {
      "cell_type": "code",
      "execution_count": 37,
      "metadata": {
        "id": "dkmb7x0YYxX0"
      },
      "outputs": [],
      "source": [
        "model_combined= models.Model([input_word_ids, input_mask, segment_ids, image_input], output)"
      ]
    },
    {
      "cell_type": "code",
      "execution_count": 38,
      "metadata": {
        "colab": {
          "base_uri": "https://localhost:8080/"
        },
        "id": "0JRfr6LeY1wP",
        "outputId": "7f957ce9-03a0-479a-edbb-c7bb11df0f42"
      },
      "outputs": [
        {
          "output_type": "stream",
          "name": "stdout",
          "text": [
            "Model: \"model_2\"\n",
            "__________________________________________________________________________________________________\n",
            " Layer (type)                   Output Shape         Param #     Connected to                     \n",
            "==================================================================================================\n",
            " image (InputLayer)             [(None, 224, 224, 3  0           []                               \n",
            "                                )]                                                                \n",
            "                                                                                                  \n",
            " input_word_ids (InputLayer)    [(None, 50)]         0           []                               \n",
            "                                                                                                  \n",
            " input_mask (InputLayer)        [(None, 50)]         0           []                               \n",
            "                                                                                                  \n",
            " segment_ids (InputLayer)       [(None, 50)]         0           []                               \n",
            "                                                                                                  \n",
            " model (Functional)             (None, 256)          21269056    ['image[0][0]']                  \n",
            "                                                                                                  \n",
            " model_1 (Functional)           (None, 256)          128185344   ['input_word_ids[0][0]',         \n",
            "                                                                  'input_mask[0][0]',             \n",
            "                                                                  'segment_ids[0][0]']            \n",
            "                                                                                                  \n",
            " concatenate_1 (Concatenate)    (None, 512)          0           ['model[1][0]',                  \n",
            "                                                                  'model_1[1][0]']                \n",
            "                                                                                                  \n",
            " dense_8 (Dense)                (None, 224)          114912      ['concatenate_1[0][0]']          \n",
            "                                                                                                  \n",
            " class (Dense)                  (None, 6)            1350        ['dense_8[0][0]']                \n",
            "                                                                                                  \n",
            "==================================================================================================\n",
            "Total params: 149,570,662\n",
            "Trainable params: 149,570,662\n",
            "Non-trainable params: 0\n",
            "__________________________________________________________________________________________________\n"
          ]
        }
      ],
      "source": [
        "model_combined.summary()"
      ]
    },
    {
      "cell_type": "code",
      "execution_count": 39,
      "metadata": {
        "colab": {
          "base_uri": "https://localhost:8080/",
          "height": 466
        },
        "id": "nrmLsiMFY7hw",
        "outputId": "a2713b44-6272-4e59-c8be-8063363ddb4a"
      },
      "outputs": [
        {
          "output_type": "execute_result",
          "data": {
            "text/plain": [
              "<IPython.core.display.Image object>"
            ],
            "image/png": "[encoded data removed]"
          },
          "metadata": {},
          "execution_count": 39
        }
      ],
      "source": [
        "from tensorflow.keras.utils import plot_model\n",
        "plot_model(model_combined, to_file='multimodal_RoBERTa+VGC16.png')"
      ]
    },
    {
      "cell_type": "code",
      "execution_count": 40,
      "metadata": {
        "id": "viF_EBt-ZDf2"
      },
      "outputs": [],
      "source": [
        "# Stochastic Gradient Descent optimizer\n",
        "sgd = optimizers.SGD(learning_rate=0.0001, momentum=0.9, nesterov=False)\n",
        "\n",
        "# Compile model\n",
        "model_combined.compile(loss='categorical_crossentropy', \n",
        "              optimizer=sgd, \n",
        "              metrics=['accuracy'])"
      ]
    },
    {
      "cell_type": "code",
      "execution_count": 41,
      "metadata": {
        "colab": {
          "base_uri": "https://localhost:8080/"
        },
        "id": "STEkNebMZFzG",
        "outputId": "1ead3f81-7fa0-4649-905c-d6d57edceb45"
      },
      "outputs": [
        {
          "output_type": "stream",
          "name": "stdout",
          "text": [
            "<keras.callbacks.ModelCheckpoint object at 0x7f030def44d0>\n",
            "<keras.callbacks.CSVLogger object at 0x7f03021459d0>\n"
          ]
        }
      ],
      "source": [
        "# Setup callbacks, logs and early stopping condition\n",
        "import keras\n",
        "from keras import callbacks\n",
        "import numpy as np\n",
        "import h5py\n",
        "from keras.layers import Dense\n",
        "from keras.callbacks import ModelCheckpoint\n",
        "checkpoint_path = \"stacking_early_fusion.weights-improvement-{epoch:02d}-{val_accuracy:.2f}.hdf5\"\n",
        "#checkpoint_path= \"weights-improvement-{epoch:02d}-{val_accuracy:.2f}.hdf5\"\n",
        "cp = callbacks.ModelCheckpoint(checkpoint_path, monitor='val_accuracy',save_best_only=True, save_weights_only=True, verbose=1, mode='max')\n",
        "print(cp)\n",
        "csv_logger = callbacks.CSVLogger('StackingEarlyFusion.log')\n",
        "print(csv_logger)\n",
        "es = callbacks.EarlyStopping(patience = 3, restore_best_weights=True)"
      ]
    },
    {
      "cell_type": "code",
      "execution_count": 42,
      "metadata": {
        "id": "BEmERpRAZILy"
      },
      "outputs": [],
      "source": [
        "#Reduce learning rate if no improvement is observed\n",
        "from keras.callbacks import ReduceLROnPlateau\n",
        "reduce_lr = callbacks.ReduceLROnPlateau(\n",
        "    monitor='val_accuracy', factor=0.1, patience=1, min_lr=0.00001)"
      ]
    },
    {
      "cell_type": "code",
      "execution_count": 43,
      "metadata": {
        "colab": {
          "base_uri": "https://localhost:8080/"
        },
        "id": "04Nku3v7ZO0o",
        "outputId": "2a1e026d-e577-4a66-c555-c1e88238f4db"
      },
      "outputs": [
        {
          "output_type": "stream",
          "name": "stdout",
          "text": [
            "Epoch 1/10\n",
            "WARNING:tensorflow:Gradients do not exist for variables ['tf_roberta_model/roberta/pooler/dense/kernel:0', 'tf_roberta_model/roberta/pooler/dense/bias:0'] when minimizing the loss. If you're using `model.compile()`, did you forget to provide a `loss`argument?\n",
            "WARNING:tensorflow:Gradients do not exist for variables ['tf_roberta_model/roberta/pooler/dense/kernel:0', 'tf_roberta_model/roberta/pooler/dense/bias:0'] when minimizing the loss. If you're using `model.compile()`, did you forget to provide a `loss`argument?\n",
            "128/128 [==============================] - ETA: 0s - loss: 1.7550 - accuracy: 0.2595\n",
            "Epoch 1: val_accuracy improved from -inf to 0.38467, saving model to stacking_early_fusion.weights-improvement-01-0.38.hdf5\n",
            "128/128 [==============================] - 909s 7s/step - loss: 1.7550 - accuracy: 0.2595 - val_loss: 1.6785 - val_accuracy: 0.3847 - lr: 1.0000e-04\n",
            "Epoch 2/10\n",
            "128/128 [==============================] - ETA: 0s - loss: 1.4954 - accuracy: 0.4913\n",
            "Epoch 2: val_accuracy improved from 0.38467 to 0.57440, saving model to stacking_early_fusion.weights-improvement-02-0.57.hdf5\n",
            "128/128 [==============================] - 125s 937ms/step - loss: 1.4954 - accuracy: 0.4913 - val_loss: 1.2334 - val_accuracy: 0.5744 - lr: 1.0000e-04\n",
            "Epoch 3/10\n",
            "128/128 [==============================] - ETA: 0s - loss: 0.8630 - accuracy: 0.7111\n",
            "Epoch 3: val_accuracy improved from 0.57440 to 0.84896, saving model to stacking_early_fusion.weights-improvement-03-0.85.hdf5\n",
            "128/128 [==============================] - 118s 924ms/step - loss: 0.8630 - accuracy: 0.7111 - val_loss: 0.5052 - val_accuracy: 0.8490 - lr: 1.0000e-04\n",
            "Epoch 4/10\n",
            "128/128 [==============================] - ETA: 0s - loss: 0.3103 - accuracy: 0.9129\n",
            "Epoch 4: val_accuracy improved from 0.84896 to 0.94568, saving model to stacking_early_fusion.weights-improvement-04-0.95.hdf5\n",
            "128/128 [==============================] - 118s 925ms/step - loss: 0.3103 - accuracy: 0.9129 - val_loss: 0.1928 - val_accuracy: 0.9457 - lr: 1.0000e-04\n",
            "Epoch 5/10\n",
            "128/128 [==============================] - ETA: 0s - loss: 0.1500 - accuracy: 0.9591\n",
            "Epoch 5: val_accuracy improved from 0.94568 to 0.95982, saving model to stacking_early_fusion.weights-improvement-05-0.96.hdf5\n",
            "128/128 [==============================] - 118s 924ms/step - loss: 0.1500 - accuracy: 0.9591 - val_loss: 0.1292 - val_accuracy: 0.9598 - lr: 1.0000e-04\n",
            "Epoch 6/10\n",
            "128/128 [==============================] - ETA: 0s - loss: 0.0881 - accuracy: 0.9770\n",
            "Epoch 6: val_accuracy did not improve from 0.95982\n",
            "128/128 [==============================] - 115s 899ms/step - loss: 0.0881 - accuracy: 0.9770 - val_loss: 0.1294 - val_accuracy: 0.9554 - lr: 1.0000e-04\n",
            "Epoch 7/10\n",
            "128/128 [==============================] - ETA: 0s - loss: 0.0683 - accuracy: 0.9814\n",
            "Epoch 7: val_accuracy improved from 0.95982 to 0.96057, saving model to stacking_early_fusion.weights-improvement-07-0.96.hdf5\n",
            "128/128 [==============================] - 117s 919ms/step - loss: 0.0683 - accuracy: 0.9814 - val_loss: 0.1173 - val_accuracy: 0.9606 - lr: 1.0000e-05\n",
            "Epoch 8/10\n",
            "128/128 [==============================] - ETA: 0s - loss: 0.0556 - accuracy: 0.9863\n",
            "Epoch 8: val_accuracy did not improve from 0.96057\n",
            "128/128 [==============================] - 115s 900ms/step - loss: 0.0556 - accuracy: 0.9863 - val_loss: 0.1147 - val_accuracy: 0.9606 - lr: 1.0000e-05\n",
            "Epoch 9/10\n",
            "128/128 [==============================] - ETA: 0s - loss: 0.0543 - accuracy: 0.9878\n",
            "Epoch 9: val_accuracy did not improve from 0.96057\n",
            "128/128 [==============================] - 115s 903ms/step - loss: 0.0543 - accuracy: 0.9878 - val_loss: 0.1183 - val_accuracy: 0.9591 - lr: 1.0000e-05\n",
            "Epoch 10/10\n",
            "128/128 [==============================] - ETA: 0s - loss: 0.0512 - accuracy: 0.9875\n",
            "Epoch 10: val_accuracy did not improve from 0.96057\n",
            "128/128 [==============================] - 115s 901ms/step - loss: 0.0512 - accuracy: 0.9875 - val_loss: 0.1114 - val_accuracy: 0.9598 - lr: 1.0000e-05\n"
          ]
        }
      ],
      "source": [
        "# Training\n",
        "history = model_combined.fit(data_train,\n",
        "                    epochs=10,\n",
        "                    steps_per_epoch = train.shape[0] //batch_size,\n",
        "                    validation_data = data_test,\n",
        "                    validation_steps = test.shape[0] //batch_size,\n",
        "                    callbacks=[cp, csv_logger, reduce_lr])"
      ]
    },
    {
      "cell_type": "code",
      "source": [
        ""
      ],
      "metadata": {
        "id": "8Dv2ExuVwbhH"
      },
      "execution_count": null,
      "outputs": []
    }
  ],
  "metadata": {
    "accelerator": "GPU",
    "colab": {
      "name": "RoBERTa+VGG16_3Dense_EarlyFusion+1 Dense.ipynb",
      "provenance": [],
      "collapsed_sections": []
    },
    "gpuClass": "standard",
    "kernelspec": {
      "display_name": "Python 3",
      "name": "python3"
    },
    "language_info": {
      "name": "python"
    },
    "widgets": {
      "application/vnd.jupyter.widget-state+json": {
        "edf698d8bc7744438d8dc10143f5cff7": {
          "model_module": "@jupyter-widgets/controls",
          "model_name": "HBoxModel",
          "model_module_version": "1.5.0",
          "state": {
            "_dom_classes": [],
            "_model_module": "@jupyter-widgets/controls",
            "_model_module_version": "1.5.0",
            "_model_name": "HBoxModel",
            "_view_count": null,
            "_view_module": "@jupyter-widgets/controls",
            "_view_module_version": "1.5.0",
            "_view_name": "HBoxView",
            "box_style": "",
            "children": [
              "IPY_MODEL_2b99ed4c066f437f8d674c1d9cf74815",
              "IPY_MODEL_9740a1d06f8c45cd857b4b374b21f3e8",
              "IPY_MODEL_98a0431fbd5b4db0bbc75e91f5a4b0e5"
            ],
            "layout": "IPY_MODEL_28513f1c2aef4d7eade8a74f69070427"
          }
        },
        "2b99ed4c066f437f8d674c1d9cf74815": {
          "model_module": "@jupyter-widgets/controls",
          "model_name": "HTMLModel",
          "model_module_version": "1.5.0",
          "state": {
            "_dom_classes": [],
            "_model_module": "@jupyter-widgets/controls",
            "_model_module_version": "1.5.0",
            "_model_name": "HTMLModel",
            "_view_count": null,
            "_view_module": "@jupyter-widgets/controls",
            "_view_module_version": "1.5.0",
            "_view_name": "HTMLView",
            "description": "",
            "description_tooltip": null,
            "layout": "IPY_MODEL_989e4294035540bf8cd18c81f7249ef8",
            "placeholder": "​",
            "style": "IPY_MODEL_d2c2ef7984c14da9b1c9461971f288e3",
            "value": "Downloading: 100%"
          }
        },
        "9740a1d06f8c45cd857b4b374b21f3e8": {
          "model_module": "@jupyter-widgets/controls",
          "model_name": "FloatProgressModel",
          "model_module_version": "1.5.0",
          "state": {
            "_dom_classes": [],
            "_model_module": "@jupyter-widgets/controls",
            "_model_module_version": "1.5.0",
            "_model_name": "FloatProgressModel",
            "_view_count": null,
            "_view_module": "@jupyter-widgets/controls",
            "_view_module_version": "1.5.0",
            "_view_name": "ProgressView",
            "bar_style": "success",
            "description": "",
            "description_tooltip": null,
            "layout": "IPY_MODEL_cbde197a27c944aabc80fa2edd6d19ac",
            "max": 898823,
            "min": 0,
            "orientation": "horizontal",
            "style": "IPY_MODEL_30cf12c598624b6391ca84454e4dc33f",
            "value": 898823
          }
        },
        "98a0431fbd5b4db0bbc75e91f5a4b0e5": {
          "model_module": "@jupyter-widgets/controls",
          "model_name": "HTMLModel",
          "model_module_version": "1.5.0",
          "state": {
            "_dom_classes": [],
            "_model_module": "@jupyter-widgets/controls",
            "_model_module_version": "1.5.0",
            "_model_name": "HTMLModel",
            "_view_count": null,
            "_view_module": "@jupyter-widgets/controls",
            "_view_module_version": "1.5.0",
            "_view_name": "HTMLView",
            "description": "",
            "description_tooltip": null,
            "layout": "IPY_MODEL_1991c063eb364727b42c1306414a10cc",
            "placeholder": "​",
            "style": "IPY_MODEL_d03e4b14468f4335a3d9166e61b9a00d",
            "value": " 878k/878k [00:00&lt;00:00, 1.58MB/s]"
          }
        },
        "28513f1c2aef4d7eade8a74f69070427": {
          "model_module": "@jupyter-widgets/base",
          "model_name": "LayoutModel",
          "model_module_version": "1.2.0",
          "state": {
            "_model_module": "@jupyter-widgets/base",
            "_model_module_version": "1.2.0",
            "_model_name": "LayoutModel",
            "_view_count": null,
            "_view_module": "@jupyter-widgets/base",
            "_view_module_version": "1.2.0",
            "_view_name": "LayoutView",
            "align_content": null,
            "align_items": null,
            "align_self": null,
            "border": null,
            "bottom": null,
            "display": null,
            "flex": null,
            "flex_flow": null,
            "grid_area": null,
            "grid_auto_columns": null,
            "grid_auto_flow": null,
            "grid_auto_rows": null,
            "grid_column": null,
            "grid_gap": null,
            "grid_row": null,
            "grid_template_areas": null,
            "grid_template_columns": null,
            "grid_template_rows": null,
            "height": null,
            "justify_content": null,
            "justify_items": null,
            "left": null,
            "margin": null,
            "max_height": null,
            "max_width": null,
            "min_height": null,
            "min_width": null,
            "object_fit": null,
            "object_position": null,
            "order": null,
            "overflow": null,
            "overflow_x": null,
            "overflow_y": null,
            "padding": null,
            "right": null,
            "top": null,
            "visibility": null,
            "width": null
          }
        },
        "989e4294035540bf8cd18c81f7249ef8": {
          "model_module": "@jupyter-widgets/base",
          "model_name": "LayoutModel",
          "model_module_version": "1.2.0",
          "state": {
            "_model_module": "@jupyter-widgets/base",
            "_model_module_version": "1.2.0",
            "_model_name": "LayoutModel",
            "_view_count": null,
            "_view_module": "@jupyter-widgets/base",
            "_view_module_version": "1.2.0",
            "_view_name": "LayoutView",
            "align_content": null,
            "align_items": null,
            "align_self": null,
            "border": null,
            "bottom": null,
            "display": null,
            "flex": null,
            "flex_flow": null,
            "grid_area": null,
            "grid_auto_columns": null,
            "grid_auto_flow": null,
            "grid_auto_rows": null,
            "grid_column": null,
            "grid_gap": null,
            "grid_row": null,
            "grid_template_areas": null,
            "grid_template_columns": null,
            "grid_template_rows": null,
            "height": null,
            "justify_content": null,
            "justify_items": null,
            "left": null,
            "margin": null,
            "max_height": null,
            "max_width": null,
            "min_height": null,
            "min_width": null,
            "object_fit": null,
            "object_position": null,
            "order": null,
            "overflow": null,
            "overflow_x": null,
            "overflow_y": null,
            "padding": null,
            "right": null,
            "top": null,
            "visibility": null,
            "width": null
          }
        },
        "d2c2ef7984c14da9b1c9461971f288e3": {
          "model_module": "@jupyter-widgets/controls",
          "model_name": "DescriptionStyleModel",
          "model_module_version": "1.5.0",
          "state": {
            "_model_module": "@jupyter-widgets/controls",
            "_model_module_version": "1.5.0",
            "_model_name": "DescriptionStyleModel",
            "_view_count": null,
            "_view_module": "@jupyter-widgets/base",
            "_view_module_version": "1.2.0",
            "_view_name": "StyleView",
            "description_width": ""
          }
        },
        "cbde197a27c944aabc80fa2edd6d19ac": {
          "model_module": "@jupyter-widgets/base",
          "model_name": "LayoutModel",
          "model_module_version": "1.2.0",
          "state": {
            "_model_module": "@jupyter-widgets/base",
            "_model_module_version": "1.2.0",
            "_model_name": "LayoutModel",
            "_view_count": null,
            "_view_module": "@jupyter-widgets/base",
            "_view_module_version": "1.2.0",
            "_view_name": "LayoutView",
            "align_content": null,
            "align_items": null,
            "align_self": null,
            "border": null,
            "bottom": null,
            "display": null,
            "flex": null,
            "flex_flow": null,
            "grid_area": null,
            "grid_auto_columns": null,
            "grid_auto_flow": null,
            "grid_auto_rows": null,
            "grid_column": null,
            "grid_gap": null,
            "grid_row": null,
            "grid_template_areas": null,
            "grid_template_columns": null,
            "grid_template_rows": null,
            "height": null,
            "justify_content": null,
            "justify_items": null,
            "left": null,
            "margin": null,
            "max_height": null,
            "max_width": null,
            "min_height": null,
            "min_width": null,
            "object_fit": null,
            "object_position": null,
            "order": null,
            "overflow": null,
            "overflow_x": null,
            "overflow_y": null,
            "padding": null,
            "right": null,
            "top": null,
            "visibility": null,
            "width": null
          }
        },
        "30cf12c598624b6391ca84454e4dc33f": {
          "model_module": "@jupyter-widgets/controls",
          "model_name": "ProgressStyleModel",
          "model_module_version": "1.5.0",
          "state": {
            "_model_module": "@jupyter-widgets/controls",
            "_model_module_version": "1.5.0",
            "_model_name": "ProgressStyleModel",
            "_view_count": null,
            "_view_module": "@jupyter-widgets/base",
            "_view_module_version": "1.2.0",
            "_view_name": "StyleView",
            "bar_color": null,
            "description_width": ""
          }
        },
        "1991c063eb364727b42c1306414a10cc": {
          "model_module": "@jupyter-widgets/base",
          "model_name": "LayoutModel",
          "model_module_version": "1.2.0",
          "state": {
            "_model_module": "@jupyter-widgets/base",
            "_model_module_version": "1.2.0",
            "_model_name": "LayoutModel",
            "_view_count": null,
            "_view_module": "@jupyter-widgets/base",
            "_view_module_version": "1.2.0",
            "_view_name": "LayoutView",
            "align_content": null,
            "align_items": null,
            "align_self": null,
            "border": null,
            "bottom": null,
            "display": null,
            "flex": null,
            "flex_flow": null,
            "grid_area": null,
            "grid_auto_columns": null,
            "grid_auto_flow": null,
            "grid_auto_rows": null,
            "grid_column": null,
            "grid_gap": null,
            "grid_row": null,
            "grid_template_areas": null,
            "grid_template_columns": null,
            "grid_template_rows": null,
            "height": null,
            "justify_content": null,
            "justify_items": null,
            "left": null,
            "margin": null,
            "max_height": null,
            "max_width": null,
            "min_height": null,
            "min_width": null,
            "object_fit": null,
            "object_position": null,
            "order": null,
            "overflow": null,
            "overflow_x": null,
            "overflow_y": null,
            "padding": null,
            "right": null,
            "top": null,
            "visibility": null,
            "width": null
          }
        },
        "d03e4b14468f4335a3d9166e61b9a00d": {
          "model_module": "@jupyter-widgets/controls",
          "model_name": "DescriptionStyleModel",
          "model_module_version": "1.5.0",
          "state": {
            "_model_module": "@jupyter-widgets/controls",
            "_model_module_version": "1.5.0",
            "_model_name": "DescriptionStyleModel",
            "_view_count": null,
            "_view_module": "@jupyter-widgets/base",
            "_view_module_version": "1.2.0",
            "_view_name": "StyleView",
            "description_width": ""
          }
        },
        "93213e575e6a4a53a1c7471057b0062f": {
          "model_module": "@jupyter-widgets/controls",
          "model_name": "HBoxModel",
          "model_module_version": "1.5.0",
          "state": {
            "_dom_classes": [],
            "_model_module": "@jupyter-widgets/controls",
            "_model_module_version": "1.5.0",
            "_model_name": "HBoxModel",
            "_view_count": null,
            "_view_module": "@jupyter-widgets/controls",
            "_view_module_version": "1.5.0",
            "_view_name": "HBoxView",
            "box_style": "",
            "children": [
              "IPY_MODEL_19379ad3debc4e96af92a4fbaa379606",
              "IPY_MODEL_da16f0f5e46947bc91c7fd7c3f4d3f2b",
              "IPY_MODEL_722a7a1d489045f8bb302c9457140f14"
            ],
            "layout": "IPY_MODEL_48e86536111b4c6aa8f44ba42a969fe9"
          }
        },
        "19379ad3debc4e96af92a4fbaa379606": {
          "model_module": "@jupyter-widgets/controls",
          "model_name": "HTMLModel",
          "model_module_version": "1.5.0",
          "state": {
            "_dom_classes": [],
            "_model_module": "@jupyter-widgets/controls",
            "_model_module_version": "1.5.0",
            "_model_name": "HTMLModel",
            "_view_count": null,
            "_view_module": "@jupyter-widgets/controls",
            "_view_module_version": "1.5.0",
            "_view_name": "HTMLView",
            "description": "",
            "description_tooltip": null,
            "layout": "IPY_MODEL_aebf5a97ea07452aa1f3b7bea8d8d08c",
            "placeholder": "​",
            "style": "IPY_MODEL_9f4c4fcbb267461792f9901333739e4a",
            "value": "Downloading: 100%"
          }
        },
        "da16f0f5e46947bc91c7fd7c3f4d3f2b": {
          "model_module": "@jupyter-widgets/controls",
          "model_name": "FloatProgressModel",
          "model_module_version": "1.5.0",
          "state": {
            "_dom_classes": [],
            "_model_module": "@jupyter-widgets/controls",
            "_model_module_version": "1.5.0",
            "_model_name": "FloatProgressModel",
            "_view_count": null,
            "_view_module": "@jupyter-widgets/controls",
            "_view_module_version": "1.5.0",
            "_view_name": "ProgressView",
            "bar_style": "success",
            "description": "",
            "description_tooltip": null,
            "layout": "IPY_MODEL_828f7773fff14aeaaa9c4dce86e5f199",
            "max": 456318,
            "min": 0,
            "orientation": "horizontal",
            "style": "IPY_MODEL_ac8b9616ccf84f8dab8d3ed4bd038ba7",
            "value": 456318
          }
        },
        "722a7a1d489045f8bb302c9457140f14": {
          "model_module": "@jupyter-widgets/controls",
          "model_name": "HTMLModel",
          "model_module_version": "1.5.0",
          "state": {
            "_dom_classes": [],
            "_model_module": "@jupyter-widgets/controls",
            "_model_module_version": "1.5.0",
            "_model_name": "HTMLModel",
            "_view_count": null,
            "_view_module": "@jupyter-widgets/controls",
            "_view_module_version": "1.5.0",
            "_view_name": "HTMLView",
            "description": "",
            "description_tooltip": null,
            "layout": "IPY_MODEL_2912a9419b564f889485871c9ff4804c",
            "placeholder": "​",
            "style": "IPY_MODEL_bfc3dad38f6a452a92ac63d9654d5be7",
            "value": " 446k/446k [00:00&lt;00:00, 1.05MB/s]"
          }
        },
        "48e86536111b4c6aa8f44ba42a969fe9": {
          "model_module": "@jupyter-widgets/base",
          "model_name": "LayoutModel",
          "model_module_version": "1.2.0",
          "state": {
            "_model_module": "@jupyter-widgets/base",
            "_model_module_version": "1.2.0",
            "_model_name": "LayoutModel",
            "_view_count": null,
            "_view_module": "@jupyter-widgets/base",
            "_view_module_version": "1.2.0",
            "_view_name": "LayoutView",
            "align_content": null,
            "align_items": null,
            "align_self": null,
            "border": null,
            "bottom": null,
            "display": null,
            "flex": null,
            "flex_flow": null,
            "grid_area": null,
            "grid_auto_columns": null,
            "grid_auto_flow": null,
            "grid_auto_rows": null,
            "grid_column": null,
            "grid_gap": null,
            "grid_row": null,
            "grid_template_areas": null,
            "grid_template_columns": null,
            "grid_template_rows": null,
            "height": null,
            "justify_content": null,
            "justify_items": null,
            "left": null,
            "margin": null,
            "max_height": null,
            "max_width": null,
            "min_height": null,
            "min_width": null,
            "object_fit": null,
            "object_position": null,
            "order": null,
            "overflow": null,
            "overflow_x": null,
            "overflow_y": null,
            "padding": null,
            "right": null,
            "top": null,
            "visibility": null,
            "width": null
          }
        },
        "aebf5a97ea07452aa1f3b7bea8d8d08c": {
          "model_module": "@jupyter-widgets/base",
          "model_name": "LayoutModel",
          "model_module_version": "1.2.0",
          "state": {
            "_model_module": "@jupyter-widgets/base",
            "_model_module_version": "1.2.0",
            "_model_name": "LayoutModel",
            "_view_count": null,
            "_view_module": "@jupyter-widgets/base",
            "_view_module_version": "1.2.0",
            "_view_name": "LayoutView",
            "align_content": null,
            "align_items": null,
            "align_self": null,
            "border": null,
            "bottom": null,
            "display": null,
            "flex": null,
            "flex_flow": null,
            "grid_area": null,
            "grid_auto_columns": null,
            "grid_auto_flow": null,
            "grid_auto_rows": null,
            "grid_column": null,
            "grid_gap": null,
            "grid_row": null,
            "grid_template_areas": null,
            "grid_template_columns": null,
            "grid_template_rows": null,
            "height": null,
            "justify_content": null,
            "justify_items": null,
            "left": null,
            "margin": null,
            "max_height": null,
            "max_width": null,
            "min_height": null,
            "min_width": null,
            "object_fit": null,
            "object_position": null,
            "order": null,
            "overflow": null,
            "overflow_x": null,
            "overflow_y": null,
            "padding": null,
            "right": null,
            "top": null,
            "visibility": null,
            "width": null
          }
        },
        "9f4c4fcbb267461792f9901333739e4a": {
          "model_module": "@jupyter-widgets/controls",
          "model_name": "DescriptionStyleModel",
          "model_module_version": "1.5.0",
          "state": {
            "_model_module": "@jupyter-widgets/controls",
            "_model_module_version": "1.5.0",
            "_model_name": "DescriptionStyleModel",
            "_view_count": null,
            "_view_module": "@jupyter-widgets/base",
            "_view_module_version": "1.2.0",
            "_view_name": "StyleView",
            "description_width": ""
          }
        },
        "828f7773fff14aeaaa9c4dce86e5f199": {
          "model_module": "@jupyter-widgets/base",
          "model_name": "LayoutModel",
          "model_module_version": "1.2.0",
          "state": {
            "_model_module": "@jupyter-widgets/base",
            "_model_module_version": "1.2.0",
            "_model_name": "LayoutModel",
            "_view_count": null,
            "_view_module": "@jupyter-widgets/base",
            "_view_module_version": "1.2.0",
            "_view_name": "LayoutView",
            "align_content": null,
            "align_items": null,
            "align_self": null,
            "border": null,
            "bottom": null,
            "display": null,
            "flex": null,
            "flex_flow": null,
            "grid_area": null,
            "grid_auto_columns": null,
            "grid_auto_flow": null,
            "grid_auto_rows": null,
            "grid_column": null,
            "grid_gap": null,
            "grid_row": null,
            "grid_template_areas": null,
            "grid_template_columns": null,
            "grid_template_rows": null,
            "height": null,
            "justify_content": null,
            "justify_items": null,
            "left": null,
            "margin": null,
            "max_height": null,
            "max_width": null,
            "min_height": null,
            "min_width": null,
            "object_fit": null,
            "object_position": null,
            "order": null,
            "overflow": null,
            "overflow_x": null,
            "overflow_y": null,
            "padding": null,
            "right": null,
            "top": null,
            "visibility": null,
            "width": null
          }
        },
        "ac8b9616ccf84f8dab8d3ed4bd038ba7": {
          "model_module": "@jupyter-widgets/controls",
          "model_name": "ProgressStyleModel",
          "model_module_version": "1.5.0",
          "state": {
            "_model_module": "@jupyter-widgets/controls",
            "_model_module_version": "1.5.0",
            "_model_name": "ProgressStyleModel",
            "_view_count": null,
            "_view_module": "@jupyter-widgets/base",
            "_view_module_version": "1.2.0",
            "_view_name": "StyleView",
            "bar_color": null,
            "description_width": ""
          }
        },
        "2912a9419b564f889485871c9ff4804c": {
          "model_module": "@jupyter-widgets/base",
          "model_name": "LayoutModel",
          "model_module_version": "1.2.0",
          "state": {
            "_model_module": "@jupyter-widgets/base",
            "_model_module_version": "1.2.0",
            "_model_name": "LayoutModel",
            "_view_count": null,
            "_view_module": "@jupyter-widgets/base",
            "_view_module_version": "1.2.0",
            "_view_name": "LayoutView",
            "align_content": null,
            "align_items": null,
            "align_self": null,
            "border": null,
            "bottom": null,
            "display": null,
            "flex": null,
            "flex_flow": null,
            "grid_area": null,
            "grid_auto_columns": null,
            "grid_auto_flow": null,
            "grid_auto_rows": null,
            "grid_column": null,
            "grid_gap": null,
            "grid_row": null,
            "grid_template_areas": null,
            "grid_template_columns": null,
            "grid_template_rows": null,
            "height": null,
            "justify_content": null,
            "justify_items": null,
            "left": null,
            "margin": null,
            "max_height": null,
            "max_width": null,
            "min_height": null,
            "min_width": null,
            "object_fit": null,
            "object_position": null,
            "order": null,
            "overflow": null,
            "overflow_x": null,
            "overflow_y": null,
            "padding": null,
            "right": null,
            "top": null,
            "visibility": null,
            "width": null
          }
        },
        "bfc3dad38f6a452a92ac63d9654d5be7": {
          "model_module": "@jupyter-widgets/controls",
          "model_name": "DescriptionStyleModel",
          "model_module_version": "1.5.0",
          "state": {
            "_model_module": "@jupyter-widgets/controls",
            "_model_module_version": "1.5.0",
            "_model_name": "DescriptionStyleModel",
            "_view_count": null,
            "_view_module": "@jupyter-widgets/base",
            "_view_module_version": "1.2.0",
            "_view_name": "StyleView",
            "description_width": ""
          }
        },
        "a56882f89ab94deeb3cf6127fe43fdc7": {
          "model_module": "@jupyter-widgets/controls",
          "model_name": "HBoxModel",
          "model_module_version": "1.5.0",
          "state": {
            "_dom_classes": [],
            "_model_module": "@jupyter-widgets/controls",
            "_model_module_version": "1.5.0",
            "_model_name": "HBoxModel",
            "_view_count": null,
            "_view_module": "@jupyter-widgets/controls",
            "_view_module_version": "1.5.0",
            "_view_name": "HBoxView",
            "box_style": "",
            "children": [
              "IPY_MODEL_79491ae74076467ea972926dc23627ad",
              "IPY_MODEL_3fb1c897073d443dbe17a2ab771c3f13",
              "IPY_MODEL_1f4584353e544486abb341a23d8c009b"
            ],
            "layout": "IPY_MODEL_e7a4147fa24649cfa8d8a8f806387a43"
          }
        },
        "79491ae74076467ea972926dc23627ad": {
          "model_module": "@jupyter-widgets/controls",
          "model_name": "HTMLModel",
          "model_module_version": "1.5.0",
          "state": {
            "_dom_classes": [],
            "_model_module": "@jupyter-widgets/controls",
            "_model_module_version": "1.5.0",
            "_model_name": "HTMLModel",
            "_view_count": null,
            "_view_module": "@jupyter-widgets/controls",
            "_view_module_version": "1.5.0",
            "_view_name": "HTMLView",
            "description": "",
            "description_tooltip": null,
            "layout": "IPY_MODEL_1fa811b19f6b44dcaa12b2f5329ccb16",
            "placeholder": "​",
            "style": "IPY_MODEL_a8f53040c0284bdb8c24ae69fbed4bf2",
            "value": "Downloading: 100%"
          }
        },
        "3fb1c897073d443dbe17a2ab771c3f13": {
          "model_module": "@jupyter-widgets/controls",
          "model_name": "FloatProgressModel",
          "model_module_version": "1.5.0",
          "state": {
            "_dom_classes": [],
            "_model_module": "@jupyter-widgets/controls",
            "_model_module_version": "1.5.0",
            "_model_name": "FloatProgressModel",
            "_view_count": null,
            "_view_module": "@jupyter-widgets/controls",
            "_view_module_version": "1.5.0",
            "_view_name": "ProgressView",
            "bar_style": "success",
            "description": "",
            "description_tooltip": null,
            "layout": "IPY_MODEL_5a0743a89de84cbebe304e338b81e4b2",
            "max": 481,
            "min": 0,
            "orientation": "horizontal",
            "style": "IPY_MODEL_494eee82a1e046efb00c09c89517b13e",
            "value": 481
          }
        },
        "1f4584353e544486abb341a23d8c009b": {
          "model_module": "@jupyter-widgets/controls",
          "model_name": "HTMLModel",
          "model_module_version": "1.5.0",
          "state": {
            "_dom_classes": [],
            "_model_module": "@jupyter-widgets/controls",
            "_model_module_version": "1.5.0",
            "_model_name": "HTMLModel",
            "_view_count": null,
            "_view_module": "@jupyter-widgets/controls",
            "_view_module_version": "1.5.0",
            "_view_name": "HTMLView",
            "description": "",
            "description_tooltip": null,
            "layout": "IPY_MODEL_5616d90a91bf4cacb520b55b27f79e91",
            "placeholder": "​",
            "style": "IPY_MODEL_3187e0f5d7af4b27ada1e31b47d49a70",
            "value": " 481/481 [00:00&lt;00:00, 13.8kB/s]"
          }
        },
        "e7a4147fa24649cfa8d8a8f806387a43": {
          "model_module": "@jupyter-widgets/base",
          "model_name": "LayoutModel",
          "model_module_version": "1.2.0",
          "state": {
            "_model_module": "@jupyter-widgets/base",
            "_model_module_version": "1.2.0",
            "_model_name": "LayoutModel",
            "_view_count": null,
            "_view_module": "@jupyter-widgets/base",
            "_view_module_version": "1.2.0",
            "_view_name": "LayoutView",
            "align_content": null,
            "align_items": null,
            "align_self": null,
            "border": null,
            "bottom": null,
            "display": null,
            "flex": null,
            "flex_flow": null,
            "grid_area": null,
            "grid_auto_columns": null,
            "grid_auto_flow": null,
            "grid_auto_rows": null,
            "grid_column": null,
            "grid_gap": null,
            "grid_row": null,
            "grid_template_areas": null,
            "grid_template_columns": null,
            "grid_template_rows": null,
            "height": null,
            "justify_content": null,
            "justify_items": null,
            "left": null,
            "margin": null,
            "max_height": null,
            "max_width": null,
            "min_height": null,
            "min_width": null,
            "object_fit": null,
            "object_position": null,
            "order": null,
            "overflow": null,
            "overflow_x": null,
            "overflow_y": null,
            "padding": null,
            "right": null,
            "top": null,
            "visibility": null,
            "width": null
          }
        },
        "1fa811b19f6b44dcaa12b2f5329ccb16": {
          "model_module": "@jupyter-widgets/base",
          "model_name": "LayoutModel",
          "model_module_version": "1.2.0",
          "state": {
            "_model_module": "@jupyter-widgets/base",
            "_model_module_version": "1.2.0",
            "_model_name": "LayoutModel",
            "_view_count": null,
            "_view_module": "@jupyter-widgets/base",
            "_view_module_version": "1.2.0",
            "_view_name": "LayoutView",
            "align_content": null,
            "align_items": null,
            "align_self": null,
            "border": null,
            "bottom": null,
            "display": null,
            "flex": null,
            "flex_flow": null,
            "grid_area": null,
            "grid_auto_columns": null,
            "grid_auto_flow": null,
            "grid_auto_rows": null,
            "grid_column": null,
            "grid_gap": null,
            "grid_row": null,
            "grid_template_areas": null,
            "grid_template_columns": null,
            "grid_template_rows": null,
            "height": null,
            "justify_content": null,
            "justify_items": null,
            "left": null,
            "margin": null,
            "max_height": null,
            "max_width": null,
            "min_height": null,
            "min_width": null,
            "object_fit": null,
            "object_position": null,
            "order": null,
            "overflow": null,
            "overflow_x": null,
            "overflow_y": null,
            "padding": null,
            "right": null,
            "top": null,
            "visibility": null,
            "width": null
          }
        },
        "a8f53040c0284bdb8c24ae69fbed4bf2": {
          "model_module": "@jupyter-widgets/controls",
          "model_name": "DescriptionStyleModel",
          "model_module_version": "1.5.0",
          "state": {
            "_model_module": "@jupyter-widgets/controls",
            "_model_module_version": "1.5.0",
            "_model_name": "DescriptionStyleModel",
            "_view_count": null,
            "_view_module": "@jupyter-widgets/base",
            "_view_module_version": "1.2.0",
            "_view_name": "StyleView",
            "description_width": ""
          }
        },
        "5a0743a89de84cbebe304e338b81e4b2": {
          "model_module": "@jupyter-widgets/base",
          "model_name": "LayoutModel",
          "model_module_version": "1.2.0",
          "state": {
            "_model_module": "@jupyter-widgets/base",
            "_model_module_version": "1.2.0",
            "_model_name": "LayoutModel",
            "_view_count": null,
            "_view_module": "@jupyter-widgets/base",
            "_view_module_version": "1.2.0",
            "_view_name": "LayoutView",
            "align_content": null,
            "align_items": null,
            "align_self": null,
            "border": null,
            "bottom": null,
            "display": null,
            "flex": null,
            "flex_flow": null,
            "grid_area": null,
            "grid_auto_columns": null,
            "grid_auto_flow": null,
            "grid_auto_rows": null,
            "grid_column": null,
            "grid_gap": null,
            "grid_row": null,
            "grid_template_areas": null,
            "grid_template_columns": null,
            "grid_template_rows": null,
            "height": null,
            "justify_content": null,
            "justify_items": null,
            "left": null,
            "margin": null,
            "max_height": null,
            "max_width": null,
            "min_height": null,
            "min_width": null,
            "object_fit": null,
            "object_position": null,
            "order": null,
            "overflow": null,
            "overflow_x": null,
            "overflow_y": null,
            "padding": null,
            "right": null,
            "top": null,
            "visibility": null,
            "width": null
          }
        },
        "494eee82a1e046efb00c09c89517b13e": {
          "model_module": "@jupyter-widgets/controls",
          "model_name": "ProgressStyleModel",
          "model_module_version": "1.5.0",
          "state": {
            "_model_module": "@jupyter-widgets/controls",
            "_model_module_version": "1.5.0",
            "_model_name": "ProgressStyleModel",
            "_view_count": null,
            "_view_module": "@jupyter-widgets/base",
            "_view_module_version": "1.2.0",
            "_view_name": "StyleView",
            "bar_color": null,
            "description_width": ""
          }
        },
        "5616d90a91bf4cacb520b55b27f79e91": {
          "model_module": "@jupyter-widgets/base",
          "model_name": "LayoutModel",
          "model_module_version": "1.2.0",
          "state": {
            "_model_module": "@jupyter-widgets/base",
            "_model_module_version": "1.2.0",
            "_model_name": "LayoutModel",
            "_view_count": null,
            "_view_module": "@jupyter-widgets/base",
            "_view_module_version": "1.2.0",
            "_view_name": "LayoutView",
            "align_content": null,
            "align_items": null,
            "align_self": null,
            "border": null,
            "bottom": null,
            "display": null,
            "flex": null,
            "flex_flow": null,
            "grid_area": null,
            "grid_auto_columns": null,
            "grid_auto_flow": null,
            "grid_auto_rows": null,
            "grid_column": null,
            "grid_gap": null,
            "grid_row": null,
            "grid_template_areas": null,
            "grid_template_columns": null,
            "grid_template_rows": null,
            "height": null,
            "justify_content": null,
            "justify_items": null,
            "left": null,
            "margin": null,
            "max_height": null,
            "max_width": null,
            "min_height": null,
            "min_width": null,
            "object_fit": null,
            "object_position": null,
            "order": null,
            "overflow": null,
            "overflow_x": null,
            "overflow_y": null,
            "padding": null,
            "right": null,
            "top": null,
            "visibility": null,
            "width": null
          }
        },
        "3187e0f5d7af4b27ada1e31b47d49a70": {
          "model_module": "@jupyter-widgets/controls",
          "model_name": "DescriptionStyleModel",
          "model_module_version": "1.5.0",
          "state": {
            "_model_module": "@jupyter-widgets/controls",
            "_model_module_version": "1.5.0",
            "_model_name": "DescriptionStyleModel",
            "_view_count": null,
            "_view_module": "@jupyter-widgets/base",
            "_view_module_version": "1.2.0",
            "_view_name": "StyleView",
            "description_width": ""
          }
        },
        "a90a7eca46dd4cfd9e5842fe4574d746": {
          "model_module": "@jupyter-widgets/controls",
          "model_name": "HBoxModel",
          "model_module_version": "1.5.0",
          "state": {
            "_dom_classes": [],
            "_model_module": "@jupyter-widgets/controls",
            "_model_module_version": "1.5.0",
            "_model_name": "HBoxModel",
            "_view_count": null,
            "_view_module": "@jupyter-widgets/controls",
            "_view_module_version": "1.5.0",
            "_view_name": "HBoxView",
            "box_style": "",
            "children": [
              "IPY_MODEL_57fee2da88a94b93b985584fe005d43b",
              "IPY_MODEL_77833da900d14a2d946488459a2a210f",
              "IPY_MODEL_c8c140d8ec1b41c69a6ecf862d18acee"
            ],
            "layout": "IPY_MODEL_530b4e8cc575493dab3ec3f26f2484c4"
          }
        },
        "57fee2da88a94b93b985584fe005d43b": {
          "model_module": "@jupyter-widgets/controls",
          "model_name": "HTMLModel",
          "model_module_version": "1.5.0",
          "state": {
            "_dom_classes": [],
            "_model_module": "@jupyter-widgets/controls",
            "_model_module_version": "1.5.0",
            "_model_name": "HTMLModel",
            "_view_count": null,
            "_view_module": "@jupyter-widgets/controls",
            "_view_module_version": "1.5.0",
            "_view_name": "HTMLView",
            "description": "",
            "description_tooltip": null,
            "layout": "IPY_MODEL_53a51cda37214afdacff0630e8238880",
            "placeholder": "​",
            "style": "IPY_MODEL_5fcd7196c4404abfb3cea79f9d33705e",
            "value": "Downloading: 100%"
          }
        },
        "77833da900d14a2d946488459a2a210f": {
          "model_module": "@jupyter-widgets/controls",
          "model_name": "FloatProgressModel",
          "model_module_version": "1.5.0",
          "state": {
            "_dom_classes": [],
            "_model_module": "@jupyter-widgets/controls",
            "_model_module_version": "1.5.0",
            "_model_name": "FloatProgressModel",
            "_view_count": null,
            "_view_module": "@jupyter-widgets/controls",
            "_view_module_version": "1.5.0",
            "_view_name": "ProgressView",
            "bar_style": "success",
            "description": "",
            "description_tooltip": null,
            "layout": "IPY_MODEL_8fd19350e5444b10aaa5a6882344e400",
            "max": 657434796,
            "min": 0,
            "orientation": "horizontal",
            "style": "IPY_MODEL_39ad3e82d51a4b6ba71a30a746439b59",
            "value": 657434796
          }
        },
        "c8c140d8ec1b41c69a6ecf862d18acee": {
          "model_module": "@jupyter-widgets/controls",
          "model_name": "HTMLModel",
          "model_module_version": "1.5.0",
          "state": {
            "_dom_classes": [],
            "_model_module": "@jupyter-widgets/controls",
            "_model_module_version": "1.5.0",
            "_model_name": "HTMLModel",
            "_view_count": null,
            "_view_module": "@jupyter-widgets/controls",
            "_view_module_version": "1.5.0",
            "_view_name": "HTMLView",
            "description": "",
            "description_tooltip": null,
            "layout": "IPY_MODEL_ed5f0ac204824297bfd29ae45ffc578e",
            "placeholder": "​",
            "style": "IPY_MODEL_9384f8b731be42abbf9713b8828b3964",
            "value": " 627M/627M [00:11&lt;00:00, 61.8MB/s]"
          }
        },
        "530b4e8cc575493dab3ec3f26f2484c4": {
          "model_module": "@jupyter-widgets/base",
          "model_name": "LayoutModel",
          "model_module_version": "1.2.0",
          "state": {
            "_model_module": "@jupyter-widgets/base",
            "_model_module_version": "1.2.0",
            "_model_name": "LayoutModel",
            "_view_count": null,
            "_view_module": "@jupyter-widgets/base",
            "_view_module_version": "1.2.0",
            "_view_name": "LayoutView",
            "align_content": null,
            "align_items": null,
            "align_self": null,
            "border": null,
            "bottom": null,
            "display": null,
            "flex": null,
            "flex_flow": null,
            "grid_area": null,
            "grid_auto_columns": null,
            "grid_auto_flow": null,
            "grid_auto_rows": null,
            "grid_column": null,
            "grid_gap": null,
            "grid_row": null,
            "grid_template_areas": null,
            "grid_template_columns": null,
            "grid_template_rows": null,
            "height": null,
            "justify_content": null,
            "justify_items": null,
            "left": null,
            "margin": null,
            "max_height": null,
            "max_width": null,
            "min_height": null,
            "min_width": null,
            "object_fit": null,
            "object_position": null,
            "order": null,
            "overflow": null,
            "overflow_x": null,
            "overflow_y": null,
            "padding": null,
            "right": null,
            "top": null,
            "visibility": null,
            "width": null
          }
        },
        "53a51cda37214afdacff0630e8238880": {
          "model_module": "@jupyter-widgets/base",
          "model_name": "LayoutModel",
          "model_module_version": "1.2.0",
          "state": {
            "_model_module": "@jupyter-widgets/base",
            "_model_module_version": "1.2.0",
            "_model_name": "LayoutModel",
            "_view_count": null,
            "_view_module": "@jupyter-widgets/base",
            "_view_module_version": "1.2.0",
            "_view_name": "LayoutView",
            "align_content": null,
            "align_items": null,
            "align_self": null,
            "border": null,
            "bottom": null,
            "display": null,
            "flex": null,
            "flex_flow": null,
            "grid_area": null,
            "grid_auto_columns": null,
            "grid_auto_flow": null,
            "grid_auto_rows": null,
            "grid_column": null,
            "grid_gap": null,
            "grid_row": null,
            "grid_template_areas": null,
            "grid_template_columns": null,
            "grid_template_rows": null,
            "height": null,
            "justify_content": null,
            "justify_items": null,
            "left": null,
            "margin": null,
            "max_height": null,
            "max_width": null,
            "min_height": null,
            "min_width": null,
            "object_fit": null,
            "object_position": null,
            "order": null,
            "overflow": null,
            "overflow_x": null,
            "overflow_y": null,
            "padding": null,
            "right": null,
            "top": null,
            "visibility": null,
            "width": null
          }
        },
        "5fcd7196c4404abfb3cea79f9d33705e": {
          "model_module": "@jupyter-widgets/controls",
          "model_name": "DescriptionStyleModel",
          "model_module_version": "1.5.0",
          "state": {
            "_model_module": "@jupyter-widgets/controls",
            "_model_module_version": "1.5.0",
            "_model_name": "DescriptionStyleModel",
            "_view_count": null,
            "_view_module": "@jupyter-widgets/base",
            "_view_module_version": "1.2.0",
            "_view_name": "StyleView",
            "description_width": ""
          }
        },
        "8fd19350e5444b10aaa5a6882344e400": {
          "model_module": "@jupyter-widgets/base",
          "model_name": "LayoutModel",
          "model_module_version": "1.2.0",
          "state": {
            "_model_module": "@jupyter-widgets/base",
            "_model_module_version": "1.2.0",
            "_model_name": "LayoutModel",
            "_view_count": null,
            "_view_module": "@jupyter-widgets/base",
            "_view_module_version": "1.2.0",
            "_view_name": "LayoutView",
            "align_content": null,
            "align_items": null,
            "align_self": null,
            "border": null,
            "bottom": null,
            "display": null,
            "flex": null,
            "flex_flow": null,
            "grid_area": null,
            "grid_auto_columns": null,
            "grid_auto_flow": null,
            "grid_auto_rows": null,
            "grid_column": null,
            "grid_gap": null,
            "grid_row": null,
            "grid_template_areas": null,
            "grid_template_columns": null,
            "grid_template_rows": null,
            "height": null,
            "justify_content": null,
            "justify_items": null,
            "left": null,
            "margin": null,
            "max_height": null,
            "max_width": null,
            "min_height": null,
            "min_width": null,
            "object_fit": null,
            "object_position": null,
            "order": null,
            "overflow": null,
            "overflow_x": null,
            "overflow_y": null,
            "padding": null,
            "right": null,
            "top": null,
            "visibility": null,
            "width": null
          }
        },
        "39ad3e82d51a4b6ba71a30a746439b59": {
          "model_module": "@jupyter-widgets/controls",
          "model_name": "ProgressStyleModel",
          "model_module_version": "1.5.0",
          "state": {
            "_model_module": "@jupyter-widgets/controls",
            "_model_module_version": "1.5.0",
            "_model_name": "ProgressStyleModel",
            "_view_count": null,
            "_view_module": "@jupyter-widgets/base",
            "_view_module_version": "1.2.0",
            "_view_name": "StyleView",
            "bar_color": null,
            "description_width": ""
          }
        },
        "ed5f0ac204824297bfd29ae45ffc578e": {
          "model_module": "@jupyter-widgets/base",
          "model_name": "LayoutModel",
          "model_module_version": "1.2.0",
          "state": {
            "_model_module": "@jupyter-widgets/base",
            "_model_module_version": "1.2.0",
            "_model_name": "LayoutModel",
            "_view_count": null,
            "_view_module": "@jupyter-widgets/base",
            "_view_module_version": "1.2.0",
            "_view_name": "LayoutView",
            "align_content": null,
            "align_items": null,
            "align_self": null,
            "border": null,
            "bottom": null,
            "display": null,
            "flex": null,
            "flex_flow": null,
            "grid_area": null,
            "grid_auto_columns": null,
            "grid_auto_flow": null,
            "grid_auto_rows": null,
            "grid_column": null,
            "grid_gap": null,
            "grid_row": null,
            "grid_template_areas": null,
            "grid_template_columns": null,
            "grid_template_rows": null,
            "height": null,
            "justify_content": null,
            "justify_items": null,
            "left": null,
            "margin": null,
            "max_height": null,
            "max_width": null,
            "min_height": null,
            "min_width": null,
            "object_fit": null,
            "object_position": null,
            "order": null,
            "overflow": null,
            "overflow_x": null,
            "overflow_y": null,
            "padding": null,
            "right": null,
            "top": null,
            "visibility": null,
            "width": null
          }
        },
        "9384f8b731be42abbf9713b8828b3964": {
          "model_module": "@jupyter-widgets/controls",
          "model_name": "DescriptionStyleModel",
          "model_module_version": "1.5.0",
          "state": {
            "_model_module": "@jupyter-widgets/controls",
            "_model_module_version": "1.5.0",
            "_model_name": "DescriptionStyleModel",
            "_view_count": null,
            "_view_module": "@jupyter-widgets/base",
            "_view_module_version": "1.2.0",
            "_view_name": "StyleView",
            "description_width": ""
          }
        }
      }
    }
  },
  "nbformat": 4,
  "nbformat_minor": 0
}