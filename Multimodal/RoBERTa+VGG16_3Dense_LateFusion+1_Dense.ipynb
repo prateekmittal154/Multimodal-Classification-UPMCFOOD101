{
  "cells": [
    {
      "cell_type": "code",
      "execution_count": 1,
      "metadata": {
        "id": "PIfkLx5mUKeM"
      },
      "outputs": [],
      "source": [
        "# Import all necessary libraries\n",
        "try:\n",
        "    %tensorflow_version 2.x\n",
        "except Exception:\n",
        "    pass\n",
        "import tensorflow as tf\n",
        "import tensorflow_hub as hub\n",
        "from tensorflow.keras import layers\n",
        "from tensorflow.keras import callbacks\n",
        "from tensorflow.keras import optimizers\n",
        "from tensorflow.keras import utils\n",
        "from tensorflow.keras import models\n",
        "from tensorflow.keras.preprocessing.image import ImageDataGenerator \n",
        "from tensorflow.keras import applications\n",
        "from tensorflow.keras.regularizers import l2, l1\n",
        "\n",
        "from sklearn.preprocessing import LabelEncoder\n",
        "from sklearn.model_selection import train_test_split\n",
        "from sklearn.utils import shuffle\n",
        "from sklearn.metrics import confusion_matrix"
      ]
    },
    {
      "cell_type": "code",
      "execution_count": 2,
      "metadata": {
        "colab": {
          "base_uri": "https://localhost:8080/"
        },
        "id": "mQ26u5FZUWno",
        "outputId": "7b17349c-1db1-4167-e08a-f00563699872"
      },
      "outputs": [
        {
          "output_type": "stream",
          "name": "stdout",
          "text": [
            "Looking in indexes: https://pypi.org/simple, https://us-python.pkg.dev/colab-wheels/public/simple/\n",
            "Collecting transformers\n",
            "  Downloading transformers-4.20.1-py3-none-any.whl (4.4 MB)\n",
            "\u001b[K     |████████████████████████████████| 4.4 MB 5.2 MB/s \n",
            "\u001b[?25hRequirement already satisfied: packaging>=20.0 in /usr/local/lib/python3.7/dist-packages (from transformers) (21.3)\n",
            "Requirement already satisfied: numpy>=1.17 in /usr/local/lib/python3.7/dist-packages (from transformers) (1.21.6)\n",
            "Requirement already satisfied: tqdm>=4.27 in /usr/local/lib/python3.7/dist-packages (from transformers) (4.64.0)\n",
            "Collecting pyyaml>=5.1\n",
            "  Downloading PyYAML-6.0-cp37-cp37m-manylinux_2_5_x86_64.manylinux1_x86_64.manylinux_2_12_x86_64.manylinux2010_x86_64.whl (596 kB)\n",
            "\u001b[K     |████████████████████████████████| 596 kB 48.6 MB/s \n",
            "\u001b[?25hCollecting huggingface-hub<1.0,>=0.1.0\n",
            "  Downloading huggingface_hub-0.8.1-py3-none-any.whl (101 kB)\n",
            "\u001b[K     |████████████████████████████████| 101 kB 7.2 MB/s \n",
            "\u001b[?25hRequirement already satisfied: filelock in /usr/local/lib/python3.7/dist-packages (from transformers) (3.7.1)\n",
            "Collecting tokenizers!=0.11.3,<0.13,>=0.11.1\n",
            "  Downloading tokenizers-0.12.1-cp37-cp37m-manylinux_2_12_x86_64.manylinux2010_x86_64.whl (6.6 MB)\n",
            "\u001b[K     |████████████████████████████████| 6.6 MB 45.9 MB/s \n",
            "\u001b[?25hRequirement already satisfied: importlib-metadata in /usr/local/lib/python3.7/dist-packages (from transformers) (4.11.4)\n",
            "Requirement already satisfied: requests in /usr/local/lib/python3.7/dist-packages (from transformers) (2.23.0)\n",
            "Requirement already satisfied: regex!=2019.12.17 in /usr/local/lib/python3.7/dist-packages (from transformers) (2022.6.2)\n",
            "Requirement already satisfied: typing-extensions>=3.7.4.3 in /usr/local/lib/python3.7/dist-packages (from huggingface-hub<1.0,>=0.1.0->transformers) (4.1.1)\n",
            "Requirement already satisfied: pyparsing!=3.0.5,>=2.0.2 in /usr/local/lib/python3.7/dist-packages (from packaging>=20.0->transformers) (3.0.9)\n",
            "Requirement already satisfied: zipp>=0.5 in /usr/local/lib/python3.7/dist-packages (from importlib-metadata->transformers) (3.8.0)\n",
            "Requirement already satisfied: idna<3,>=2.5 in /usr/local/lib/python3.7/dist-packages (from requests->transformers) (2.10)\n",
            "Requirement already satisfied: chardet<4,>=3.0.2 in /usr/local/lib/python3.7/dist-packages (from requests->transformers) (3.0.4)\n",
            "Requirement already satisfied: certifi>=2017.4.17 in /usr/local/lib/python3.7/dist-packages (from requests->transformers) (2022.6.15)\n",
            "Requirement already satisfied: urllib3!=1.25.0,!=1.25.1,<1.26,>=1.21.1 in /usr/local/lib/python3.7/dist-packages (from requests->transformers) (1.24.3)\n",
            "Installing collected packages: pyyaml, tokenizers, huggingface-hub, transformers\n",
            "  Attempting uninstall: pyyaml\n",
            "    Found existing installation: PyYAML 3.13\n",
            "    Uninstalling PyYAML-3.13:\n",
            "      Successfully uninstalled PyYAML-3.13\n",
            "Successfully installed huggingface-hub-0.8.1 pyyaml-6.0 tokenizers-0.12.1 transformers-4.20.1\n"
          ]
        }
      ],
      "source": [
        "!pip install transformers"
      ]
    },
    {
      "cell_type": "code",
      "execution_count": 3,
      "metadata": {
        "colab": {
          "base_uri": "https://localhost:8080/"
        },
        "id": "XNKIJXVQUZZd",
        "outputId": "ca913ee8-0c14-4b90-ef75-a2f645f9b818"
      },
      "outputs": [
        {
          "output_type": "stream",
          "name": "stdout",
          "text": [
            "Mounted at /content/drive\n"
          ]
        }
      ],
      "source": [
        "from google.colab import drive\n",
        "drive.mount('/content/drive')"
      ]
    },
    {
      "cell_type": "code",
      "execution_count": 4,
      "metadata": {
        "id": "qGMQm8D2Ua-y"
      },
      "outputs": [],
      "source": [
        "import numpy as np\n",
        "import regex as re\n",
        "import pandas as pd\n",
        "import matplotlib.pyplot as plt\n",
        "import seaborn as sns\n",
        "import statistics\n",
        "import math\n",
        "import os\n",
        "\n",
        "from sklearn.model_selection import StratifiedKFold\n",
        "from sklearn.metrics import accuracy_score\n",
        "from sklearn.model_selection import train_test_split\n",
        "\n",
        "import tensorflow as tf\n",
        "import tensorflow.keras.backend as K\n",
        "import transformers\n",
        "from transformers import RobertaTokenizer, TFRobertaModel\n",
        "\n",
        "from collections import Counter\n",
        "\n",
        "import warnings\n",
        "warnings.filterwarnings(\"ignore\")"
      ]
    },
    {
      "cell_type": "code",
      "execution_count": 5,
      "metadata": {
        "colab": {
          "base_uri": "https://localhost:8080/"
        },
        "id": "o9PNUvVpUe0a",
        "outputId": "89f1b2c6-ecf9-4201-aaec-2f1187cf9ec9"
      },
      "outputs": [
        {
          "output_type": "stream",
          "name": "stdout",
          "text": [
            "1375\n"
          ]
        }
      ],
      "source": [
        "# Import the training and test .csv files\n",
        "import pandas as pd\n",
        "colnames=['image_path', 'text', 'food']\n",
        "train = pd.read_csv('/content/drive/MyDrive/Colab Notebooks/Dataset/train_titles.csv', names=colnames, header=None, sep = ',', index_col=['image_path'])\n",
        "test = pd.read_csv('/content/drive/MyDrive/Colab Notebooks/Dataset/test_titles.csv', names=colnames, header=None, sep = ',', index_col=['image_path'])\n",
        "print(test.shape[0])"
      ]
    },
    {
      "cell_type": "code",
      "execution_count": 6,
      "metadata": {
        "colab": {
          "base_uri": "https://localhost:8080/"
        },
        "id": "fBeS8qWpUhu5",
        "outputId": "e7159a71-c782-4d42-ad91-7f6bcabf8514"
      },
      "outputs": [
        {
          "output_type": "stream",
          "name": "stdout",
          "text": [
            "1375\n"
          ]
        }
      ],
      "source": [
        "# Sort values by 'image_path'\n",
        "test = test.sort_values('image_path')\n",
        "print(test.shape[0])\n",
        "train = train.sort_values('image_path')"
      ]
    },
    {
      "cell_type": "code",
      "execution_count": 7,
      "metadata": {
        "id": "-VND0BxTXa0r"
      },
      "outputs": [],
      "source": [
        "import numpy as np \n",
        "import glob\n",
        "import os\n",
        "\n",
        "def get_missing(file, df):\n",
        "  parts = file.split(os.sep)\n",
        "  #print(parts)\n",
        "  idx = parts[-1]\n",
        "  #print(idx)\n",
        "  cls = parts[-2]  \n",
        "  #print(cls)\n",
        "  indexes = df[:,0]\n",
        "  #print(indexes)\n",
        "  classes = df[:,2]\n",
        "  #print(classes)\n",
        "  \n",
        " \n",
        "  if idx in indexes:\n",
        "    text = df[idx == indexes][0,1]\n",
        "    return pd.NA, pd.NA, pd.NA\n",
        "  \n",
        "  else:\n",
        "    text = df[cls == classes][:,1]\n",
        "    return idx, text, cls   \n",
        "  #print(idx)\n",
        "vec_get_missing = np.vectorize(get_missing, signature='(),(m,n)->(),(),()')  "
      ]
    },
    {
      "cell_type": "code",
      "execution_count": 8,
      "metadata": {
        "id": "xvaz5WtIMq_1"
      },
      "outputs": [],
      "source": [
        "# Function for images loading\n",
        "from sklearn.utils import shuffle\n",
        "\n",
        "def add_not_found(path, df):\n",
        "  files = glob.glob(path)\n",
        "  df = df.reset_index()\n",
        "  idxs, texts, cls = vec_get_missing(files, df.values)\n",
        "  #print(df.values)\n",
        "  found = pd.DataFrame({\"text\": texts,\n",
        "                        \"food\": cls,\n",
        "                       \"image_path\": idxs})\n",
        "  #print(idxs)\n",
        "  na = found.isna().sum().values[0]\n",
        " # print(na)\n",
        "  if na<found.shape[0]:\n",
        "    df = df.append(found)\n",
        "  df = df.drop_duplicates(subset='image_path', keep='first').dropna()\n",
        "  df = df.set_index('image_path')\n",
        "  df = shuffle(df, random_state = 0)\n",
        "  return df      "
      ]
    },
    {
      "cell_type": "code",
      "execution_count": 9,
      "metadata": {
        "id": "G7HFuqcgNEnF"
      },
      "outputs": [],
      "source": [
        "from tensorflow.keras.preprocessing.image import ImageDataGenerator\n",
        "\n",
        "train_datagen = ImageDataGenerator(rescale = 1./255,\n",
        "                                   shear_range = 0.2,\n",
        "                                   zoom_range = 0.2,\n",
        "                                   horizontal_flip = True)\n",
        "\n",
        "test_datagen = ImageDataGenerator(rescale = 1./255)"
      ]
    },
    {
      "cell_type": "code",
      "execution_count": 9,
      "metadata": {
        "id": "LjITbvuxUjaH"
      },
      "outputs": [],
      "source": [
        ""
      ]
    },
    {
      "cell_type": "code",
      "execution_count": 10,
      "metadata": {
        "colab": {
          "base_uri": "https://localhost:8080/"
        },
        "id": "gmypCRtHKHxC",
        "outputId": "a5a2cb47-8b0b-4e8f-fba4-4ccab479f3e0"
      },
      "outputs": [
        {
          "output_type": "stream",
          "name": "stdout",
          "text": [
            "Found 4117 images belonging to 6 classes.\n",
            "Found 1375 images belonging to 6 classes.\n"
          ]
        }
      ],
      "source": [
        "training_set = train_datagen.flow_from_directory('/content/drive/MyDrive/Colab Notebooks/Dataset/train',\n",
        "                                                 target_size = (224, 224),\n",
        "                                                 batch_size = 32,\n",
        "                                                 class_mode = 'categorical')\n",
        "\n",
        "testing_set = test_datagen.flow_from_directory('/content/drive/MyDrive/Colab Notebooks/Dataset/test',\n",
        "                                                 target_size = (224, 224),\n",
        "                                                 batch_size = 32,\n",
        "                                                 class_mode = 'categorical')"
      ]
    },
    {
      "cell_type": "code",
      "execution_count": 11,
      "metadata": {
        "id": "eEWvW-NwUz_n",
        "colab": {
          "base_uri": "https://localhost:8080/",
          "height": 113,
          "referenced_widgets": [
            "f821eb454f7e4ecc85970309085587ed",
            "88045a43f26741e2b84fd6cf8d62c8b4",
            "012b91bb75184c17be35d68efad1f8df",
            "7b1e151521924e2da3e6f5f48c9e9ff0",
            "7fdf40d6286a46eda316ae147b59cf92",
            "ed5b73be671240809eab2cc5b8c8284d",
            "be03328b1792442baf852e766352617b",
            "5d08dbb6d3b84b01b4b3911e8c4dc940",
            "69f2ac6caee84851ba120238e92c1faf",
            "f688ecae0bda45d8b00fb75ddc0e2f5e",
            "d555b3e0e82940c1934aafc0e185d21f",
            "99e83efe78fa4e00b6da49f2c6e82854",
            "5d579bd44ff04ad29203279dffff49c9",
            "76e7fab916b449269def878370ddc0b8",
            "66b58a0755ed4c81bdd10feef6885daa",
            "5df75e8f73284fc9bc9eab32b81b53a8",
            "49b1b603bc8a4e35a631c56fc56339e1",
            "7fa283224f8448cb8f57ca816b775570",
            "732603c590694015a5ab0f8d8e9e9582",
            "6f011e4f2dc4419a8c31f73a2ab9d3bf",
            "52d59f008d6e4823a84323a7c4c584d6",
            "d7dd84355bbe48b0a84e9b04819937b3",
            "acbfa131c35e48b8b0353ddf39ca8a9a",
            "bd43bd02515e4f769306ed5fde7b6ea0",
            "53aa991fe8ea4ff6a426fd163d663867",
            "873deac6e13a4ccea121fd5e02b39514",
            "0d9feabed69140d2b0cbf976ae34aea6",
            "d24a556b39214e46aab0ec198bd6c514",
            "d82248161d0240efac95bd6f22330e73",
            "100fd32347d44145887465dc67f072a6",
            "e53ed8c5310c4d7081b94322c3b91b68",
            "bdb1b4aef5a14814923b6192dbd462af",
            "00f4ae1b9d724fc48ebe7bfb5176c69a"
          ]
        },
        "outputId": "2eae95e7-53b5-455f-8f81-f91eced0c346"
      },
      "outputs": [
        {
          "output_type": "display_data",
          "data": {
            "text/plain": [
              "Downloading:   0%|          | 0.00/878k [00:00<?, ?B/s]"
            ],
            "application/vnd.jupyter.widget-view+json": {
              "version_major": 2,
              "version_minor": 0,
              "model_id": "f821eb454f7e4ecc85970309085587ed"
            }
          },
          "metadata": {}
        },
        {
          "output_type": "display_data",
          "data": {
            "text/plain": [
              "Downloading:   0%|          | 0.00/446k [00:00<?, ?B/s]"
            ],
            "application/vnd.jupyter.widget-view+json": {
              "version_major": 2,
              "version_minor": 0,
              "model_id": "99e83efe78fa4e00b6da49f2c6e82854"
            }
          },
          "metadata": {}
        },
        {
          "output_type": "display_data",
          "data": {
            "text/plain": [
              "Downloading:   0%|          | 0.00/481 [00:00<?, ?B/s]"
            ],
            "application/vnd.jupyter.widget-view+json": {
              "version_major": 2,
              "version_minor": 0,
              "model_id": "acbfa131c35e48b8b0353ddf39ca8a9a"
            }
          },
          "metadata": {}
        }
      ],
      "source": [
        "tokenizer = RobertaTokenizer.from_pretrained('roberta-base')"
      ]
    },
    {
      "cell_type": "code",
      "execution_count": 12,
      "metadata": {
        "id": "5Q2bM3o87ZGF"
      },
      "outputs": [],
      "source": [
        "nClasses = train.food.nunique()"
      ]
    },
    {
      "cell_type": "code",
      "execution_count": 13,
      "metadata": {
        "id": "onVvPtpKU8jG"
      },
      "outputs": [],
      "source": [
        "MAX_LEN= 50"
      ]
    },
    {
      "cell_type": "code",
      "execution_count": 14,
      "metadata": {
        "id": "AVd3INJpu1N9"
      },
      "outputs": [],
      "source": [
        "# Preprocessing of texts according to BERT +\n",
        "# Cleaning of the texts\n",
        "import urllib.request\n",
        "import re\n",
        "import numpy as np\n",
        "def preprocess_text(sen):\n",
        "    # Removing html tags\n",
        "    sentence = remove_tags(sen)\n",
        "    # Remove punctuations and numbers\n",
        "    sentence = re.sub('[^a-zA-Z]', ' ', sentence)\n",
        "    # Single character removal\n",
        "    sentence = re.sub(r\"\\s+[a-zA-Z]\\s+\", ' ', sentence)\n",
        "    # Removing multiple spaces\n",
        "    sentence = re.sub(r'\\s+', ' ', sentence)\n",
        "    sentence = sentence.lower()\n",
        "    return sentence\n",
        "\n",
        "def remove_tags(text):\n",
        "    return TAG_RE.sub('', text)\n",
        "\n",
        "TAG_RE = re.compile(r'<[^>]+>')\n",
        "vec_preprocess_text = np.vectorize(preprocess_text)\n",
        "\n",
        "def get_tokens(text, tokenizer):\n",
        "  tokens = tokenizer.tokenize(text)\n",
        "  tokens = [\"[CLS]\"] + tokens + [\"[SEP]\"]\n",
        "  length = len(tokens)\n",
        "  if length > max_length:\n",
        "      tokens = tokens[:max_length]\n",
        "  return tokens, length  \n",
        "\n",
        "def get_masks(text, tokenizer, max_length):\n",
        "    \"\"\"Mask for padding\"\"\"\n",
        "    tokens, length = get_tokens(text, tokenizer)\n",
        "    return np.asarray([1]*len(tokens) + [0] * (max_length - len(tokens)))\n",
        "vec_get_masks = np.vectorize(get_masks, signature = '(),(),()->(n)')\n",
        "\n",
        "def get_segments(text, tokenizer, max_length):\n",
        "    \"\"\"Segments: 0 for the first sequence, 1 for the second\"\"\"\n",
        "    tokens, length = get_tokens(text, tokenizer)\n",
        "    segments = []\n",
        "    current_segment_id = 0\n",
        "    for token in tokens:\n",
        "        segments.append(current_segment_id)\n",
        "        if token == \"[SEP]\":\n",
        "            current_segment_id = 1\n",
        "    return np.asarray(segments + [0] * (max_length - len(tokens)))\n",
        "vec_get_segments = np.vectorize(get_segments, signature = '(),(),()->(n)')\n",
        "\n",
        "def get_ids(text, tokenizer, max_length):\n",
        "    \"\"\"Token ids from Tokenizer vocab\"\"\"\n",
        "    tokens, length = get_tokens(text, tokenizer)\n",
        "    token_ids = tokenizer.convert_tokens_to_ids(tokens)\n",
        "    input_ids = np.asarray(token_ids + [0] * (max_length-length))\n",
        "    return input_ids\n",
        "vec_get_ids = np.vectorize(get_ids, signature = '(),(),()->(n)')\n",
        "\n",
        "def get_texts(path):\n",
        "    path = path.decode('utf-8')\n",
        "    parts = path.split(os.sep)\n",
        "    image_name = parts[-1]\n",
        "    is_train = parts[-3] == 'train'\n",
        "    #print(train)\n",
        "    if is_train:\n",
        "      df = train\n",
        "    else:\n",
        "      df = test\n",
        "\n",
        "    text = df['text'][image_name]\n",
        "    return text\n",
        "\n",
        "vec_get_text = np.vectorize(get_texts)\n",
        "def prepare_text(paths):\n",
        "    #Preparing texts\n",
        "    \n",
        "    texts = vec_get_text(paths)\n",
        "    \n",
        "    text_array = vec_preprocess_text(texts)\n",
        "    ids = vec_get_ids(text_array, \n",
        "                      tokenizer, \n",
        "                      max_length).squeeze().astype(np.int32)\n",
        "    masks = vec_get_masks(text_array,\n",
        "                          tokenizer,\n",
        "                          max_length).squeeze().astype(np.int32)\n",
        "    segments = vec_get_segments(text_array,\n",
        "                                tokenizer,\n",
        "                                max_length).squeeze().astype(np.int32)\n",
        "    \n",
        "    return ids, segments, masks\n",
        "\n",
        "def clean(i, tokens):\n",
        "  try:\n",
        "    this_token = tokens[i]\n",
        "    next_token = tokens[i+1]\n",
        "  except:\n",
        "    return tokens\n",
        "  if '##' in next_token:\n",
        "      tokens.remove(next_token)\n",
        "      tokens[i] = this_token + next_token[2:]\n",
        "      tokens = clean(i, tokens)\n",
        "      return tokens\n",
        "  else:\n",
        "    i = i+1\n",
        "    tokens = clean(i, tokens)\n",
        "    return tokens\n",
        "\n",
        "def clean_text(array):\n",
        "  array = array[(array!=0) & (array != 101) & (array != 102)]\n",
        "  tokens = tokenizer.convert_ids_to_tokens(array)\n",
        "  tokens = clean(0, tokens)\n",
        "  text = ' '.join(tokens)\n",
        "  return text"
      ]
    },
    {
      "cell_type": "code",
      "execution_count": 15,
      "metadata": {
        "id": "NfQnvc5cVA7S"
      },
      "outputs": [],
      "source": [
        "# Images preprocessing\n",
        "import cv2\n",
        "def load_image(path):\n",
        "    path = path.decode('utf-8')\n",
        "    image = cv2.imread(path)\n",
        "    image = cv2.resize(image, (img_width, img_height))\n",
        "    image = image/255\n",
        "    #print(type(image))\n",
        "    image = image.astype(np.float32)\n",
        "    parts = path.split(os.sep)\n",
        "    labels = parts[-2] == Classes \n",
        "    labels = labels.astype(np.int32)\n",
        "    \n",
        "    return image, labels\n",
        "    \n",
        "vec_load_image = np.vectorize(load_image, signature = '()->(r,c,d),(s)')"
      ]
    },
    {
      "cell_type": "code",
      "execution_count": 16,
      "metadata": {
        "id": "phEUfGcER3k8"
      },
      "outputs": [],
      "source": [
        "# Dataset creation\n",
        "\n",
        "def prepare_data(paths):\n",
        "    #Images and labels\n",
        "    images, labels = tf.numpy_function(vec_load_image, \n",
        "                                      [paths], \n",
        "                                      [tf.float32, \n",
        "                                        tf.int32])   \n",
        "    \n",
        "    \n",
        "    [ids, segments, masks, ] = tf.numpy_function(prepare_text, \n",
        "                                              [paths], \n",
        "                                              [tf.int32, \n",
        "                                               tf.int32,\n",
        "                                               tf.int32])\n",
        "    images.set_shape([None, img_width, img_height, depth])\n",
        "    labels.set_shape([None, nClasses])\n",
        "    ids.set_shape([None, max_length])\n",
        "    masks.set_shape([None, max_length])\n",
        "    segments.set_shape([None, max_length])\n",
        "    return ({\"input_word_ids\": ids, \n",
        "             \"input_mask\": masks,  \n",
        "             \"segment_ids\": segments, \n",
        "             \"image\": images},\n",
        "            {\"class\": labels})\n",
        "    \n",
        "\n",
        "    return dataset"
      ]
    },
    {
      "cell_type": "code",
      "execution_count": 17,
      "metadata": {
        "colab": {
          "base_uri": "https://localhost:8080/"
        },
        "id": "Mo8VKOC0V4zI",
        "outputId": "6ba92951-624d-49de-aed1-c18d1ffce134"
      },
      "outputs": [
        {
          "output_type": "stream",
          "name": "stdout",
          "text": [
            "['apple_pie' 'carrot_cake' 'cheesecake' 'club_sandwich' 'falafel'\n",
            " 'grilled_cheese_sandwich']\n",
            "6\n",
            "['apple_pie' 'carrot_cake' 'cheesecake' 'club_sandwich' 'falafel'\n",
            " 'grilled_cheese_sandwich']\n"
          ]
        }
      ],
      "source": [
        "# Parameters setting: images width and height, depth, number if classes, input shape\n",
        "#batch_size =  80\n",
        "batch_size= 32\n",
        "img_width = 224\n",
        "img_height = 224\n",
        "depth = 3\n",
        "max_length = 50 #Setup according to the text\n",
        "n=test.food.unique()\n",
        "print(n)\n",
        "nClasses = train.food.nunique()\n",
        "print(nClasses)\n",
        "Classes = train.food.unique()\n",
        "print(Classes)\n",
        "input_shape = (img_width, img_height, depth)"
      ]
    },
    {
      "cell_type": "code",
      "execution_count": 18,
      "metadata": {
        "id": "duvsfZgHV-qs"
      },
      "outputs": [],
      "source": [
        "# Images loading using tf.data\n",
        "def tf_data(path, batch_size):\n",
        "    paths = tf.data.Dataset.list_files(path)\n",
        "    paths = paths.batch(64)\n",
        "    dataset = paths.map(prepare_data, tf.data.experimental.AUTOTUNE)\n",
        "    dataset = dataset.prefetch(tf.data.experimental.AUTOTUNE)\n",
        "    dataset = dataset.unbatch()\n",
        "    dataset = dataset.batch(batch_size)\n",
        "    dataset = dataset.repeat()\n",
        "    return dataset   \n",
        "data_train = tf_data('/content/drive/MyDrive/Colab Notebooks/Dataset/train/*/*.jpg', batch_size)\n",
        "data_test = tf_data('/content/drive/MyDrive/Colab Notebooks/Dataset/test/*/*.jpg', batch_size)\n",
        "#os.listdir('d:/Work Station/Image-and-Text-fusion-for-UPMC-Food-101-using-BERT-and-CNNs/Images/train')"
      ]
    },
    {
      "cell_type": "code",
      "execution_count": 19,
      "metadata": {
        "id": "KxRk7MXXWJhx"
      },
      "outputs": [],
      "source": [
        "import keras,os\n",
        "from keras.applications.vgg16 import VGG16\n",
        "from keras.models import Sequential\n",
        "from tensorflow.keras.layers import Input,Lambda,Dense, Flatten\n",
        "from keras.preprocessing.image import ImageDataGenerator\n",
        "from keras.preprocessing.image import load_img\n",
        "from glob import glob\n",
        "import numpy as np"
      ]
    },
    {
      "cell_type": "code",
      "execution_count": 22,
      "metadata": {
        "id": "FHymHzBCW-lP",
        "colab": {
          "base_uri": "https://localhost:8080/"
        },
        "outputId": "acd495e5-4964-41a7-d4ee-d17dbda2b3d9"
      },
      "outputs": [
        {
          "output_type": "stream",
          "name": "stdout",
          "text": [
            "Downloading data from https://storage.googleapis.com/tensorflow/keras-applications/vgg16/vgg16_weights_tf_dim_ordering_tf_kernels_notop.h5\n",
            "58892288/58889256 [==============================] - 0s 0us/step\n",
            "58900480/58889256 [==============================] - 0s 0us/step\n"
          ]
        }
      ],
      "source": [
        "vgg16 = VGG16(input_shape=[224,224]+ [3], weights='imagenet', include_top=False)"
      ]
    },
    {
      "cell_type": "code",
      "execution_count": 23,
      "metadata": {
        "id": "p1NTunCoXBfz"
      },
      "outputs": [],
      "source": [
        "for layer in vgg16.layers:\n",
        "  layer.trainable=True"
      ]
    },
    {
      "cell_type": "code",
      "execution_count": 24,
      "metadata": {
        "id": "j_KmicehXEZH"
      },
      "outputs": [],
      "source": [
        "x= Flatten()(vgg16.output)\n",
        "x = Dense(256, activation='relu')(x)\n",
        "x = Dense(256, activation='relu')(x)\n",
        "prediction = Dense(256, activation ='relu')(x)\n",
        "out = Dense(6,activation = 'softmax')(prediction)"
      ]
    },
    {
      "cell_type": "code",
      "execution_count": 25,
      "metadata": {
        "id": "A_hrQpwHXKcf"
      },
      "outputs": [],
      "source": [
        "from tensorflow.keras.models import Model\n",
        "model_vgg = Model(inputs=vgg16.input, outputs= out)"
      ]
    },
    {
      "cell_type": "code",
      "execution_count": 26,
      "metadata": {
        "colab": {
          "base_uri": "https://localhost:8080/"
        },
        "id": "ilFcqwy5XLFx",
        "outputId": "48ca6264-2112-4af3-8f27-3bd2c8f51cfc"
      },
      "outputs": [
        {
          "output_type": "stream",
          "name": "stdout",
          "text": [
            "Model: \"model\"\n",
            "_________________________________________________________________\n",
            " Layer (type)                Output Shape              Param #   \n",
            "=================================================================\n",
            " input_1 (InputLayer)        [(None, 224, 224, 3)]     0         \n",
            "                                                                 \n",
            " block1_conv1 (Conv2D)       (None, 224, 224, 64)      1792      \n",
            "                                                                 \n",
            " block1_conv2 (Conv2D)       (None, 224, 224, 64)      36928     \n",
            "                                                                 \n",
            " block1_pool (MaxPooling2D)  (None, 112, 112, 64)      0         \n",
            "                                                                 \n",
            " block2_conv1 (Conv2D)       (None, 112, 112, 128)     73856     \n",
            "                                                                 \n",
            " block2_conv2 (Conv2D)       (None, 112, 112, 128)     147584    \n",
            "                                                                 \n",
            " block2_pool (MaxPooling2D)  (None, 56, 56, 128)       0         \n",
            "                                                                 \n",
            " block3_conv1 (Conv2D)       (None, 56, 56, 256)       295168    \n",
            "                                                                 \n",
            " block3_conv2 (Conv2D)       (None, 56, 56, 256)       590080    \n",
            "                                                                 \n",
            " block3_conv3 (Conv2D)       (None, 56, 56, 256)       590080    \n",
            "                                                                 \n",
            " block3_pool (MaxPooling2D)  (None, 28, 28, 256)       0         \n",
            "                                                                 \n",
            " block4_conv1 (Conv2D)       (None, 28, 28, 512)       1180160   \n",
            "                                                                 \n",
            " block4_conv2 (Conv2D)       (None, 28, 28, 512)       2359808   \n",
            "                                                                 \n",
            " block4_conv3 (Conv2D)       (None, 28, 28, 512)       2359808   \n",
            "                                                                 \n",
            " block4_pool (MaxPooling2D)  (None, 14, 14, 512)       0         \n",
            "                                                                 \n",
            " block5_conv1 (Conv2D)       (None, 14, 14, 512)       2359808   \n",
            "                                                                 \n",
            " block5_conv2 (Conv2D)       (None, 14, 14, 512)       2359808   \n",
            "                                                                 \n",
            " block5_conv3 (Conv2D)       (None, 14, 14, 512)       2359808   \n",
            "                                                                 \n",
            " block5_pool (MaxPooling2D)  (None, 7, 7, 512)         0         \n",
            "                                                                 \n",
            " flatten_2 (Flatten)         (None, 25088)             0         \n",
            "                                                                 \n",
            " dense (Dense)               (None, 256)               6422784   \n",
            "                                                                 \n",
            " dense_1 (Dense)             (None, 256)               65792     \n",
            "                                                                 \n",
            " dense_2 (Dense)             (None, 256)               65792     \n",
            "                                                                 \n",
            " dense_3 (Dense)             (None, 6)                 1542      \n",
            "                                                                 \n",
            "=================================================================\n",
            "Total params: 21,270,598\n",
            "Trainable params: 21,270,598\n",
            "Non-trainable params: 0\n",
            "_________________________________________________________________\n"
          ]
        }
      ],
      "source": [
        "model_vgg.summary()"
      ]
    },
    {
      "cell_type": "code",
      "execution_count": 27,
      "metadata": {
        "id": "yc_jAAxhXSIq"
      },
      "outputs": [],
      "source": [
        "model_vgg.compile(\n",
        "  loss='categorical_crossentropy',\n",
        "  optimizer='adam',\n",
        "  metrics=['accuracy']\n",
        ")"
      ]
    },
    {
      "cell_type": "code",
      "execution_count": 28,
      "metadata": {
        "colab": {
          "base_uri": "https://localhost:8080/",
          "height": 1000
        },
        "id": "-2Eqw_oqXWdQ",
        "outputId": "853f7bfc-6636-4fbb-fd56-922d0f0baf0b"
      },
      "outputs": [
        {
          "output_type": "execute_result",
          "data": {
            "text/plain": [
              "<IPython.core.display.Image object>"
            ],
            "image/png": "[encoded data removed]"
          },
          "metadata": {},
          "execution_count": 28
        }
      ],
      "source": [
        "from tensorflow.keras.utils import plot_model\n",
        "plot_model(model_vgg, to_file='model_vgc.png')"
      ]
    },
    {
      "cell_type": "code",
      "execution_count": 30,
      "metadata": {
        "colab": {
          "base_uri": "https://localhost:8080/"
        },
        "id": "DWg0So8HXa-B",
        "outputId": "a07e450c-2360-41b2-fd39-edbe6e045df5"
      },
      "outputs": [
        {
          "output_type": "stream",
          "name": "stderr",
          "text": [
            "Some layers from the model checkpoint at roberta-base were not used when initializing TFRobertaModel: ['lm_head']\n",
            "- This IS expected if you are initializing TFRobertaModel from the checkpoint of a model trained on another task or with another architecture (e.g. initializing a BertForSequenceClassification model from a BertForPreTraining model).\n",
            "- This IS NOT expected if you are initializing TFRobertaModel from the checkpoint of a model that you expect to be exactly identical (initializing a BertForSequenceClassification model from a BertForSequenceClassification model).\n",
            "All the layers of TFRobertaModel were initialized from the model checkpoint at roberta-base.\n",
            "If your task is similar to the task the model of the checkpoint was trained on, you can already use TFRobertaModel for predictions without further training.\n"
          ]
        }
      ],
      "source": [
        "input_word_ids = tf.keras.Input(shape=(MAX_LEN,), dtype=tf.int32, name='input_word_ids')\n",
        "input_mask = tf.keras.Input(shape=(MAX_LEN,), dtype=tf.int32, name='input_mask')\n",
        "segment_ids = tf.keras.Input(shape=(MAX_LEN,), dtype=tf.int32, name='segment_ids')\n",
        "roberta_model = TFRobertaModel.from_pretrained('roberta-base')\n",
        "x = roberta_model([input_word_ids,input_mask,segment_ids])\n",
        "x = x[0]\n",
        "x = tf.keras.layers.Dense(256, activation='relu')(x)\n",
        "x = tf.keras.layers.Dense(256, activation='relu')(x)\n",
        "x = tf.keras.layers.Flatten()(x)\n",
        "x = tf.keras.layers.Dense(256, activation='relu')(x)\n",
        "output= tf.keras.layers.Dense(6,activation='softmax')(x)\n",
        "model_roberta = tf.keras.Model(inputs=[input_word_ids,input_mask,segment_ids], outputs=[output])"
      ]
    },
    {
      "cell_type": "code",
      "execution_count": 31,
      "metadata": {
        "id": "QDH3YDcxYSj-"
      },
      "outputs": [],
      "source": [
        "for layer in model_roberta.layers:\n",
        "    layer.trainable = True"
      ]
    },
    {
      "cell_type": "code",
      "execution_count": 32,
      "metadata": {
        "colab": {
          "base_uri": "https://localhost:8080/"
        },
        "id": "6WaL1ja6YY1S",
        "outputId": "2c178ede-2e1a-46f9-e931-01beb666df09"
      },
      "outputs": [
        {
          "output_type": "stream",
          "name": "stdout",
          "text": [
            "Model: \"model_2\"\n",
            "__________________________________________________________________________________________________\n",
            " Layer (type)                   Output Shape         Param #     Connected to                     \n",
            "==================================================================================================\n",
            " input_word_ids (InputLayer)    [(None, 50)]         0           []                               \n",
            "                                                                                                  \n",
            " input_mask (InputLayer)        [(None, 50)]         0           []                               \n",
            "                                                                                                  \n",
            " segment_ids (InputLayer)       [(None, 50)]         0           []                               \n",
            "                                                                                                  \n",
            " tf_roberta_model_1 (TFRobertaM  TFBaseModelOutputWi  124645632  ['input_word_ids[0][0]',         \n",
            " odel)                          thPoolingAndCrossAt               'input_mask[0][0]',             \n",
            "                                tentions(last_hidde               'segment_ids[0][0]']            \n",
            "                                n_state=(None, 50,                                                \n",
            "                                768),                                                             \n",
            "                                 pooler_output=(Non                                               \n",
            "                                e, 768),                                                          \n",
            "                                 past_key_values=No                                               \n",
            "                                ne, hidden_states=N                                               \n",
            "                                one, attentions=Non                                               \n",
            "                                e, cross_attentions                                               \n",
            "                                =None)                                                            \n",
            "                                                                                                  \n",
            " dense_8 (Dense)                (None, 50, 256)      196864      ['tf_roberta_model_1[0][0]']     \n",
            "                                                                                                  \n",
            " dense_9 (Dense)                (None, 50, 256)      65792       ['dense_8[0][0]']                \n",
            "                                                                                                  \n",
            " flatten_4 (Flatten)            (None, 12800)        0           ['dense_9[0][0]']                \n",
            "                                                                                                  \n",
            " dense_10 (Dense)               (None, 256)          3277056     ['flatten_4[0][0]']              \n",
            "                                                                                                  \n",
            " dense_11 (Dense)               (None, 6)            1542        ['dense_10[0][0]']               \n",
            "                                                                                                  \n",
            "==================================================================================================\n",
            "Total params: 128,186,886\n",
            "Trainable params: 128,186,886\n",
            "Non-trainable params: 0\n",
            "__________________________________________________________________________________________________\n"
          ]
        }
      ],
      "source": [
        "model_roberta.summary()"
      ]
    },
    {
      "cell_type": "code",
      "source": [
        "model_roberta.compile(\n",
        "            optimizer=tf.keras.optimizers.Adam(lr=1e-5),\n",
        "            loss='categorical_crossentropy',\n",
        "            metrics=['accuracy'])"
      ],
      "metadata": {
        "id": "9tn5eJLptjaL"
      },
      "execution_count": 33,
      "outputs": []
    },
    {
      "cell_type": "code",
      "execution_count": 34,
      "metadata": {
        "colab": {
          "base_uri": "https://localhost:8080/",
          "height": 661
        },
        "id": "c2vpsGN0YfvR",
        "outputId": "48075826-15e0-4cd8-bc2e-06919b2c7139"
      },
      "outputs": [
        {
          "output_type": "execute_result",
          "data": {
            "text/plain": [
              "<IPython.core.display.Image object>"
            ],
            "image/png": "[encoded data removed]"
          },
          "metadata": {},
          "execution_count": 34
        }
      ],
      "source": [
        "plot_model(model_roberta, to_file='bert_roberta.png')"
      ]
    },
    {
      "cell_type": "code",
      "execution_count": 35,
      "metadata": {
        "id": "0vGAGAl1YoyG"
      },
      "outputs": [],
      "source": [
        "# Stacking Late-fusion multimodal model\n",
        "\n",
        "input_word_ids = layers.Input(shape=(max_length,), dtype=tf.int32,\n",
        "                                       name=\"input_word_ids\")\n",
        "input_mask = layers.Input(shape=(max_length,), dtype=tf.int32,\n",
        "                                   name=\"input_mask\")\n",
        "segment_ids = layers.Input(shape=(max_length,), dtype=tf.int32,\n",
        "                                    name=\"segment_ids\")\n",
        "image_input = layers.Input(shape = input_shape, dtype=tf.float32,\n",
        "                           name = \"image\")\n",
        "\n",
        "image_side = model_vgg(image_input)\n",
        "text_side = model_roberta([input_word_ids, input_mask, segment_ids])\n",
        "# Concatenate features from images and texts\n",
        "merged = layers.Concatenate()([image_side, text_side])\n",
        "merged = layers.Dense(224, activation = 'relu')(merged)\n",
        "#merged = layers.Dense(224, activation = 'relu')(merged)\n",
        "output = layers.Dense(nClasses, activation='softmax', name = \"class\")(merged)"
      ]
    },
    {
      "cell_type": "code",
      "execution_count": 36,
      "metadata": {
        "id": "dkmb7x0YYxX0"
      },
      "outputs": [],
      "source": [
        "model_combined= models.Model([input_word_ids, input_mask, segment_ids, image_input], output)"
      ]
    },
    {
      "cell_type": "code",
      "execution_count": 37,
      "metadata": {
        "colab": {
          "base_uri": "https://localhost:8080/"
        },
        "id": "0JRfr6LeY1wP",
        "outputId": "e73e5dad-9b42-4d93-919a-5ad38a9d1492"
      },
      "outputs": [
        {
          "output_type": "stream",
          "name": "stdout",
          "text": [
            "Model: \"model_3\"\n",
            "__________________________________________________________________________________________________\n",
            " Layer (type)                   Output Shape         Param #     Connected to                     \n",
            "==================================================================================================\n",
            " image (InputLayer)             [(None, 224, 224, 3  0           []                               \n",
            "                                )]                                                                \n",
            "                                                                                                  \n",
            " input_word_ids (InputLayer)    [(None, 50)]         0           []                               \n",
            "                                                                                                  \n",
            " input_mask (InputLayer)        [(None, 50)]         0           []                               \n",
            "                                                                                                  \n",
            " segment_ids (InputLayer)       [(None, 50)]         0           []                               \n",
            "                                                                                                  \n",
            " model (Functional)             (None, 6)            21270598    ['image[0][0]']                  \n",
            "                                                                                                  \n",
            " model_2 (Functional)           (None, 6)            128186886   ['input_word_ids[0][0]',         \n",
            "                                                                  'input_mask[0][0]',             \n",
            "                                                                  'segment_ids[0][0]']            \n",
            "                                                                                                  \n",
            " concatenate (Concatenate)      (None, 12)           0           ['model[0][0]',                  \n",
            "                                                                  'model_2[0][0]']                \n",
            "                                                                                                  \n",
            " dense_12 (Dense)               (None, 224)          2912        ['concatenate[0][0]']            \n",
            "                                                                                                  \n",
            " class (Dense)                  (None, 6)            1350        ['dense_12[0][0]']               \n",
            "                                                                                                  \n",
            "==================================================================================================\n",
            "Total params: 149,461,746\n",
            "Trainable params: 149,461,746\n",
            "Non-trainable params: 0\n",
            "__________________________________________________________________________________________________\n"
          ]
        }
      ],
      "source": [
        "model_combined.summary()"
      ]
    },
    {
      "cell_type": "code",
      "execution_count": 38,
      "metadata": {
        "colab": {
          "base_uri": "https://localhost:8080/",
          "height": 466
        },
        "id": "nrmLsiMFY7hw",
        "outputId": "0c1b63cb-473c-46e1-97d9-6270dbfd0cfe"
      },
      "outputs": [
        {
          "output_type": "execute_result",
          "data": {
            "text/plain": [
              "<IPython.core.display.Image object>"
            ],
            "image/png": "[encoded data removed]"
          },
          "metadata": {},
          "execution_count": 38
        }
      ],
      "source": [
        "from tensorflow.keras.utils import plot_model\n",
        "plot_model(model_combined, to_file='multimodal_RoBERTa+VGC16.png')"
      ]
    },
    {
      "cell_type": "code",
      "execution_count": 39,
      "metadata": {
        "id": "viF_EBt-ZDf2"
      },
      "outputs": [],
      "source": [
        "# Stochastic Gradient Descent optimizer\n",
        "sgd = optimizers.SGD(learning_rate=0.0001, momentum=0.9, nesterov=False)\n",
        "\n",
        "# Compile model\n",
        "model_combined.compile(loss='categorical_crossentropy', \n",
        "              optimizer=sgd, \n",
        "              metrics=['accuracy'])"
      ]
    },
    {
      "cell_type": "code",
      "execution_count": 40,
      "metadata": {
        "colab": {
          "base_uri": "https://localhost:8080/"
        },
        "id": "STEkNebMZFzG",
        "outputId": "587e4692-47be-4b84-c7a0-c469d5f08010"
      },
      "outputs": [
        {
          "output_type": "stream",
          "name": "stdout",
          "text": [
            "<keras.callbacks.ModelCheckpoint object at 0x7fba3de49610>\n",
            "<keras.callbacks.CSVLogger object at 0x7fbac8709c90>\n"
          ]
        }
      ],
      "source": [
        "# Setup callbacks, logs and early stopping condition\n",
        "import keras\n",
        "from keras import callbacks\n",
        "import numpy as np\n",
        "import h5py\n",
        "from keras.layers import Dense\n",
        "from keras.callbacks import ModelCheckpoint\n",
        "checkpoint_path = \"stacking_early_fusion.weights-improvement-{epoch:02d}-{val_accuracy:.2f}.hdf5\"\n",
        "#checkpoint_path= \"weights-improvement-{epoch:02d}-{val_accuracy:.2f}.hdf5\"\n",
        "cp = callbacks.ModelCheckpoint(checkpoint_path, monitor='val_accuracy',save_best_only=True, save_weights_only=True, verbose=1, mode='max')\n",
        "print(cp)\n",
        "csv_logger = callbacks.CSVLogger('StackingEarlyFusion.log')\n",
        "print(csv_logger)\n",
        "es = callbacks.EarlyStopping(patience = 3, restore_best_weights=True)"
      ]
    },
    {
      "cell_type": "code",
      "execution_count": 41,
      "metadata": {
        "id": "BEmERpRAZILy"
      },
      "outputs": [],
      "source": [
        "#Reduce learning rate if no improvement is observed\n",
        "from keras.callbacks import ReduceLROnPlateau\n",
        "reduce_lr = callbacks.ReduceLROnPlateau(\n",
        "    monitor='val_accuracy', factor=0.1, patience=1, min_lr=0.00001)"
      ]
    },
    {
      "cell_type": "code",
      "execution_count": 42,
      "metadata": {
        "colab": {
          "base_uri": "https://localhost:8080/"
        },
        "id": "04Nku3v7ZO0o",
        "outputId": "ce9d62f0-5ac6-4cde-84d0-36ad295965e4"
      },
      "outputs": [
        {
          "output_type": "stream",
          "name": "stdout",
          "text": [
            "Epoch 1/10\n",
            "WARNING:tensorflow:Gradients do not exist for variables ['tf_roberta_model_1/roberta/pooler/dense/kernel:0', 'tf_roberta_model_1/roberta/pooler/dense/bias:0'] when minimizing the loss. If you're using `model.compile()`, did you forget to provide a `loss`argument?\n",
            "WARNING:tensorflow:Gradients do not exist for variables ['tf_roberta_model_1/roberta/pooler/dense/kernel:0', 'tf_roberta_model_1/roberta/pooler/dense/bias:0'] when minimizing the loss. If you're using `model.compile()`, did you forget to provide a `loss`argument?\n",
            "128/128 [==============================] - ETA: 0s - loss: 1.7925 - accuracy: 0.1653\n",
            "Epoch 1: val_accuracy improved from -inf to 0.16815, saving model to stacking_early_fusion.weights-improvement-01-0.17.hdf5\n",
            "128/128 [==============================] - 1038s 8s/step - loss: 1.7925 - accuracy: 0.1653 - val_loss: 1.7922 - val_accuracy: 0.1682 - lr: 1.0000e-04\n",
            "Epoch 2/10\n",
            "128/128 [==============================] - ETA: 0s - loss: 1.7919 - accuracy: 0.1655\n",
            "Epoch 2: val_accuracy did not improve from 0.16815\n",
            "128/128 [==============================] - 117s 876ms/step - loss: 1.7919 - accuracy: 0.1655 - val_loss: 1.7916 - val_accuracy: 0.1674 - lr: 1.0000e-04\n",
            "Epoch 3/10\n",
            "128/128 [==============================] - ETA: 0s - loss: 1.7912 - accuracy: 0.1699\n",
            "Epoch 3: val_accuracy did not improve from 0.16815\n",
            "128/128 [==============================] - 114s 891ms/step - loss: 1.7912 - accuracy: 0.1699 - val_loss: 1.7913 - val_accuracy: 0.1667 - lr: 1.0000e-05\n",
            "Epoch 4/10\n",
            "128/128 [==============================] - ETA: 0s - loss: 1.7913 - accuracy: 0.1682\n",
            "Epoch 4: val_accuracy did not improve from 0.16815\n",
            "128/128 [==============================] - 114s 895ms/step - loss: 1.7913 - accuracy: 0.1682 - val_loss: 1.7915 - val_accuracy: 0.1674 - lr: 1.0000e-05\n",
            "Epoch 5/10\n",
            "128/128 [==============================] - ETA: 0s - loss: 1.7912 - accuracy: 0.1635\n",
            "Epoch 5: val_accuracy did not improve from 0.16815\n",
            "128/128 [==============================] - 115s 903ms/step - loss: 1.7912 - accuracy: 0.1635 - val_loss: 1.7913 - val_accuracy: 0.1667 - lr: 1.0000e-05\n",
            "Epoch 6/10\n",
            "128/128 [==============================] - ETA: 0s - loss: 1.7910 - accuracy: 0.1682\n",
            "Epoch 6: val_accuracy did not improve from 0.16815\n",
            "128/128 [==============================] - 115s 897ms/step - loss: 1.7910 - accuracy: 0.1682 - val_loss: 1.7916 - val_accuracy: 0.1667 - lr: 1.0000e-05\n",
            "Epoch 7/10\n",
            "128/128 [==============================] - ETA: 0s - loss: 1.7914 - accuracy: 0.1635\n",
            "Epoch 7: val_accuracy did not improve from 0.16815\n",
            "128/128 [==============================] - 114s 895ms/step - loss: 1.7914 - accuracy: 0.1635 - val_loss: 1.7913 - val_accuracy: 0.1667 - lr: 1.0000e-05\n",
            "Epoch 8/10\n",
            "128/128 [==============================] - ETA: 0s - loss: 1.7910 - accuracy: 0.1687\n",
            "Epoch 8: val_accuracy did not improve from 0.16815\n",
            "128/128 [==============================] - 115s 896ms/step - loss: 1.7910 - accuracy: 0.1687 - val_loss: 1.7912 - val_accuracy: 0.1667 - lr: 1.0000e-05\n",
            "Epoch 9/10\n",
            "128/128 [==============================] - ETA: 0s - loss: 1.7910 - accuracy: 0.1667\n",
            "Epoch 9: val_accuracy did not improve from 0.16815\n",
            "128/128 [==============================] - 115s 897ms/step - loss: 1.7910 - accuracy: 0.1667 - val_loss: 1.7911 - val_accuracy: 0.1682 - lr: 1.0000e-05\n",
            "Epoch 10/10\n",
            "128/128 [==============================] - ETA: 0s - loss: 1.7910 - accuracy: 0.1679\n",
            "Epoch 10: val_accuracy improved from 0.16815 to 0.16890, saving model to stacking_early_fusion.weights-improvement-10-0.17.hdf5\n",
            "128/128 [==============================] - 117s 919ms/step - loss: 1.7910 - accuracy: 0.1679 - val_loss: 1.7910 - val_accuracy: 0.1689 - lr: 1.0000e-05\n"
          ]
        }
      ],
      "source": [
        "# Training\n",
        "history = model_combined.fit(data_train,\n",
        "                    epochs=10,\n",
        "                    steps_per_epoch = train.shape[0] //batch_size,\n",
        "                    validation_data = data_test,\n",
        "                    validation_steps = test.shape[0] //batch_size,\n",
        "                    callbacks=[cp, csv_logger, reduce_lr])"
      ]
    },
    {
      "cell_type": "code",
      "source": [
        ""
      ],
      "metadata": {
        "id": "8Dv2ExuVwbhH"
      },
      "execution_count": null,
      "outputs": []
    }
  ],
  "metadata": {
    "accelerator": "GPU",
    "colab": {
      "name": "RoBERTa+VGG16_3Dense_LateFusion+1_Dense.ipynb",
      "provenance": [],
      "collapsed_sections": []
    },
    "gpuClass": "standard",
    "kernelspec": {
      "display_name": "Python 3",
      "name": "python3"
    },
    "language_info": {
      "name": "python"
    },
    "widgets": {
      "application/vnd.jupyter.widget-state+json": {
        "f821eb454f7e4ecc85970309085587ed": {
          "model_module": "@jupyter-widgets/controls",
          "model_name": "HBoxModel",
          "model_module_version": "1.5.0",
          "state": {
            "_dom_classes": [],
            "_model_module": "@jupyter-widgets/controls",
            "_model_module_version": "1.5.0",
            "_model_name": "HBoxModel",
            "_view_count": null,
            "_view_module": "@jupyter-widgets/controls",
            "_view_module_version": "1.5.0",
            "_view_name": "HBoxView",
            "box_style": "",
            "children": [
              "IPY_MODEL_88045a43f26741e2b84fd6cf8d62c8b4",
              "IPY_MODEL_012b91bb75184c17be35d68efad1f8df",
              "IPY_MODEL_7b1e151521924e2da3e6f5f48c9e9ff0"
            ],
            "layout": "IPY_MODEL_7fdf40d6286a46eda316ae147b59cf92"
          }
        },
        "88045a43f26741e2b84fd6cf8d62c8b4": {
          "model_module": "@jupyter-widgets/controls",
          "model_name": "HTMLModel",
          "model_module_version": "1.5.0",
          "state": {
            "_dom_classes": [],
            "_model_module": "@jupyter-widgets/controls",
            "_model_module_version": "1.5.0",
            "_model_name": "HTMLModel",
            "_view_count": null,
            "_view_module": "@jupyter-widgets/controls",
            "_view_module_version": "1.5.0",
            "_view_name": "HTMLView",
            "description": "",
            "description_tooltip": null,
            "layout": "IPY_MODEL_ed5b73be671240809eab2cc5b8c8284d",
            "placeholder": "​",
            "style": "IPY_MODEL_be03328b1792442baf852e766352617b",
            "value": "Downloading: 100%"
          }
        },
        "012b91bb75184c17be35d68efad1f8df": {
          "model_module": "@jupyter-widgets/controls",
          "model_name": "FloatProgressModel",
          "model_module_version": "1.5.0",
          "state": {
            "_dom_classes": [],
            "_model_module": "@jupyter-widgets/controls",
            "_model_module_version": "1.5.0",
            "_model_name": "FloatProgressModel",
            "_view_count": null,
            "_view_module": "@jupyter-widgets/controls",
            "_view_module_version": "1.5.0",
            "_view_name": "ProgressView",
            "bar_style": "success",
            "description": "",
            "description_tooltip": null,
            "layout": "IPY_MODEL_5d08dbb6d3b84b01b4b3911e8c4dc940",
            "max": 898823,
            "min": 0,
            "orientation": "horizontal",
            "style": "IPY_MODEL_69f2ac6caee84851ba120238e92c1faf",
            "value": 898823
          }
        },
        "7b1e151521924e2da3e6f5f48c9e9ff0": {
          "model_module": "@jupyter-widgets/controls",
          "model_name": "HTMLModel",
          "model_module_version": "1.5.0",
          "state": {
            "_dom_classes": [],
            "_model_module": "@jupyter-widgets/controls",
            "_model_module_version": "1.5.0",
            "_model_name": "HTMLModel",
            "_view_count": null,
            "_view_module": "@jupyter-widgets/controls",
            "_view_module_version": "1.5.0",
            "_view_name": "HTMLView",
            "description": "",
            "description_tooltip": null,
            "layout": "IPY_MODEL_f688ecae0bda45d8b00fb75ddc0e2f5e",
            "placeholder": "​",
            "style": "IPY_MODEL_d555b3e0e82940c1934aafc0e185d21f",
            "value": " 878k/878k [00:00&lt;00:00, 2.72MB/s]"
          }
        },
        "7fdf40d6286a46eda316ae147b59cf92": {
          "model_module": "@jupyter-widgets/base",
          "model_name": "LayoutModel",
          "model_module_version": "1.2.0",
          "state": {
            "_model_module": "@jupyter-widgets/base",
            "_model_module_version": "1.2.0",
            "_model_name": "LayoutModel",
            "_view_count": null,
            "_view_module": "@jupyter-widgets/base",
            "_view_module_version": "1.2.0",
            "_view_name": "LayoutView",
            "align_content": null,
            "align_items": null,
            "align_self": null,
            "border": null,
            "bottom": null,
            "display": null,
            "flex": null,
            "flex_flow": null,
            "grid_area": null,
            "grid_auto_columns": null,
            "grid_auto_flow": null,
            "grid_auto_rows": null,
            "grid_column": null,
            "grid_gap": null,
            "grid_row": null,
            "grid_template_areas": null,
            "grid_template_columns": null,
            "grid_template_rows": null,
            "height": null,
            "justify_content": null,
            "justify_items": null,
            "left": null,
            "margin": null,
            "max_height": null,
            "max_width": null,
            "min_height": null,
            "min_width": null,
            "object_fit": null,
            "object_position": null,
            "order": null,
            "overflow": null,
            "overflow_x": null,
            "overflow_y": null,
            "padding": null,
            "right": null,
            "top": null,
            "visibility": null,
            "width": null
          }
        },
        "ed5b73be671240809eab2cc5b8c8284d": {
          "model_module": "@jupyter-widgets/base",
          "model_name": "LayoutModel",
          "model_module_version": "1.2.0",
          "state": {
            "_model_module": "@jupyter-widgets/base",
            "_model_module_version": "1.2.0",
            "_model_name": "LayoutModel",
            "_view_count": null,
            "_view_module": "@jupyter-widgets/base",
            "_view_module_version": "1.2.0",
            "_view_name": "LayoutView",
            "align_content": null,
            "align_items": null,
            "align_self": null,
            "border": null,
            "bottom": null,
            "display": null,
            "flex": null,
            "flex_flow": null,
            "grid_area": null,
            "grid_auto_columns": null,
            "grid_auto_flow": null,
            "grid_auto_rows": null,
            "grid_column": null,
            "grid_gap": null,
            "grid_row": null,
            "grid_template_areas": null,
            "grid_template_columns": null,
            "grid_template_rows": null,
            "height": null,
            "justify_content": null,
            "justify_items": null,
            "left": null,
            "margin": null,
            "max_height": null,
            "max_width": null,
            "min_height": null,
            "min_width": null,
            "object_fit": null,
            "object_position": null,
            "order": null,
            "overflow": null,
            "overflow_x": null,
            "overflow_y": null,
            "padding": null,
            "right": null,
            "top": null,
            "visibility": null,
            "width": null
          }
        },
        "be03328b1792442baf852e766352617b": {
          "model_module": "@jupyter-widgets/controls",
          "model_name": "DescriptionStyleModel",
          "model_module_version": "1.5.0",
          "state": {
            "_model_module": "@jupyter-widgets/controls",
            "_model_module_version": "1.5.0",
            "_model_name": "DescriptionStyleModel",
            "_view_count": null,
            "_view_module": "@jupyter-widgets/base",
            "_view_module_version": "1.2.0",
            "_view_name": "StyleView",
            "description_width": ""
          }
        },
        "5d08dbb6d3b84b01b4b3911e8c4dc940": {
          "model_module": "@jupyter-widgets/base",
          "model_name": "LayoutModel",
          "model_module_version": "1.2.0",
          "state": {
            "_model_module": "@jupyter-widgets/base",
            "_model_module_version": "1.2.0",
            "_model_name": "LayoutModel",
            "_view_count": null,
            "_view_module": "@jupyter-widgets/base",
            "_view_module_version": "1.2.0",
            "_view_name": "LayoutView",
            "align_content": null,
            "align_items": null,
            "align_self": null,
            "border": null,
            "bottom": null,
            "display": null,
            "flex": null,
            "flex_flow": null,
            "grid_area": null,
            "grid_auto_columns": null,
            "grid_auto_flow": null,
            "grid_auto_rows": null,
            "grid_column": null,
            "grid_gap": null,
            "grid_row": null,
            "grid_template_areas": null,
            "grid_template_columns": null,
            "grid_template_rows": null,
            "height": null,
            "justify_content": null,
            "justify_items": null,
            "left": null,
            "margin": null,
            "max_height": null,
            "max_width": null,
            "min_height": null,
            "min_width": null,
            "object_fit": null,
            "object_position": null,
            "order": null,
            "overflow": null,
            "overflow_x": null,
            "overflow_y": null,
            "padding": null,
            "right": null,
            "top": null,
            "visibility": null,
            "width": null
          }
        },
        "69f2ac6caee84851ba120238e92c1faf": {
          "model_module": "@jupyter-widgets/controls",
          "model_name": "ProgressStyleModel",
          "model_module_version": "1.5.0",
          "state": {
            "_model_module": "@jupyter-widgets/controls",
            "_model_module_version": "1.5.0",
            "_model_name": "ProgressStyleModel",
            "_view_count": null,
            "_view_module": "@jupyter-widgets/base",
            "_view_module_version": "1.2.0",
            "_view_name": "StyleView",
            "bar_color": null,
            "description_width": ""
          }
        },
        "f688ecae0bda45d8b00fb75ddc0e2f5e": {
          "model_module": "@jupyter-widgets/base",
          "model_name": "LayoutModel",
          "model_module_version": "1.2.0",
          "state": {
            "_model_module": "@jupyter-widgets/base",
            "_model_module_version": "1.2.0",
            "_model_name": "LayoutModel",
            "_view_count": null,
            "_view_module": "@jupyter-widgets/base",
            "_view_module_version": "1.2.0",
            "_view_name": "LayoutView",
            "align_content": null,
            "align_items": null,
            "align_self": null,
            "border": null,
            "bottom": null,
            "display": null,
            "flex": null,
            "flex_flow": null,
            "grid_area": null,
            "grid_auto_columns": null,
            "grid_auto_flow": null,
            "grid_auto_rows": null,
            "grid_column": null,
            "grid_gap": null,
            "grid_row": null,
            "grid_template_areas": null,
            "grid_template_columns": null,
            "grid_template_rows": null,
            "height": null,
            "justify_content": null,
            "justify_items": null,
            "left": null,
            "margin": null,
            "max_height": null,
            "max_width": null,
            "min_height": null,
            "min_width": null,
            "object_fit": null,
            "object_position": null,
            "order": null,
            "overflow": null,
            "overflow_x": null,
            "overflow_y": null,
            "padding": null,
            "right": null,
            "top": null,
            "visibility": null,
            "width": null
          }
        },
        "d555b3e0e82940c1934aafc0e185d21f": {
          "model_module": "@jupyter-widgets/controls",
          "model_name": "DescriptionStyleModel",
          "model_module_version": "1.5.0",
          "state": {
            "_model_module": "@jupyter-widgets/controls",
            "_model_module_version": "1.5.0",
            "_model_name": "DescriptionStyleModel",
            "_view_count": null,
            "_view_module": "@jupyter-widgets/base",
            "_view_module_version": "1.2.0",
            "_view_name": "StyleView",
            "description_width": ""
          }
        },
        "99e83efe78fa4e00b6da49f2c6e82854": {
          "model_module": "@jupyter-widgets/controls",
          "model_name": "HBoxModel",
          "model_module_version": "1.5.0",
          "state": {
            "_dom_classes": [],
            "_model_module": "@jupyter-widgets/controls",
            "_model_module_version": "1.5.0",
            "_model_name": "HBoxModel",
            "_view_count": null,
            "_view_module": "@jupyter-widgets/controls",
            "_view_module_version": "1.5.0",
            "_view_name": "HBoxView",
            "box_style": "",
            "children": [
              "IPY_MODEL_5d579bd44ff04ad29203279dffff49c9",
              "IPY_MODEL_76e7fab916b449269def878370ddc0b8",
              "IPY_MODEL_66b58a0755ed4c81bdd10feef6885daa"
            ],
            "layout": "IPY_MODEL_5df75e8f73284fc9bc9eab32b81b53a8"
          }
        },
        "5d579bd44ff04ad29203279dffff49c9": {
          "model_module": "@jupyter-widgets/controls",
          "model_name": "HTMLModel",
          "model_module_version": "1.5.0",
          "state": {
            "_dom_classes": [],
            "_model_module": "@jupyter-widgets/controls",
            "_model_module_version": "1.5.0",
            "_model_name": "HTMLModel",
            "_view_count": null,
            "_view_module": "@jupyter-widgets/controls",
            "_view_module_version": "1.5.0",
            "_view_name": "HTMLView",
            "description": "",
            "description_tooltip": null,
            "layout": "IPY_MODEL_49b1b603bc8a4e35a631c56fc56339e1",
            "placeholder": "​",
            "style": "IPY_MODEL_7fa283224f8448cb8f57ca816b775570",
            "value": "Downloading: 100%"
          }
        },
        "76e7fab916b449269def878370ddc0b8": {
          "model_module": "@jupyter-widgets/controls",
          "model_name": "FloatProgressModel",
          "model_module_version": "1.5.0",
          "state": {
            "_dom_classes": [],
            "_model_module": "@jupyter-widgets/controls",
            "_model_module_version": "1.5.0",
            "_model_name": "FloatProgressModel",
            "_view_count": null,
            "_view_module": "@jupyter-widgets/controls",
            "_view_module_version": "1.5.0",
            "_view_name": "ProgressView",
            "bar_style": "success",
            "description": "",
            "description_tooltip": null,
            "layout": "IPY_MODEL_732603c590694015a5ab0f8d8e9e9582",
            "max": 456318,
            "min": 0,
            "orientation": "horizontal",
            "style": "IPY_MODEL_6f011e4f2dc4419a8c31f73a2ab9d3bf",
            "value": 456318
          }
        },
        "66b58a0755ed4c81bdd10feef6885daa": {
          "model_module": "@jupyter-widgets/controls",
          "model_name": "HTMLModel",
          "model_module_version": "1.5.0",
          "state": {
            "_dom_classes": [],
            "_model_module": "@jupyter-widgets/controls",
            "_model_module_version": "1.5.0",
            "_model_name": "HTMLModel",
            "_view_count": null,
            "_view_module": "@jupyter-widgets/controls",
            "_view_module_version": "1.5.0",
            "_view_name": "HTMLView",
            "description": "",
            "description_tooltip": null,
            "layout": "IPY_MODEL_52d59f008d6e4823a84323a7c4c584d6",
            "placeholder": "​",
            "style": "IPY_MODEL_d7dd84355bbe48b0a84e9b04819937b3",
            "value": " 446k/446k [00:00&lt;00:00, 952kB/s]"
          }
        },
        "5df75e8f73284fc9bc9eab32b81b53a8": {
          "model_module": "@jupyter-widgets/base",
          "model_name": "LayoutModel",
          "model_module_version": "1.2.0",
          "state": {
            "_model_module": "@jupyter-widgets/base",
            "_model_module_version": "1.2.0",
            "_model_name": "LayoutModel",
            "_view_count": null,
            "_view_module": "@jupyter-widgets/base",
            "_view_module_version": "1.2.0",
            "_view_name": "LayoutView",
            "align_content": null,
            "align_items": null,
            "align_self": null,
            "border": null,
            "bottom": null,
            "display": null,
            "flex": null,
            "flex_flow": null,
            "grid_area": null,
            "grid_auto_columns": null,
            "grid_auto_flow": null,
            "grid_auto_rows": null,
            "grid_column": null,
            "grid_gap": null,
            "grid_row": null,
            "grid_template_areas": null,
            "grid_template_columns": null,
            "grid_template_rows": null,
            "height": null,
            "justify_content": null,
            "justify_items": null,
            "left": null,
            "margin": null,
            "max_height": null,
            "max_width": null,
            "min_height": null,
            "min_width": null,
            "object_fit": null,
            "object_position": null,
            "order": null,
            "overflow": null,
            "overflow_x": null,
            "overflow_y": null,
            "padding": null,
            "right": null,
            "top": null,
            "visibility": null,
            "width": null
          }
        },
        "49b1b603bc8a4e35a631c56fc56339e1": {
          "model_module": "@jupyter-widgets/base",
          "model_name": "LayoutModel",
          "model_module_version": "1.2.0",
          "state": {
            "_model_module": "@jupyter-widgets/base",
            "_model_module_version": "1.2.0",
            "_model_name": "LayoutModel",
            "_view_count": null,
            "_view_module": "@jupyter-widgets/base",
            "_view_module_version": "1.2.0",
            "_view_name": "LayoutView",
            "align_content": null,
            "align_items": null,
            "align_self": null,
            "border": null,
            "bottom": null,
            "display": null,
            "flex": null,
            "flex_flow": null,
            "grid_area": null,
            "grid_auto_columns": null,
            "grid_auto_flow": null,
            "grid_auto_rows": null,
            "grid_column": null,
            "grid_gap": null,
            "grid_row": null,
            "grid_template_areas": null,
            "grid_template_columns": null,
            "grid_template_rows": null,
            "height": null,
            "justify_content": null,
            "justify_items": null,
            "left": null,
            "margin": null,
            "max_height": null,
            "max_width": null,
            "min_height": null,
            "min_width": null,
            "object_fit": null,
            "object_position": null,
            "order": null,
            "overflow": null,
            "overflow_x": null,
            "overflow_y": null,
            "padding": null,
            "right": null,
            "top": null,
            "visibility": null,
            "width": null
          }
        },
        "7fa283224f8448cb8f57ca816b775570": {
          "model_module": "@jupyter-widgets/controls",
          "model_name": "DescriptionStyleModel",
          "model_module_version": "1.5.0",
          "state": {
            "_model_module": "@jupyter-widgets/controls",
            "_model_module_version": "1.5.0",
            "_model_name": "DescriptionStyleModel",
            "_view_count": null,
            "_view_module": "@jupyter-widgets/base",
            "_view_module_version": "1.2.0",
            "_view_name": "StyleView",
            "description_width": ""
          }
        },
        "732603c590694015a5ab0f8d8e9e9582": {
          "model_module": "@jupyter-widgets/base",
          "model_name": "LayoutModel",
          "model_module_version": "1.2.0",
          "state": {
            "_model_module": "@jupyter-widgets/base",
            "_model_module_version": "1.2.0",
            "_model_name": "LayoutModel",
            "_view_count": null,
            "_view_module": "@jupyter-widgets/base",
            "_view_module_version": "1.2.0",
            "_view_name": "LayoutView",
            "align_content": null,
            "align_items": null,
            "align_self": null,
            "border": null,
            "bottom": null,
            "display": null,
            "flex": null,
            "flex_flow": null,
            "grid_area": null,
            "grid_auto_columns": null,
            "grid_auto_flow": null,
            "grid_auto_rows": null,
            "grid_column": null,
            "grid_gap": null,
            "grid_row": null,
            "grid_template_areas": null,
            "grid_template_columns": null,
            "grid_template_rows": null,
            "height": null,
            "justify_content": null,
            "justify_items": null,
            "left": null,
            "margin": null,
            "max_height": null,
            "max_width": null,
            "min_height": null,
            "min_width": null,
            "object_fit": null,
            "object_position": null,
            "order": null,
            "overflow": null,
            "overflow_x": null,
            "overflow_y": null,
            "padding": null,
            "right": null,
            "top": null,
            "visibility": null,
            "width": null
          }
        },
        "6f011e4f2dc4419a8c31f73a2ab9d3bf": {
          "model_module": "@jupyter-widgets/controls",
          "model_name": "ProgressStyleModel",
          "model_module_version": "1.5.0",
          "state": {
            "_model_module": "@jupyter-widgets/controls",
            "_model_module_version": "1.5.0",
            "_model_name": "ProgressStyleModel",
            "_view_count": null,
            "_view_module": "@jupyter-widgets/base",
            "_view_module_version": "1.2.0",
            "_view_name": "StyleView",
            "bar_color": null,
            "description_width": ""
          }
        },
        "52d59f008d6e4823a84323a7c4c584d6": {
          "model_module": "@jupyter-widgets/base",
          "model_name": "LayoutModel",
          "model_module_version": "1.2.0",
          "state": {
            "_model_module": "@jupyter-widgets/base",
            "_model_module_version": "1.2.0",
            "_model_name": "LayoutModel",
            "_view_count": null,
            "_view_module": "@jupyter-widgets/base",
            "_view_module_version": "1.2.0",
            "_view_name": "LayoutView",
            "align_content": null,
            "align_items": null,
            "align_self": null,
            "border": null,
            "bottom": null,
            "display": null,
            "flex": null,
            "flex_flow": null,
            "grid_area": null,
            "grid_auto_columns": null,
            "grid_auto_flow": null,
            "grid_auto_rows": null,
            "grid_column": null,
            "grid_gap": null,
            "grid_row": null,
            "grid_template_areas": null,
            "grid_template_columns": null,
            "grid_template_rows": null,
            "height": null,
            "justify_content": null,
            "justify_items": null,
            "left": null,
            "margin": null,
            "max_height": null,
            "max_width": null,
            "min_height": null,
            "min_width": null,
            "object_fit": null,
            "object_position": null,
            "order": null,
            "overflow": null,
            "overflow_x": null,
            "overflow_y": null,
            "padding": null,
            "right": null,
            "top": null,
            "visibility": null,
            "width": null
          }
        },
        "d7dd84355bbe48b0a84e9b04819937b3": {
          "model_module": "@jupyter-widgets/controls",
          "model_name": "DescriptionStyleModel",
          "model_module_version": "1.5.0",
          "state": {
            "_model_module": "@jupyter-widgets/controls",
            "_model_module_version": "1.5.0",
            "_model_name": "DescriptionStyleModel",
            "_view_count": null,
            "_view_module": "@jupyter-widgets/base",
            "_view_module_version": "1.2.0",
            "_view_name": "StyleView",
            "description_width": ""
          }
        },
        "acbfa131c35e48b8b0353ddf39ca8a9a": {
          "model_module": "@jupyter-widgets/controls",
          "model_name": "HBoxModel",
          "model_module_version": "1.5.0",
          "state": {
            "_dom_classes": [],
            "_model_module": "@jupyter-widgets/controls",
            "_model_module_version": "1.5.0",
            "_model_name": "HBoxModel",
            "_view_count": null,
            "_view_module": "@jupyter-widgets/controls",
            "_view_module_version": "1.5.0",
            "_view_name": "HBoxView",
            "box_style": "",
            "children": [
              "IPY_MODEL_bd43bd02515e4f769306ed5fde7b6ea0",
              "IPY_MODEL_53aa991fe8ea4ff6a426fd163d663867",
              "IPY_MODEL_873deac6e13a4ccea121fd5e02b39514"
            ],
            "layout": "IPY_MODEL_0d9feabed69140d2b0cbf976ae34aea6"
          }
        },
        "bd43bd02515e4f769306ed5fde7b6ea0": {
          "model_module": "@jupyter-widgets/controls",
          "model_name": "HTMLModel",
          "model_module_version": "1.5.0",
          "state": {
            "_dom_classes": [],
            "_model_module": "@jupyter-widgets/controls",
            "_model_module_version": "1.5.0",
            "_model_name": "HTMLModel",
            "_view_count": null,
            "_view_module": "@jupyter-widgets/controls",
            "_view_module_version": "1.5.0",
            "_view_name": "HTMLView",
            "description": "",
            "description_tooltip": null,
            "layout": "IPY_MODEL_d24a556b39214e46aab0ec198bd6c514",
            "placeholder": "​",
            "style": "IPY_MODEL_d82248161d0240efac95bd6f22330e73",
            "value": "Downloading: 100%"
          }
        },
        "53aa991fe8ea4ff6a426fd163d663867": {
          "model_module": "@jupyter-widgets/controls",
          "model_name": "FloatProgressModel",
          "model_module_version": "1.5.0",
          "state": {
            "_dom_classes": [],
            "_model_module": "@jupyter-widgets/controls",
            "_model_module_version": "1.5.0",
            "_model_name": "FloatProgressModel",
            "_view_count": null,
            "_view_module": "@jupyter-widgets/controls",
            "_view_module_version": "1.5.0",
            "_view_name": "ProgressView",
            "bar_style": "success",
            "description": "",
            "description_tooltip": null,
            "layout": "IPY_MODEL_100fd32347d44145887465dc67f072a6",
            "max": 481,
            "min": 0,
            "orientation": "horizontal",
            "style": "IPY_MODEL_e53ed8c5310c4d7081b94322c3b91b68",
            "value": 481
          }
        },
        "873deac6e13a4ccea121fd5e02b39514": {
          "model_module": "@jupyter-widgets/controls",
          "model_name": "HTMLModel",
          "model_module_version": "1.5.0",
          "state": {
            "_dom_classes": [],
            "_model_module": "@jupyter-widgets/controls",
            "_model_module_version": "1.5.0",
            "_model_name": "HTMLModel",
            "_view_count": null,
            "_view_module": "@jupyter-widgets/controls",
            "_view_module_version": "1.5.0",
            "_view_name": "HTMLView",
            "description": "",
            "description_tooltip": null,
            "layout": "IPY_MODEL_bdb1b4aef5a14814923b6192dbd462af",
            "placeholder": "​",
            "style": "IPY_MODEL_00f4ae1b9d724fc48ebe7bfb5176c69a",
            "value": " 481/481 [00:00&lt;00:00, 13.9kB/s]"
          }
        },
        "0d9feabed69140d2b0cbf976ae34aea6": {
          "model_module": "@jupyter-widgets/base",
          "model_name": "LayoutModel",
          "model_module_version": "1.2.0",
          "state": {
            "_model_module": "@jupyter-widgets/base",
            "_model_module_version": "1.2.0",
            "_model_name": "LayoutModel",
            "_view_count": null,
            "_view_module": "@jupyter-widgets/base",
            "_view_module_version": "1.2.0",
            "_view_name": "LayoutView",
            "align_content": null,
            "align_items": null,
            "align_self": null,
            "border": null,
            "bottom": null,
            "display": null,
            "flex": null,
            "flex_flow": null,
            "grid_area": null,
            "grid_auto_columns": null,
            "grid_auto_flow": null,
            "grid_auto_rows": null,
            "grid_column": null,
            "grid_gap": null,
            "grid_row": null,
            "grid_template_areas": null,
            "grid_template_columns": null,
            "grid_template_rows": null,
            "height": null,
            "justify_content": null,
            "justify_items": null,
            "left": null,
            "margin": null,
            "max_height": null,
            "max_width": null,
            "min_height": null,
            "min_width": null,
            "object_fit": null,
            "object_position": null,
            "order": null,
            "overflow": null,
            "overflow_x": null,
            "overflow_y": null,
            "padding": null,
            "right": null,
            "top": null,
            "visibility": null,
            "width": null
          }
        },
        "d24a556b39214e46aab0ec198bd6c514": {
          "model_module": "@jupyter-widgets/base",
          "model_name": "LayoutModel",
          "model_module_version": "1.2.0",
          "state": {
            "_model_module": "@jupyter-widgets/base",
            "_model_module_version": "1.2.0",
            "_model_name": "LayoutModel",
            "_view_count": null,
            "_view_module": "@jupyter-widgets/base",
            "_view_module_version": "1.2.0",
            "_view_name": "LayoutView",
            "align_content": null,
            "align_items": null,
            "align_self": null,
            "border": null,
            "bottom": null,
            "display": null,
            "flex": null,
            "flex_flow": null,
            "grid_area": null,
            "grid_auto_columns": null,
            "grid_auto_flow": null,
            "grid_auto_rows": null,
            "grid_column": null,
            "grid_gap": null,
            "grid_row": null,
            "grid_template_areas": null,
            "grid_template_columns": null,
            "grid_template_rows": null,
            "height": null,
            "justify_content": null,
            "justify_items": null,
            "left": null,
            "margin": null,
            "max_height": null,
            "max_width": null,
            "min_height": null,
            "min_width": null,
            "object_fit": null,
            "object_position": null,
            "order": null,
            "overflow": null,
            "overflow_x": null,
            "overflow_y": null,
            "padding": null,
            "right": null,
            "top": null,
            "visibility": null,
            "width": null
          }
        },
        "d82248161d0240efac95bd6f22330e73": {
          "model_module": "@jupyter-widgets/controls",
          "model_name": "DescriptionStyleModel",
          "model_module_version": "1.5.0",
          "state": {
            "_model_module": "@jupyter-widgets/controls",
            "_model_module_version": "1.5.0",
            "_model_name": "DescriptionStyleModel",
            "_view_count": null,
            "_view_module": "@jupyter-widgets/base",
            "_view_module_version": "1.2.0",
            "_view_name": "StyleView",
            "description_width": ""
          }
        },
        "100fd32347d44145887465dc67f072a6": {
          "model_module": "@jupyter-widgets/base",
          "model_name": "LayoutModel",
          "model_module_version": "1.2.0",
          "state": {
            "_model_module": "@jupyter-widgets/base",
            "_model_module_version": "1.2.0",
            "_model_name": "LayoutModel",
            "_view_count": null,
            "_view_module": "@jupyter-widgets/base",
            "_view_module_version": "1.2.0",
            "_view_name": "LayoutView",
            "align_content": null,
            "align_items": null,
            "align_self": null,
            "border": null,
            "bottom": null,
            "display": null,
            "flex": null,
            "flex_flow": null,
            "grid_area": null,
            "grid_auto_columns": null,
            "grid_auto_flow": null,
            "grid_auto_rows": null,
            "grid_column": null,
            "grid_gap": null,
            "grid_row": null,
            "grid_template_areas": null,
            "grid_template_columns": null,
            "grid_template_rows": null,
            "height": null,
            "justify_content": null,
            "justify_items": null,
            "left": null,
            "margin": null,
            "max_height": null,
            "max_width": null,
            "min_height": null,
            "min_width": null,
            "object_fit": null,
            "object_position": null,
            "order": null,
            "overflow": null,
            "overflow_x": null,
            "overflow_y": null,
            "padding": null,
            "right": null,
            "top": null,
            "visibility": null,
            "width": null
          }
        },
        "e53ed8c5310c4d7081b94322c3b91b68": {
          "model_module": "@jupyter-widgets/controls",
          "model_name": "ProgressStyleModel",
          "model_module_version": "1.5.0",
          "state": {
            "_model_module": "@jupyter-widgets/controls",
            "_model_module_version": "1.5.0",
            "_model_name": "ProgressStyleModel",
            "_view_count": null,
            "_view_module": "@jupyter-widgets/base",
            "_view_module_version": "1.2.0",
            "_view_name": "StyleView",
            "bar_color": null,
            "description_width": ""
          }
        },
        "bdb1b4aef5a14814923b6192dbd462af": {
          "model_module": "@jupyter-widgets/base",
          "model_name": "LayoutModel",
          "model_module_version": "1.2.0",
          "state": {
            "_model_module": "@jupyter-widgets/base",
            "_model_module_version": "1.2.0",
            "_model_name": "LayoutModel",
            "_view_count": null,
            "_view_module": "@jupyter-widgets/base",
            "_view_module_version": "1.2.0",
            "_view_name": "LayoutView",
            "align_content": null,
            "align_items": null,
            "align_self": null,
            "border": null,
            "bottom": null,
            "display": null,
            "flex": null,
            "flex_flow": null,
            "grid_area": null,
            "grid_auto_columns": null,
            "grid_auto_flow": null,
            "grid_auto_rows": null,
            "grid_column": null,
            "grid_gap": null,
            "grid_row": null,
            "grid_template_areas": null,
            "grid_template_columns": null,
            "grid_template_rows": null,
            "height": null,
            "justify_content": null,
            "justify_items": null,
            "left": null,
            "margin": null,
            "max_height": null,
            "max_width": null,
            "min_height": null,
            "min_width": null,
            "object_fit": null,
            "object_position": null,
            "order": null,
            "overflow": null,
            "overflow_x": null,
            "overflow_y": null,
            "padding": null,
            "right": null,
            "top": null,
            "visibility": null,
            "width": null
          }
        },
        "00f4ae1b9d724fc48ebe7bfb5176c69a": {
          "model_module": "@jupyter-widgets/controls",
          "model_name": "DescriptionStyleModel",
          "model_module_version": "1.5.0",
          "state": {
            "_model_module": "@jupyter-widgets/controls",
            "_model_module_version": "1.5.0",
            "_model_name": "DescriptionStyleModel",
            "_view_count": null,
            "_view_module": "@jupyter-widgets/base",
            "_view_module_version": "1.2.0",
            "_view_name": "StyleView",
            "description_width": ""
          }
        }
      }
    }
  },
  "nbformat": 4,
  "nbformat_minor": 0
}